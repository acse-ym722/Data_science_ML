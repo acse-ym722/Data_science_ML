# 001
{
  "cells": [
    {
      "cell_type": "markdown",
      "id": "0b998d02",
      "metadata": {
        "id": "0b998d02"
      },
      "source": [
        "<center><h1 style=\"color:maroon\">Data Science and Machine Learning</h1>\n",
        "<img src=\"https://github.com/acse-ym722/Data_science_ML/blob/main/figures/spaceship.jpeg?raw=1\" style=\"width:1300px;\">\n",
        "    <h3><span style=\"color: #045F5F\">Data Science & Machine Learning for Planet Earth Lecture Series</span></h3><h6><i> by Cédric M. John <span style=\"size:6pts\">(2022)</span></i></h6></center>"
      ]
    },
    {
      "cell_type": "markdown",
      "id": "e9790f25",
      "metadata": {
        "id": "e9790f25"
      },
      "source": [
        "## Plan for this lecture 👨🏿‍🎓 "
      ]
    },
    {
      "cell_type": "markdown",
      "id": "0ac8389c",
      "metadata": {
        "id": "0ac8389c"
      },
      "source": [
        "* Module introduction\n",
        "* The landscape of Machine Learning \n",
        "* Introduction to Scikit-Learn \n",
        "* Overview of Data Preprocessing \n",
        "* Concept of Generalization\n",
        "* Parametric vs non-parametric models"
      ]
    },
    {
      "cell_type": "markdown",
      "id": "5ee4a048",
      "metadata": {
        "id": "5ee4a048"
      },
      "source": [
        "## Intended learning outcomes 👨🏿‍🎓 "
      ]
    },
    {
      "cell_type": "markdown",
      "id": "25f98159",
      "metadata": {
        "id": "25f98159"
      },
      "source": [
        "* Introduction to Data Science \n",
        "* Consolidate your NumPy and Pandas skills \n",
        "* Confidently preprocess data for analysis \n",
        "* Basic use of the Scikit-learn Library "
      ]
    },
    {
      "cell_type": "markdown",
      "id": "38a82dd4",
      "metadata": {
        "id": "38a82dd4"
      },
      "source": [
        "# Introduction to the Module\n",
        "<br>\n",
        "\n",
        "<center><img src=\"https://github.com/acse-ym722/Data_science_ML/blob/main/figures/DALLE_intro.png?raw=1\" style=\"width:900px;\">\n",
        " © Cédric John, 2022; Image generated with <a href=\"https://openai.com/blog/dall-e/\">DALL-E</a>\n",
        "<br>Prompt: <i>A futuristic looking office with a large bay window showing a landscape of a red planet with a dark night sky full of stars</i>.</center>"
      ]
    },
    {
      "cell_type": "markdown",
      "id": "83246434",
      "metadata": {
        "id": "83246434"
      },
      "source": [
        "# How this module fits within your MSc\n",
        "<center><img src=\"https://github.com/acse-ym722/Data_science_ML/blob/main/figures/Msc_structure_8.png?raw=1\" style=\"width:1500px;\"></center>"
      ]
    },
    {
      "cell_type": "markdown",
      "id": "8845731c",
      "metadata": {
        "id": "8845731c"
      },
      "source": [
        "## Role of Exercises in this module 🏃‍♀️"
      ]
    },
    {
      "cell_type": "markdown",
      "id": "d504dd78",
      "metadata": {
        "id": "d504dd78"
      },
      "source": [
        "* Learning is through theory ***AND*** practice\n",
        "* Exercises are thus an essential part of the module "
      ]
    },
    {
      "cell_type": "markdown",
      "id": "e31f39b8",
      "metadata": {
        "id": "e31f39b8"
      },
      "source": [
        "### Aims and Expectations:"
      ]
    },
    {
      "cell_type": "markdown",
      "id": "8cf941eb",
      "metadata": {
        "id": "8cf941eb"
      },
      "source": [
        "* **🍎 Expectations**: There are 4-5 exercises in a full day (2 on Wednesdays). Everyone should manage to finish <span style=\"color: red\">at least two exercises</span>. Ideally, everyone most of you should be able to finish <span style=\"color: green\">three to four</span> exercises in the 3-4 hours given for this."
      ]
    },
    {
      "cell_type": "markdown",
      "id": "9e35ae0c",
      "metadata": {
        "id": "9e35ae0c"
      },
      "source": [
        "* **🍌 Approach**: Try as much as possible to solve the problems on your own first, <span style=\"color: blue\">use documentation and StackOverview</span> and debug your own code before calling for help."
      ]
    },
    {
      "cell_type": "markdown",
      "id": "475a7fa1",
      "metadata": {
        "id": "475a7fa1"
      },
      "source": [
        "* **🥭 If you are done early**: There are open-ended problems with data for you to sink your teeth into (the `Data-Playground` folder)"
      ]
    },
    {
      "cell_type": "markdown",
      "id": "f861ecd2",
      "metadata": {
        "id": "f861ecd2"
      },
      "source": [
        "* **🧪 In notebook tests**: I have created tests for you to automatically check your solutions - use them!"
      ]
    },
    {
      "cell_type": "markdown",
      "id": "83be4e9c",
      "metadata": {
        "id": "83be4e9c"
      },
      "source": [
        "## Assessment 💯"
      ]
    },
    {
      "cell_type": "code",
      "source": [
        "TEST"
      ],
      "metadata": {
        "id": "MY-t6WO-Dyjh"
      },
      "id": "MY-t6WO-Dyjh",
      "execution_count": null,
      "outputs": []
    },
    {
      "cell_type": "markdown",
      "id": "d002e671",
      "metadata": {
        "id": "d002e671"
      },
      "source": [
        "### Timed Coursework ⏰\n",
        "* <code>Friday, November 18th, 1-5 pm </code>(4 hours)\n",
        "* Mixes theory with practice\n",
        "* You are given data, and asked to solve a 'real' data science problem using your skillset\n",
        "* Very similar to the exercises you will do, but 1️⃣ with less guidance (a bit more open ended) and 2️⃣ also contains short questions"
      ]
    },
    {
      "cell_type": "markdown",
      "id": "6305f489",
      "metadata": {
        "id": "6305f489"
      },
      "source": [
        "### Marking Criteria ✔️\n",
        "* How well you solve the problem / answer the questions\n",
        "* How clean (sustainable) your code is (good syntax, clean notebook, good use of markdown, some/not too many comments, etc...)\n",
        "* How complete your solution is\n",
        "* ***No plagiarism or naive copy-pasting of code***"
      ]
    },
    {
      "cell_type": "markdown",
      "id": "b3d8866d",
      "metadata": {
        "id": "b3d8866d"
      },
      "source": [
        "\n",
        "# Machine Learning vs General Programming"
      ]
    },
    {
      "cell_type": "markdown",
      "id": "ed179898",
      "metadata": {
        "id": "ed179898"
      },
      "source": [
        "* In <span style=\"color: blue\">**general programming**</span>, the output is the result of applying a set of rules (the \"program\") to input data. "
      ]
    },
    {
      "cell_type": "markdown",
      "id": "18c2439f",
      "metadata": {
        "id": "18c2439f"
      },
      "source": [
        "* In <span style=\"color: teal\">**machine learning**</span> the rules are not pre-defined: instead, the input (**features**) and expected outputs (**labels**) are given and the computer learns the rules from the underlying statistics of the data."
      ]
    },
    {
      "cell_type": "markdown",
      "id": "b163f14a",
      "metadata": {
        "id": "b163f14a"
      },
      "source": [
        "## Types of Machine Learning Approaches\n",
        "<center><img src=\"https://github.com/acse-ym722/Data_science_ML/blob/main/figures/types_of_ML.jpg?raw=1\" style=\"height:1000px;\"></center>\n",
        "<a href=\"https://www.elsevier.com/books/python-programming-and-numerical-methods/kong/978-0-12-819549-9\">Kong et al (2020)</a>"
      ]
    },
    {
      "cell_type": "markdown",
      "id": "0d71776b",
      "metadata": {
        "id": "0d71776b"
      },
      "source": [
        "## Math and Statistics vs Machine Learning\n",
        "<center><img src=\"https://github.com/acse-ym722/Data_science_ML/blob/main/figures/math_vs_ML_4.png?raw=1\" style=\"height:1000px;\"></center>"
      ]
    },
    {
      "cell_type": "markdown",
      "id": "ef20a246",
      "metadata": {
        "id": "ef20a246"
      },
      "source": [
        "## Model vs Data-Centric AI\n",
        "<center><img src=\"https://github.com/acse-ym722/Data_science_ML/blob/main/figures/data_centric_AI.png?raw=1\" style=\"height:1000px;\"></center>\n",
        "<a href=\"https://landing.ai/tips-for-a-data-centric-ai-approach/\">Andrew Ng, Landing AI (2021)</a>\n",
        "\n",
        "\n"
      ]
    },
    {
      "cell_type": "markdown",
      "id": "cc423a2c",
      "metadata": {
        "id": "cc423a2c"
      },
      "source": [
        "# Data Preparation\n",
        "<br>\n",
        "\n",
        "<center><img src=\"https://github.com/acse-ym722/Data_science_ML/blob/main/figures/DALLE_dataprep.png?raw=1\" style=\"width:900px;\">\n",
        " © Cédric John, 2022; Image generated with <a href=\"https://openai.com/blog/dall-e/\">DALL-E</a>\n",
        "<br>Prompt: <i>A 35 mm upward looking view of an astronaute in gray space suite shovelling a pile of old floppy disks, digital art</i>.</center>"
      ]
    },
    {
      "cell_type": "markdown",
      "id": "13a48c5e",
      "metadata": {
        "id": "13a48c5e"
      },
      "source": [
        "## Data Types\n",
        "\n",
        "<center><img src=\"https://github.com/acse-ym722/Data_science_ML/blob/main/figures/data_types.png?raw=1\" style=\"width:2000px;\"></center>"
      ]
    },
    {
      "cell_type": "markdown",
      "id": "8588299a",
      "metadata": {
        "id": "8588299a"
      },
      "source": [
        "## Jargon\n",
        "<center><img src=\"https://github.com/acse-ym722/Data_science_ML/blob/main/figures/features.png?raw=1\" style=\"width:2000px;\"></center> \n"
      ]
    },
    {
      "cell_type": "markdown",
      "id": "8c22caf8",
      "metadata": {
        "id": "8c22caf8"
      },
      "source": [
        "## Machine Learning: General Workflow\n",
        "\n",
        "<img align=\"center\" src=\"https://github.com/acse-ym722/Data_science_ML/blob/main/figures/MLMap.png?raw=1\" width=\"1500px\"/>\n",
        "\n",
        "\n",
        "<a href=\"https://link.springer.com/book/10.1007/978-1-4842-3207-1\">Sarkar et al (2018)</a>, chapter 1\n"
      ]
    },
    {
      "cell_type": "markdown",
      "id": "361ac68a",
      "metadata": {
        "id": "361ac68a"
      },
      "source": [
        "\n",
        "<img align=\"center\" src=\"https://github.com/acse-ym722/Data_science_ML/blob/main/figures/ML_time_spent.png?raw=1\" width=\"1400px\"/>\n",
        "<a href=\"https://visit.figure-eight.com/rs/416-ZBE-142/images/CrowdFlower_DataScienceReport_2016.pdf\">CrowdFlower Data Science Report (2016)</a>\n"
      ]
    },
    {
      "cell_type": "markdown",
      "id": "691410dc",
      "metadata": {
        "id": "691410dc"
      },
      "source": [
        "## Data Preparation "
      ]
    },
    {
      "cell_type": "markdown",
      "id": "6a94855d",
      "metadata": {
        "id": "6a94855d"
      },
      "source": [
        "<img align=\"center\" src=\"https://github.com/acse-ym722/Data_science_ML/blob/main/figures/preparation_steps.png?raw=1\" width=\"1800px\"/>\n"
      ]
    },
    {
      "cell_type": "markdown",
      "id": "ab08d013",
      "metadata": {
        "id": "ab08d013"
      },
      "source": [
        "## Scikit-learn "
      ]
    },
    {
      "cell_type": "markdown",
      "id": "7d593028",
      "metadata": {
        "id": "7d593028"
      },
      "source": [
        "<a href=https://scikit-learn.org>Scikit-learn (Sklearn)</a> is a Machine Learning library that provides data preprocessing, modelling, and model selection tools.\n"
      ]
    },
    {
      "cell_type": "markdown",
      "id": "86a65f1c",
      "metadata": {
        "id": "86a65f1c"
      },
      "source": [
        "<img align=\"center\" src=\"https://github.com/acse-ym722/Data_science_ML/blob/main/figures/popular_framework_kaggle.png?raw=1\" width=\"1300px\"/>\n",
        "<a href=\"https://storage.googleapis.com/kaggle-media/surveys/Kaggle's%20State%20of%20Machine%20Learning%20and%20Data%20Science%202021.pdf\">Kaggle State of Machine Learning, 2021</a>\n"
      ]
    },
    {
      "cell_type": "markdown",
      "id": "2ea79f93",
      "metadata": {
        "id": "2ea79f93"
      },
      "source": [
        "### Sklearn structure\n",
        "\n",
        "* Sklearn is organized by **modules**\n",
        "* Each module contains tools in the form of **classes**\n"
      ]
    },
    {
      "cell_type": "markdown",
      "id": "a28de5ea",
      "metadata": {
        "id": "a28de5ea"
      },
      "source": [
        "# Data Exploration\n",
        "<br>\n",
        "\n",
        "<center><img src=\"https://github.com/acse-ym722/Data_science_ML/blob/main/figures/DALLE_explore.png?raw=1\" style=\"width:900px;\">\n",
        " © Cédric John, 2022; Image generated with <a href=\"https://openai.com/blog/dall-e/\">DALL-E</a>\n",
        "<br>Prompt: <i>An explorer walking through the rainforest of the Americas, dramatic lighting</i>.</center>"
      ]
    },
    {
      "cell_type": "markdown",
      "id": "1f98f12f",
      "metadata": {
        "id": "1f98f12f"
      },
      "source": [
        "<img align=\"center\" src=\"https://github.com/acse-ym722/Data_science_ML/blob/main/figures/data_exploration.png?raw=1\" width=\"1000px\"/>"
      ]
    },
    {
      "cell_type": "markdown",
      "id": "54826d41",
      "metadata": {
        "id": "54826d41"
      },
      "source": [
        "### Dataset\n",
        "\n",
        "<span style=\"color:teal\">**Todays's dataset:**</span><a href=\"https://www.kaggle.com/datasets/rohanrao/air-quality-data-in-india\"> India air quality data, Kaggle</a>\n",
        "<img src=\"https://github.com/acse-ym722/Data_science_ML/blob/main/figures/air_pollution.jpg?raw=1\" style=\"width:1500px\"/>"
      ]
    },
    {
      "cell_type": "code",
      "execution_count": null,
      "id": "1dbacb68",
      "metadata": {
        "id": "1dbacb68"
      },
      "outputs": [],
      "source": [
        "import pandas as pd\n",
        "# df is your pandas.DataFrame. to_markdown requires tabulate\n",
        "\n",
        "data = pd.read_csv('data/India_air_quality.csv')\n",
        "data.head()"
      ]
    },
    {
      "cell_type": "markdown",
      "id": "5d9f0f3e",
      "metadata": {
        "id": "5d9f0f3e"
      },
      "source": [
        "## Ensuring Generalization \n"
      ]
    },
    {
      "cell_type": "markdown",
      "id": "7401c714",
      "metadata": {
        "id": "7401c714"
      },
      "source": [
        "The performance of a Machine Learning model is evaluated on its ability to **generalize** when predicting **unseen data**."
      ]
    },
    {
      "cell_type": "markdown",
      "id": "461e667f",
      "metadata": {
        "id": "461e667f"
      },
      "source": [
        "We ensure that a model that we train on data generalizes well by testing it on unseen data!"
      ]
    },
    {
      "cell_type": "markdown",
      "id": "aa2d5fb1",
      "metadata": {
        "id": "aa2d5fb1"
      },
      "source": [
        "\n",
        "### Dealing with duplicates \n"
      ]
    },
    {
      "cell_type": "markdown",
      "id": "30cedcf3",
      "metadata": {
        "id": "30cedcf3"
      },
      "source": [
        "* Unwanted duplicated observations can discredit the performance evaluation of a model because the same data can leak from the training set to the test set."
      ]
    },
    {
      "cell_type": "markdown",
      "id": "31be87ab",
      "metadata": {
        "id": "31be87ab"
      },
      "source": [
        "🚨 **REMOVING DUPLICATES IS THE ONLY OPERATION THAT NEEDS TO BE DONE BEFORE SPLITTING THE DATASET** "
      ]
    },
    {
      "cell_type": "markdown",
      "id": "984aaaaa",
      "metadata": {
        "id": "984aaaaa"
      },
      "source": [
        "### 💻 <code>drop_duplicates</code>\n"
      ]
    },
    {
      "cell_type": "code",
      "execution_count": null,
      "id": "8fbca706",
      "metadata": {
        "id": "8fbca706"
      },
      "outputs": [],
      "source": [
        "# Check number of duplicates\n",
        "data.duplicated().sum()"
      ]
    },
    {
      "cell_type": "code",
      "execution_count": null,
      "id": "8dd4527b",
      "metadata": {
        "id": "8dd4527b"
      },
      "outputs": [],
      "source": [
        "# Remove duplicates\n",
        "data = data.drop_duplicates() "
      ]
    },
    {
      "cell_type": "code",
      "execution_count": null,
      "id": "f8c71af5",
      "metadata": {
        "id": "f8c71af5"
      },
      "outputs": [],
      "source": [
        "# Check number of duplicates\n",
        "data.duplicated().sum()"
      ]
    },
    {
      "cell_type": "markdown",
      "id": "59740aa5",
      "metadata": {
        "id": "59740aa5"
      },
      "source": [
        "### Splitting data with the Holdout Method\n",
        "The Holdout Method is used to evaluate a model's ability to generalize. It consists of splitting the dataset into two sets:\n",
        "\n",
        "* **Training set** (~70%) \n",
        "* **Testing set** (~30%) \n"
      ]
    },
    {
      "cell_type": "markdown",
      "id": "cee66c47",
      "metadata": {
        "id": "cee66c47"
      },
      "source": [
        "### 💻 <code>train_test_split</code>"
      ]
    },
    {
      "cell_type": "code",
      "execution_count": null,
      "id": "67efb1ee",
      "metadata": {
        "id": "67efb1ee"
      },
      "outputs": [],
      "source": [
        "from sklearn.model_selection import train_test_split\n",
        "\n",
        "# Split the dataset\n",
        "train_set, test_set,  = train_test_split(data, test_size=0.3)"
      ]
    },
    {
      "cell_type": "markdown",
      "id": "d7046146",
      "metadata": {
        "id": "d7046146"
      },
      "source": [
        "## Exploratory Data Analysis (EDA)"
      ]
    },
    {
      "cell_type": "markdown",
      "id": "59543fa2",
      "metadata": {
        "id": "59543fa2"
      },
      "source": [
        "* A mix of statistics of tabular data and graphic exploration of the data"
      ]
    },
    {
      "cell_type": "markdown",
      "id": "c1502be2",
      "metadata": {
        "id": "c1502be2"
      },
      "source": [
        "* Applied **AFTER** splitting the data and **ONLY** on the training set"
      ]
    },
    {
      "cell_type": "markdown",
      "id": "dcdf3be2",
      "metadata": {
        "id": "dcdf3be2"
      },
      "source": [
        "* A crucial step to understand your data"
      ]
    },
    {
      "cell_type": "markdown",
      "id": "c6867471",
      "metadata": {
        "id": "c6867471"
      },
      "source": [
        "🏃‍♀️ You will learn how to **EDA** in your exercise..."
      ]
    },
    {
      "cell_type": "markdown",
      "id": "e31c457c",
      "metadata": {
        "id": "e31c457c"
      },
      "source": [
        "## Missing Data "
      ]
    },
    {
      "cell_type": "markdown",
      "id": "562a5052",
      "metadata": {
        "id": "562a5052"
      },
      "source": [
        "### Common representations\n",
        "* <code>NaN</code> (not a number) \n",
        "* Large negatives (-99,-999) \n",
        "* ? \n",
        "* Infinity "
      ]
    },
    {
      "cell_type": "markdown",
      "id": "e7d72f2a",
      "metadata": {
        "id": "e7d72f2a"
      },
      "source": [
        "🚨 Missing data does not necessarily mean no information! Some categories could be `NaN` and still valid"
      ]
    },
    {
      "cell_type": "markdown",
      "id": "4404384b",
      "metadata": {
        "id": "4404384b"
      },
      "source": [
        "### 💡Suggestion:\n",
        "* Greater than 30% of values missing: Potentially drop feature or row \n",
        "* Less than 30% of values missing: impute a value that makes sense e.g. Median, mean, mode. \n"
      ]
    },
    {
      "cell_type": "markdown",
      "id": "23e73d0a",
      "metadata": {
        "id": "23e73d0a"
      },
      "source": [
        "🏃‍♀️ You will learn how to **handle missing data** in your exercise..."
      ]
    },
    {
      "cell_type": "markdown",
      "id": "757b470a",
      "metadata": {
        "id": "757b470a"
      },
      "source": [
        "### 🖥 Sklearn's <code>SimpleImputer</code>\n",
        "<code>SimpleImputer</code> is a data <code>Transformer</code> to replace missing values by a strategy of your choice e.g. mean. <br><br>\n",
        "👉<a href=\"https://scikit-learn.org/stable/modules/generated/sklearn.impute.SimpleImputer.html\">Sklearn <code>SimpleImputer()</code> documentation</a>\n"
      ]
    },
    {
      "cell_type": "markdown",
      "id": "43c98de7",
      "metadata": {
        "id": "43c98de7"
      },
      "source": [
        "<code>imputer.fit()</code>\n",
        "* Computes the strategy for that feature \n",
        "* Stores the strategy value as an attribute "
      ]
    },
    {
      "cell_type": "markdown",
      "id": "4e8c4fac",
      "metadata": {
        "id": "4e8c4fac"
      },
      "source": [
        "<code>imputer.transform()</code>\n",
        "* Identifies missing values  \n",
        "* Replaces missing value with previously calculated strategy value "
      ]
    },
    {
      "cell_type": "code",
      "execution_count": null,
      "id": "eb9d73f9",
      "metadata": {
        "id": "eb9d73f9"
      },
      "outputs": [],
      "source": [
        "from sklearn.impute import SimpleImputer\n",
        "import numpy as np\n",
        "\n",
        "num_cols = train_set.select_dtypes(include=np.number).columns # redo numerical columns\n",
        "\n",
        "imputer = SimpleImputer(strategy=\"mean\") # Instanciate a SimpleImputer object with strategy of choice"
      ]
    },
    {
      "cell_type": "code",
      "execution_count": null,
      "id": "7dd25e92",
      "metadata": {
        "id": "7dd25e92"
      },
      "outputs": [],
      "source": [
        "imputer.fit(train_set[num_cols]) # Call the \"fit\" method on the object, using X_train numerical data "
      ]
    },
    {
      "cell_type": "code",
      "execution_count": null,
      "id": "b2eccbe3",
      "metadata": {
        "id": "b2eccbe3"
      },
      "outputs": [],
      "source": [
        "train_set[num_cols] = imputer.transform(train_set[num_cols]) # Call the \"transform\" method on the object"
      ]
    },
    {
      "cell_type": "code",
      "execution_count": null,
      "id": "3bdb61bd",
      "metadata": {
        "id": "3bdb61bd"
      },
      "outputs": [],
      "source": [
        "imputer.statistics_ # The mean is stored in the transformer's memory"
      ]
    },
    {
      "cell_type": "markdown",
      "id": "fba501c3",
      "metadata": {
        "id": "fba501c3"
      },
      "source": [
        "### How about the categorical data?"
      ]
    },
    {
      "cell_type": "code",
      "execution_count": null,
      "id": "eafa261d",
      "metadata": {
        "id": "eafa261d"
      },
      "outputs": [],
      "source": [
        "cat_cols = train_set.select_dtypes(exclude=np.number).columns\n",
        "cat_imputer = SimpleImputer(strategy=\"most_frequent\") # Instanciate a SimpleImputer object with \"most_frequent\" strategy\n",
        "\n",
        "train_set[cat_cols] = cat_imputer.fit_transform(train_set[cat_cols]) # can 'fit_transform' in one line..."
      ]
    },
    {
      "cell_type": "markdown",
      "id": "07f57e9e",
      "metadata": {
        "id": "07f57e9e"
      },
      "source": [
        "# Data Preprocessing\n",
        "<br>\n",
        "\n",
        "<center><img src=\"https://github.com/acse-ym722/Data_science_ML/blob/main/figures/DALLE_preproc.png?raw=1\" style=\"width:900px;\">\n",
        " © Cédric John, 2022; Image generated with <a href=\"https://openai.com/blog/dall-e/\">DALL-E</a>\n",
        "<br>Prompt: <i>A 35 mm macro of a fox with soft fur holdingpulling a long link of sausage in his hands, soft lighting, digital art</i>.</center>"
      ]
    },
    {
      "cell_type": "markdown",
      "id": "d65883ec",
      "metadata": {
        "id": "d65883ec"
      },
      "source": [
        "<img align=\"center\" src=\"https://github.com/acse-ym722/Data_science_ML/blob/main/figures/data_preprocessing.png?raw=1\" width=\"1600px\"/>"
      ]
    },
    {
      "cell_type": "markdown",
      "id": "dafec142",
      "metadata": {
        "id": "dafec142"
      },
      "source": [
        "## Outliers "
      ]
    },
    {
      "cell_type": "markdown",
      "id": "e9538690",
      "metadata": {
        "id": "e9538690"
      },
      "source": [
        "Outliers affect:\n",
        "* Dataset distributions and patterns \n",
        "* Central tendency metrics e.g. mean and standard deviation \n",
        "* Machine learning models' performances "
      ]
    },
    {
      "cell_type": "markdown",
      "id": "df329722",
      "metadata": {
        "id": "df329722"
      },
      "source": [
        "### Boxplot to detecting outliers\n",
        "We can use boxplots to easily visualize outliers within our dataset.\n"
      ]
    },
    {
      "cell_type": "code",
      "execution_count": null,
      "id": "31c72d65",
      "metadata": {
        "id": "31c72d65"
      },
      "outputs": [],
      "source": [
        "train_set[['no2']].boxplot();"
      ]
    },
    {
      "cell_type": "code",
      "execution_count": null,
      "id": "39818a4f",
      "metadata": {
        "id": "39818a4f"
      },
      "outputs": [],
      "source": [
        "# Does this look sensible?\n",
        "train_set['no2'].min() "
      ]
    },
    {
      "cell_type": "markdown",
      "id": "78554379",
      "metadata": {
        "id": "78554379"
      },
      "source": [
        "🏃‍♀️ You will learn how to **drop outliers** in your exercise..."
      ]
    },
    {
      "cell_type": "markdown",
      "id": "f975c1cd",
      "metadata": {
        "id": "f975c1cd"
      },
      "source": [
        "## Feature Scaling\n",
        "\n",
        "Why do we need to scale our data?"
      ]
    },
    {
      "cell_type": "markdown",
      "id": "3e6c0dd4",
      "metadata": {
        "id": "3e6c0dd4"
      },
      "source": [
        "* Features with large magnitudes can incorrectly outweigh features of small magnitudes "
      ]
    },
    {
      "cell_type": "markdown",
      "id": "337b2bf6",
      "metadata": {
        "id": "337b2bf6"
      },
      "source": [
        "* Scaling to smaller magnitudes improves computational efficiency "
      ]
    },
    {
      "cell_type": "markdown",
      "id": "ede4e383",
      "metadata": {
        "id": "ede4e383"
      },
      "source": [
        "* Increases interpretability of coefficients in parametric models"
      ]
    },
    {
      "cell_type": "markdown",
      "id": "55fe5b4e",
      "metadata": {
        "id": "55fe5b4e"
      },
      "source": [
        "* Essential for 'distance-based' models"
      ]
    },
    {
      "cell_type": "markdown",
      "id": "8d0a8b20",
      "metadata": {
        "id": "8d0a8b20"
      },
      "source": [
        "## Three common scaling algorithms\n",
        "* 👉 **Standardizing**: Sklearn <code>StandardScaler()</code>\n",
        "$$z =  \\frac{(x - mean)}{std}$$"
      ]
    },
    {
      "cell_type": "markdown",
      "id": "5a4a7aa4",
      "metadata": {
        "id": "5a4a7aa4"
      },
      "source": [
        "* 👉 **Robust Scaling**: Sklearn <code>RobustScaler()</code>\n",
        "$$Robust Scaled = \\frac{(x - median)}{IQR}$$"
      ]
    },
    {
      "cell_type": "markdown",
      "id": "9cb9ee64",
      "metadata": {
        "id": "9cb9ee64"
      },
      "source": [
        "* 👉 **Normalizing**: Sklearn <code>MinMaxScaler()</code>\n",
        "$$X' =  \\frac{(X - X_{min})}{X_{max} - X_{min}}$$"
      ]
    },
    {
      "cell_type": "markdown",
      "id": "a371903e",
      "metadata": {
        "id": "a371903e"
      },
      "source": [
        "### Standardization:\n",
        "* Most effective when data is normally distributed \n",
        "* Does not ensure an exact common range \n",
        "* Sensitive to outliers \n",
        "* Can distort relative distances between feature values "
      ]
    },
    {
      "cell_type": "markdown",
      "id": "3b8b8a9d",
      "metadata": {
        "id": "3b8b8a9d"
      },
      "source": [
        "### Robust Scaling:\n",
        "* Similar to standardization but more robust to outliers"
      ]
    },
    {
      "cell_type": "markdown",
      "id": "6415218c",
      "metadata": {
        "id": "6415218c"
      },
      "source": [
        "### Normalizing:\n",
        "* Ensures a fixed range, important with distance based algorithms like the K-Nearest Neighbours\n",
        "* Efficient regardless of distribution \n",
        "* Doesn't reduce the effect of outliers \n",
        "* Doesn't correct the skewness of a distribution \n"
      ]
    },
    {
      "cell_type": "markdown",
      "id": "480c8acb",
      "metadata": {
        "id": "480c8acb"
      },
      "source": [
        "## 💻  Scaling in Sklearn"
      ]
    },
    {
      "cell_type": "code",
      "execution_count": null,
      "id": "1f830cc4",
      "metadata": {
        "id": "1f830cc4"
      },
      "outputs": [],
      "source": [
        "from sklearn.preprocessing import StandardScaler, MinMaxScaler, RobustScaler\n",
        "import matplotlib.pyplot as plt\n",
        "\n",
        "plt.hist(train_set.rainfall); # Check feature distribution"
      ]
    },
    {
      "cell_type": "markdown",
      "id": "8b0e2ac4",
      "metadata": {
        "id": "8b0e2ac4"
      },
      "source": [
        "Comparing <code>standardization</code>, <code>robust scaling</code> and <code>normalization</code> for <code>rainfall</code> "
      ]
    },
    {
      "cell_type": "code",
      "execution_count": null,
      "id": "76df0bc8",
      "metadata": {
        "id": "76df0bc8"
      },
      "outputs": [],
      "source": [
        "standardized = StandardScaler().fit_transform(train_set[['rainfall']]) # Use scaler to transform data\n",
        "normalized = MinMaxScaler().fit_transform(train_set[['rainfall']])\n",
        "robust = RobustScaler().fit_transform(train_set[['rainfall']])\n",
        "\n",
        "fig, axes = plt.subplots(1,3, figsize=(36,8))\n",
        "\n",
        "for data, ax, title in zip([standardized, robust, normalized], \n",
        "                           axes.flatten(), \n",
        "                            ['Standardized', 'Robust Scaler','Normalized']):\n",
        "    ax.hist(data)\n",
        "    ax.set_title(title)\n",
        "\n"
      ]
    },
    {
      "cell_type": "markdown",
      "id": "76193da4",
      "metadata": {
        "id": "76193da4"
      },
      "source": [
        "Comparing <code>standardization</code>, <code>robust scaling</code> and <code>normalization</code> for <code>NO2</code> "
      ]
    },
    {
      "cell_type": "markdown",
      "id": "69b61989",
      "metadata": {
        "id": "69b61989"
      },
      "source": [
        "# Feature Engineering\n",
        "<br>\n",
        "\n",
        "<center><img src=\"https://github.com/acse-ym722/Data_science_ML/blob/main/figures/DALLE_engineering.png?raw=1\" style=\"width:900px;\">\n",
        " © Cédric John, 2022; Image generated with <a href=\"https://openai.com/blog/dall-e/\">DALL-E</a>\n",
        "<br>Prompt: <i>An Engineer looking at the waves_ by Kanagawa oki nami ura</i>.</center>"
      ]
    },
    {
      "cell_type": "markdown",
      "id": "05934a5e",
      "metadata": {
        "id": "05934a5e"
      },
      "source": [
        "**Feature engineering** is a category of preprocessing that includes encoding, discretizing and creating new features 💡\n",
        "<img align=\"center\" src=\"https://github.com/acse-ym722/Data_science_ML/blob/main/figures/feature_engineering.png?raw=1\" width=\"500px\"/>\n"
      ]
    },
    {
      "cell_type": "markdown",
      "id": "a8dfa7a5",
      "metadata": {
        "id": "a8dfa7a5"
      },
      "source": [
        "## Separating target from features \n",
        "* We don't want to scale/engineer our target \n",
        "* Here we will try to predict <code>'rspm'</code>, so we will remove them and derived data (<code>pm2_5</code> and <code>spm</code>) from the features\n"
      ]
    },
    {
      "cell_type": "code",
      "execution_count": null,
      "id": "545a9deb",
      "metadata": {
        "id": "545a9deb"
      },
      "outputs": [],
      "source": [
        "y_train = train_set['rspm']\n",
        "X_train = train_set.drop(columns=['rspm', 'spm','stn_code', 'state', 'location', 'type','date'])"
      ]
    },
    {
      "cell_type": "markdown",
      "id": "afe92f12",
      "metadata": {
        "id": "afe92f12"
      },
      "source": [
        "## Creating / transforming features \n",
        "* Create additional information \n",
        "* Reduce number of features by combining them\n",
        "* Change data distribution\n",
        "* Potentially improve model performance \n"
      ]
    },
    {
      "cell_type": "markdown",
      "id": "36afddc0",
      "metadata": {
        "id": "36afddc0"
      },
      "source": [
        "🏃‍♀️ You will learn how to **transform features to log space** in your exercise..."
      ]
    },
    {
      "cell_type": "markdown",
      "id": "f5aad2d7",
      "metadata": {
        "id": "f5aad2d7"
      },
      "source": [
        "## Discretizing / 'Binning'"
      ]
    },
    {
      "cell_type": "markdown",
      "id": "18e2eb36",
      "metadata": {
        "id": "18e2eb36"
      },
      "source": [
        "Useful in order to:\n",
        "* Turn a regression task into a classification task \n",
        "* Perform feature engineering \n",
        "👉 <a href=\"https://pandas.pydata.org/pandas-docs/stable/reference/api/pandas.cut.html\">Pandas <code>cut()</code> documentation</a>\n"
      ]
    },
    {
      "cell_type": "markdown",
      "id": "ee39788f",
      "metadata": {
        "id": "ee39788f"
      },
      "source": [
        "### 🖥 Discretizing rspm\n",
        "* Let's turn this dataset into a classification task, low or high pollution, according to a cutoff value of 2 standard deviation above the mean (chosen randomly here to represent 'high' pollution).\n"
      ]
    },
    {
      "cell_type": "code",
      "execution_count": null,
      "id": "b0027b62",
      "metadata": {
        "id": "b0027b62"
      },
      "outputs": [],
      "source": [
        "y_train_cat = pd.cut(x = y_train,\n",
        "                       bins=[y_train.min()-1,\n",
        "                             y_train.mean()-0.25*y_train.std(),\n",
        "                             y_train.max()+1], \n",
        "                       labels=['low', 'high'])\n",
        "\n",
        "y_train_cat[:5]"
      ]
    },
    {
      "cell_type": "markdown",
      "id": "e8fa7a1f",
      "metadata": {
        "id": "e8fa7a1f"
      },
      "source": [
        "## Encoding"
      ]
    },
    {
      "cell_type": "markdown",
      "id": "728695ce",
      "metadata": {
        "id": "728695ce"
      },
      "source": [
        "### Why encoding?\n",
        "* Data may be represented as words, letters, or symbols \n",
        "* Most Machine Learning algorithms only process numerical data "
      ]
    },
    {
      "cell_type": "markdown",
      "id": "798e380b",
      "metadata": {
        "id": "798e380b"
      },
      "source": [
        "### Target Encoding (aka label encoding)\n",
        "Assign a number to each category.<br><br>\n",
        "<img align=\"center\" src=\"https://github.com/acse-ym722/Data_science_ML/blob/main/figures/1_kPKvp4c462GB1NS8UotXYQ.png?raw=1\" width=\"800px\"/>\n",
        "<a href=\"https://towardsdatascience.com/categorical-encoding-techniques-93ebd18e1f24\">Towards data science</a>\n"
      ]
    },
    {
      "cell_type": "markdown",
      "id": "6c09a5ab",
      "metadata": {
        "id": "6c09a5ab"
      },
      "source": [
        "\n",
        "👉 <a href=\"https://scikit-learn.org/stable/modules/generated/sklearn.preprocessing.LabelEncoder.html\">Sklearn <code>LabelEncoder()</code> documentation</a>\n"
      ]
    },
    {
      "cell_type": "markdown",
      "id": "2232fbf0",
      "metadata": {
        "id": "2232fbf0"
      },
      "source": [
        "### One-Hot-Encoding\n",
        "Create a binary column for each possible category: used with features.<br><br>\n",
        "<img align=\"center\" src=\"https://github.com/acse-ym722/Data_science_ML/blob/main/figures/ohe.png?raw=1\" width=\"1000px\"/>\n",
        "<a href=\"https://towardsdatascience.com/encoding-categorical-variables-one-hot-vs-dummy-encoding-6d5b9c46e2db#:~:text=A%20dummy%20(binary)%20variable%20just,or%20inclusion%20of%20a%20category.&text=Image%20by%20author)-,In%20one%2Dhot%20encoding%2C,0%5D%20vector%20of%20size%203.\">Pramoditha, Towards Data Science</a>\n"
      ]
    },
    {
      "cell_type": "markdown",
      "id": "c9d2da8c",
      "metadata": {
        "id": "c9d2da8c"
      },
      "source": [
        "\n",
        "👉 <a href=\"https://scikit-learn.org/stable/modules/generated/sklearn.preprocessing.OneHotEncoder.html\">Sklearn <code>OneHotEncoder()</code> documentation</a>\n"
      ]
    },
    {
      "cell_type": "markdown",
      "id": "580ca649",
      "metadata": {
        "id": "580ca649"
      },
      "source": [
        "### 💻 One-hot-Encoding <code>type</code>"
      ]
    },
    {
      "cell_type": "code",
      "execution_count": null,
      "id": "db0158d1",
      "metadata": {
        "id": "db0158d1"
      },
      "outputs": [],
      "source": [
        "from sklearn.preprocessing import OneHotEncoder\n",
        "import numpy as np\n",
        "\n",
        "ohe = OneHotEncoder(sparse = False) # Instanciate encoder: sparse=False => returns a numpy array (as opposed to a sparse matrix)\n",
        "\n",
        "ohe.fit(train_set[['type']]) # Fit encoder\n",
        "type_encoded = ohe.transform(train_set[['type']]) # Encode type\n",
        "train_set[ohe.categories_[0]] = type_encoded\n",
        "\n",
        "train_set.head()"
      ]
    },
    {
      "cell_type": "markdown",
      "id": "6d271957",
      "metadata": {
        "id": "6d271957"
      },
      "source": [
        "#### One-Hot-Encoding vs Dummy Encoding\n",
        "* One-Hot-Encoder creates one column per category\n",
        "* Dummy encoder creates one column per category minus one (the last one is inferred from the others)"
      ]
    },
    {
      "cell_type": "markdown",
      "id": "0af25616",
      "metadata": {
        "id": "0af25616"
      },
      "source": [
        "<img align=\"center\" src=\"https://github.com/acse-ym722/Data_science_ML/blob/main/figures/dummy_encoding.png?raw=1\" width=\"1000px\"/>\n",
        "<a href=\"https://towardsdatascience.com/encoding-categorical-variables-one-hot-vs-dummy-encoding-6d5b9c46e2db#:~:text=A%20dummy%20(binary)%20variable%20just,or%20inclusion%20of%20a%20category.&text=Image%20by%20author)-,In%20one%2Dhot%20encoding%2C,0%5D%20vector%20of%20size%203.\">Pramoditha, Towards Data Science</a>"
      ]
    },
    {
      "cell_type": "markdown",
      "id": "cd195ea3",
      "metadata": {
        "id": "cd195ea3"
      },
      "source": [
        "#### One-Hot-Encoding  (Sklearn default)\n",
        "<span style=\"color:blue\">**Pros**</span>\n",
        "* All columns preserved\n",
        "\n",
        "<span style=\"color:red\">**Cons**</span>\n",
        "* Can create colinearity between variables in linear models without regularization"
      ]
    },
    {
      "cell_type": "markdown",
      "id": "44784114",
      "metadata": {
        "id": "44784114"
      },
      "source": [
        "#### Dummy Encoding\n",
        "<span style=\"color:blue\">**Pros**</span>\n",
        "* No colinearity\n",
        "* Dimensionality of data is reduced\n",
        "\n",
        "<span style=\"color:red\">**Cons**</span>\n",
        "* Loose some information"
      ]
    },
    {
      "cell_type": "markdown",
      "id": "be21cea0",
      "metadata": {
        "id": "be21cea0"
      },
      "source": [
        "## Dummy Encoding in `sklearn`\n",
        "\n",
        "Dummy encoding can easily be done in `sklearn` simply by droping one category. For instance:\n",
        "\n",
        "<code>ohe = OneHotEncoder(sparse = False, drop=['Others'])</code>"
      ]
    },
    {
      "cell_type": "markdown",
      "id": "72165530",
      "metadata": {
        "id": "72165530"
      },
      "source": [
        "🚨 The `categories_` property of the encoder still retains all of the original names: you need to manually adapt it if you want to use the column names"
      ]
    },
    {
      "cell_type": "markdown",
      "id": "966be45e",
      "metadata": {
        "id": "966be45e"
      },
      "source": [
        "# Modelling\n",
        "<br>\n",
        "\n",
        "<center><img src=\"https://github.com/acse-ym722/Data_science_ML/blob/main/figures/DALLE_modelling.png?raw=1\" style=\"width:900px;\">\n",
        " © Cédric John, 2022; Image generated with <a href=\"https://openai.com/blog/dall-e/\">DALL-E</a>\n",
        "<br>Prompt: <i>A 35 mm macro view of a model train set with a green steam engine pulling ornated passengers cars, digital art</i>.</center>"
      ]
    },
    {
      "cell_type": "markdown",
      "id": "2095b977",
      "metadata": {
        "id": "2095b977"
      },
      "source": [
        "\n",
        "<img align=\"center\" src=\"https://github.com/acse-ym722/Data_science_ML/blob/main/figures/modelling.png?raw=1\" width=\"1500\"/>"
      ]
    },
    {
      "cell_type": "markdown",
      "id": "83353197",
      "metadata": {
        "id": "83353197"
      },
      "source": [
        "### linear_model module\n",
        "* <code>linear_model</code> is a module\n",
        "* <code>LinearRegression</code> is a class\n",
        "👉 <a href=\"https://scikit-learn.org/stable/modules/classes.html#module-sklearn.linear_model\">Sklearn <code>linear_model</code> documentation</a>"
      ]
    },
    {
      "cell_type": "markdown",
      "id": "4c4505da",
      "metadata": {
        "id": "4c4505da"
      },
      "source": [
        "***Ordinary Least Square (OLS) regression [a reminder]*** <br><br>\n",
        "For ordinary least square, we can define our prediction as:\n",
        "\n",
        "$\\hat{y} = (\\beta_1 X_1 + \\beta_2 X_2 + ... + \\beta_n X_n - \\beta_0)$ <br><br>\n",
        "\n",
        "where $\\beta_i$ is a linear coefficient to the function and $\\beta_0$ is the intercept."
      ]
    },
    {
      "cell_type": "markdown",
      "id": "0292e95a",
      "metadata": {
        "id": "0292e95a"
      },
      "source": [
        "We can rewrite this more simply using matrix notation:\n",
        "\n",
        "$\\hat{y} = \\beta X$ <br><br>\n",
        "Where $X$ is the feature matrix (multivariate regression) and $\\beta$ is the matrix of coefficients. Note that a constant (<code>1</code>) is added to the feature matrix ($X_{0}$) to account for the intercept ($\\beta_{0}$)."
      ]
    },
    {
      "cell_type": "markdown",
      "id": "b8121287",
      "metadata": {
        "id": "b8121287"
      },
      "source": [
        "The goal is to find the $\\beta$ that minimizes the **residual sum of square** between our label ($y$) and $\\hat{y}$:<br><br>\n",
        "$$\\underset{\\beta}{\\mathrm{argmin}} \\sum_{i=1}^{n} \\left(y_{i} - \\hat{y}_{i} \\right)^2$$ <br><br>\n",
        "\n"
      ]
    },
    {
      "cell_type": "markdown",
      "id": "2b40e7cb",
      "metadata": {
        "id": "2b40e7cb"
      },
      "source": [
        "### Modelling rspm vs other variables"
      ]
    },
    {
      "cell_type": "code",
      "execution_count": null,
      "id": "80c3b9ad",
      "metadata": {
        "id": "80c3b9ad"
      },
      "outputs": [],
      "source": [
        "from sklearn.linear_model import LinearRegression\n",
        "import numpy as np\n",
        "\n",
        "model = LinearRegression()\n",
        "model.fit(X_train, y_train)"
      ]
    },
    {
      "cell_type": "code",
      "execution_count": null,
      "id": "b1926c70",
      "metadata": {
        "id": "b1926c70"
      },
      "outputs": [],
      "source": [
        "# predicting our train_set back!\n",
        "\n",
        "y_pred = model.predict(X_train)\n",
        "\n",
        "y_pred"
      ]
    },
    {
      "cell_type": "markdown",
      "id": "1b5f814b",
      "metadata": {
        "id": "1b5f814b"
      },
      "source": [
        "### Testing our work with K-fold cross validation\n",
        "\n",
        "* K-fold cross validation is typically used on the **training set** to guide our choices of data preparation and model parameters (using the test set would violate the philosophy of testing on unseen data)"
      ]
    },
    {
      "cell_type": "markdown",
      "id": "dcf058d2",
      "metadata": {
        "id": "dcf058d2"
      },
      "source": [
        "* The dataset is split into K number of folds "
      ]
    },
    {
      "cell_type": "markdown",
      "id": "6405ee09",
      "metadata": {
        "id": "6405ee09"
      },
      "source": [
        "* For each split, a sub model is trained and scored "
      ]
    },
    {
      "cell_type": "markdown",
      "id": "13053aaa",
      "metadata": {
        "id": "13053aaa"
      },
      "source": [
        "* The average score of all sub models is the **cross-validated** score of the model "
      ]
    },
    {
      "cell_type": "markdown",
      "id": "ea432e3f",
      "metadata": {
        "id": "ea432e3f"
      },
      "source": [
        "![k_fold](https://github.com/acse-ym722/Data_science_ML/blob/main/figures/kfold.png?raw=1)\n",
        "<a href=https://www.researchgate.net/publication/278826818_Feature_extraction_and_supervised_learning_on_fMRI_from_practice_to_theory>Pedregosa-Izquierdo (2018)</a>"
      ]
    },
    {
      "cell_type": "markdown",
      "id": "9aae7ff3",
      "metadata": {
        "id": "9aae7ff3"
      },
      "source": [
        "### Choosing K\n",
        "* Choosing K is a tradeoff between trustworthy performance evaluation and computational expense \n",
        "* More K-folds --&gt; more submodels to average scores from --&gt; more representative score --&gt; more computational time \n"
      ]
    },
    {
      "cell_type": "markdown",
      "id": "31c52f3c",
      "metadata": {
        "id": "31c52f3c"
      },
      "source": [
        "\n",
        "👍 Rule of thumb: K = 5 to 10"
      ]
    },
    {
      "cell_type": "markdown",
      "id": "21437073",
      "metadata": {
        "id": "21437073"
      },
      "source": [
        "### 💻 <code>K-fold cross validation</code>"
      ]
    },
    {
      "cell_type": "code",
      "execution_count": null,
      "id": "bd323e85",
      "metadata": {
        "id": "bd323e85"
      },
      "outputs": [],
      "source": [
        "from sklearn.model_selection import cross_validate\n",
        "\n",
        "# Instanciate model\n",
        "model = LinearRegression()"
      ]
    },
    {
      "cell_type": "code",
      "execution_count": null,
      "id": "6f50e6d9",
      "metadata": {
        "id": "6f50e6d9"
      },
      "outputs": [],
      "source": [
        "# 5-Fold Cross validate model\n",
        "cv_results = cross_validate(model, X_train, y_train, cv=5)"
      ]
    },
    {
      "cell_type": "code",
      "execution_count": null,
      "id": "214b3660",
      "metadata": {
        "id": "214b3660"
      },
      "outputs": [],
      "source": [
        "# Scores\n",
        "cv_results['test_score']"
      ]
    },
    {
      "cell_type": "code",
      "execution_count": null,
      "id": "83c9242d",
      "metadata": {
        "id": "83c9242d"
      },
      "outputs": [],
      "source": [
        "# Mean of scores\n",
        "cv_results['test_score'].mean()"
      ]
    },
    {
      "cell_type": "markdown",
      "id": "6dc8a661",
      "metadata": {
        "id": "6dc8a661"
      },
      "source": [
        "# Parametric vs Non-Parametric models\n",
        "\n",
        "\n",
        "We have seen that some models can be summarized by a set of parameters:\n"
      ]
    },
    {
      "cell_type": "markdown",
      "id": "ec1850e1",
      "metadata": {
        "id": "ec1850e1"
      },
      "source": [
        "***Ordinary Least Square (OLS) regression*** <br><br>\n",
        "\n",
        "$\\hat{y} = \\beta_1 X_1 + \\beta_2 X_2 + ... + \\beta_n X_n - \\beta_0$ <br><br>"
      ]
    },
    {
      "cell_type": "markdown",
      "id": "e7764868",
      "metadata": {
        "id": "e7764868"
      },
      "source": [
        "* If the parameters $\\beta$ of the functions are learned, these can be used to predict unknown samples"
      ]
    },
    {
      "cell_type": "markdown",
      "id": "598059e9",
      "metadata": {
        "id": "598059e9"
      },
      "source": [
        "* There are also non-parametric algorithm!"
      ]
    },
    {
      "cell_type": "markdown",
      "id": "14c9c222",
      "metadata": {
        "id": "14c9c222"
      },
      "source": [
        "# Suggested Resources"
      ]
    },
    {
      "cell_type": "markdown",
      "id": "e3de6dab",
      "metadata": {
        "id": "e3de6dab"
      },
      "source": [
        "## 📺 Videos \n",
        "#### Short videos from my Undegraduate Machine Learning Classes:\n",
        "\n",
        "My undegraduate data science course is given as a series of YouTube videos. Though the course is intended for students at a lower level than you, some of the videos might be useful reminder material for this course, so feel free to use them.\n",
        "\n",
        "*General videos about Python and its ecosystem (relates to your previous modules)*:\n",
        "* 📼 <a href=\"https://youtu.be/uteQkMvGnXk?list=PLZzjCZ3QdgQCcRIwQdd-_cJNAUgiEBB_n\">General Introduction</a>\n",
        "* 📼 <a href=\"https://youtu.be/jKZ3w1Hego4?list=PLZzjCZ3QdgQCcRIwQdd-_cJNAUgiEBB_n\">What are Data Science and Machine Learning?</a>\n",
        "* 📼 <a href=\"https://youtu.be/v9XwNlVuQe0?list=PLZzjCZ3QdgQCcRIwQdd-_cJNAUgiEBB_n\">Physics-driven vs Data-driven models</a>\n",
        "* 📼 <a href=\"https://youtu.be/am5uahXNwxU?list=PLZzjCZ3QdgQCcRIwQdd-_cJNAUgiEBB_n\">Jupyter Notebooks</a>\n",
        "* 📼 <a href=\"https://youtu.be/qZpmc_LQ55k?list=PLZzjCZ3QdgQCcRIwQdd-_cJNAUgiEBB_n\">Properties of Python</a>\n",
        "* 📼 <a href=\"https://youtu.be/l5ZUOMAv948?list=PLZzjCZ3QdgQCcRIwQdd-_cJNAUgiEBB_n\">The Art of Clean Code</a>\n",
        "* 📼 <a href=\"https://youtu.be/NLqkYpK0PsI?list=PLZzjCZ3QdgQCcRIwQdd-_cJNAUgiEBB_n\">Introduction to NumPy</a>\n",
        "* 📼 <a href=\"https://youtu.be/eSMb1Xe2svM?list=PLZzjCZ3QdgQCcRIwQdd-_cJNAUgiEBB_n\">Computation with NDArrays</a>\n",
        "* 📼 <a href=\"https://youtu.be/jox3od5OB4k?list=PLZzjCZ3QdgQCcRIwQdd-_cJNAUgiEBB_n\">Introduction to Pandas</a>\n",
        "* 📼 <a href=\"https://youtu.be/SQgrAdeZcLg?list=PLZzjCZ3QdgQCcRIwQdd-_cJNAUgiEBB_n\">Plotting Data with Matplotlib</a>\n",
        "* 📼 <a href=\"https://youtu.be/plyX3n7a0lM?list=PLZzjCZ3QdgQCcRIwQdd-_cJNAUgiEBB_n\">Linear Algebra notation</a>\n",
        "\n",
        "*Videos directly related to this lecture*:\n",
        "* 📼 <a href=\"https://youtu.be/YKRzY9oKwU8?list=PLZzjCZ3QdgQCcRIwQdd-_cJNAUgiEBB_n\">Data Preparation Overview</a>\n",
        "* 📼 <a href=\"https://youtu.be/aOAiJtNs-4Q?list=PLZzjCZ3QdgQCcRIwQdd-_cJNAUgiEBB_n\">Why Splitting data matters</a>\n",
        "* 📼 <a href=\"https://youtu.be/SieI_0PP5xM?list=PLZzjCZ3QdgQCcRIwQdd-_cJNAUgiEBB_n\">Feature Scaling</a>"
      ]
    },
    {
      "cell_type": "markdown",
      "id": "184da9b8",
      "metadata": {
        "id": "184da9b8"
      },
      "source": [
        "## 📚 Further Reading \n",
        "* 📖 <a href=\"https://www.kdnuggets.com/2019/07/check-quality-regression-model-python.html\">A deep dive into Linear regression in Scikit-Learn</a> by Tirthajyoti Sarkar\n",
        "* 📖 <a href=\"https://www.oreilly.com/library/view/hands-on-machine-learning/9781492032632/\">Hands-On Machine Learning with Scikit-Learn, Keras, and TensorFlow, 2nd Edition</a> by Aurélien Geron (chapters 1 and 4)\n",
        "* 📖 <a  href=\"https://www.ime.unicamp.br/~dias/Intoduction%20to%20Statistical%20Learning.pdf\">An introduction to statistical learning</a> by James et al (uses R, not Python)\n",
        "* 📖 <a href=\"https://pdfhost.io/pdf/331cead5-4dd6-455a-9d10-17d4e12df608/8a19e1bf-c7c2-4b4d-a671-457928e79bfa.pdf\">Andrew NG - Linear Models CS229 Notes</a>\n",
        "* 📖 <a href=\"https://www.mygreatlearning.com/blog/knn-algorithm-introduction/\">A good introduction to KNN</a> by Marina Chatterjee"
      ]
    }
  ],
  "metadata": {
    "kernelspec": {
      "display_name": "Python 3 (ipykernel)",
      "language": "python",
      "name": "python3"
    },
    "language_info": {
      "codemirror_mode": {
        "name": "ipython",
        "version": 3
      },
      "file_extension": ".py",
      "mimetype": "text/x-python",
      "name": "python",
      "nbconvert_exporter": "python",
      "pygments_lexer": "ipython3",
      "version": "3.8.12"
    },
    "colab": {
      "provenance": []
    }
  },
  "nbformat": 4,
  "nbformat_minor": 5
}
