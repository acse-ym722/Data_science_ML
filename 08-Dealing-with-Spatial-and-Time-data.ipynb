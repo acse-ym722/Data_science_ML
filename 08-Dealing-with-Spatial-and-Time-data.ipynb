{
 "cells": [
  {
   "cell_type": "markdown",
   "id": "45e06d03",
   "metadata": {},
   "source": [
    "<center><h1 style=\"color:maroon\">Dealing with Geospatial Data and Time Series</h1>\n",
    "    <img src=\"figures/08-geospatial-data.jpeg\" style=\"width:1300px\">\n",
    "    <h3><span style=\"color: #045F5F\">Data Science & Machine Learning for Planet Earth Lecture Series</span></h3><h6><i> by Cédric M. John <span style=\"size:6pts\">(2022)</span></i></h6></center>"
   ]
  },
  {
   "cell_type": "markdown",
   "id": "019c7f5f",
   "metadata": {},
   "source": [
    "## Plan for today's Lecture 🗓 "
   ]
  },
  {
   "cell_type": "markdown",
   "id": "555ff737",
   "metadata": {},
   "source": [
    "* Spatial and temporal covariance\n",
    "* Using Machine Learning to predict spatial and temporal data\n",
    "* Semivariograms and geostatistics\n",
    "* Geospacial interpolation with Kriging"
   ]
  },
  {
   "cell_type": "markdown",
   "id": "3b2c6820",
   "metadata": {},
   "source": [
    "## Intended learning outcomes 👩‍🎓"
   ]
  },
  {
   "cell_type": "markdown",
   "id": "48dadf40",
   "metadata": {},
   "source": [
    "* Be able to choose the correct train-test split method\n",
    "* Handling non-stationarity for machine learning modelling\n",
    "* Be able to extrapolate spatial data with Kriging"
   ]
  },
  {
   "cell_type": "markdown",
   "id": "a8c29d7c",
   "metadata": {},
   "source": [
    "# Geospatial Data\n",
    "<br>\n",
    "\n",
    "<center><img src=\"figures/DALLE_geospatial.png\" style=\"width:900px;\">\n",
    " © Cédric John, 2022; Image generated with <a href=\"https://openai.com/blog/dall-e/\">DALL-E</a>\n",
    "<br>Prompt: <i>A cute furry squirel with soft brown eyes uses a ruler to measure the size of the African continent, digital art</i>.</center>"
   ]
  },
  {
   "cell_type": "markdown",
   "id": "f2aeacc6",
   "metadata": {},
   "source": [
    "### Dataset\n",
    "\n",
    "<img src=\"figures/poro.png\" style=\"padding:10px;width:500px;\" align=\"left\"/>\n",
    "\n",
    "<span style=\"color:teal\">**Today's dataset:** </span> We will be playing with a geographic distribution of porosity. I borrowed this dataset from my colleague <a href=\"https://github.com/GeostatsGuy/PythonNumericalDemos\"> Prof. Michael Pyrcz on GitHub.</a> This is an ideal dataset for today as it contains data spread geographically.\n"
   ]
  },
  {
   "cell_type": "code",
   "execution_count": null,
   "id": "ee6ffc10",
   "metadata": {},
   "outputs": [],
   "source": [
    "import numpy as np\n",
    "import pandas as pd\n",
    "import matplotlib.pyplot as plt\n",
    "\n",
    "data = pd.read_csv(\"data/poro-perm.csv\")  \n",
    "data"
   ]
  },
  {
   "cell_type": "markdown",
   "id": "f06c7b52",
   "metadata": {},
   "source": [
    "#### Limiting ourselves to sand data\n",
    "\n",
    "To simplify this example, we will only look at the sandy lithologies:"
   ]
  },
  {
   "cell_type": "code",
   "execution_count": null,
   "id": "76745734",
   "metadata": {},
   "outputs": [],
   "source": [
    "sand = data[data.Facies==1]\n",
    "shale = data[data.Facies==0]"
   ]
  },
  {
   "cell_type": "code",
   "execution_count": null,
   "id": "aeb79e8e",
   "metadata": {},
   "outputs": [],
   "source": [
    "x = sand.X.values\n",
    "y = sand.Y.values\n",
    "phi = sand.Porosity.values"
   ]
  },
  {
   "cell_type": "markdown",
   "id": "f80992d1",
   "metadata": {},
   "source": [
    "# Geospatial Colinearity"
   ]
  },
  {
   "cell_type": "markdown",
   "id": "124bef1e",
   "metadata": {},
   "source": [
    "#### Let's plot the spatial variability of porosity"
   ]
  },
  {
   "cell_type": "code",
   "execution_count": null,
   "id": "2133f02e",
   "metadata": {},
   "outputs": [],
   "source": [
    "fig, ax = plt.subplots(1,1, figsize=(15,12))\n",
    "sc = ax.scatter(x, y, c=phi,s=20);ax.set_title('Measured Porosity', size=16)\n",
    "ax.set_xlabel('X Coordinates', size=14);ax.set_ylabel('Y Coordinates', size=14)\n",
    "plt.colorbar(sc);ax.set_xlim(0,1000);"
   ]
  },
  {
   "cell_type": "markdown",
   "id": "2ae9bca0",
   "metadata": {},
   "source": [
    "## Exploring relationship to distance\n",
    "\n",
    "Let's extract all datapoints from the previous graph that are between 400 and 600 units on the <code>Y</code> axis, and average their values by their position on <code>X</code>. We will also normalize <code>X</code> (distance) and <code>Porosity</code> for easier plotting on the next slide."
   ]
  },
  {
   "cell_type": "code",
   "execution_count": null,
   "id": "99fce133",
   "metadata": {},
   "outputs": [],
   "source": [
    "import matplotlib.patches as patches\n",
    "fig, ax = plt.subplots(1,1, figsize=(15,12))\n",
    "sc = ax.scatter(x, y, c=phi,s=20);ax.set_title('Measured Porosity', size=16)\n",
    "ax.set_xlabel('X Coordinates', size=14);ax.set_ylabel('Y Coordinates', size=14)\n",
    "rect = patches.Rectangle((0, 400), 1000, 200, linewidth=0, edgecolor='r', facecolor='blue', alpha=.2)\n",
    "ax.plot([0,1000],[500,500],c='blue', linewidth=4, alpha=.5)\n",
    "ax.add_patch(rect); plt.colorbar(sc);ax.set_xlim(0,1000);"
   ]
  },
  {
   "cell_type": "code",
   "execution_count": null,
   "id": "2a3c1623",
   "metadata": {},
   "outputs": [],
   "source": [
    "from sklearn.preprocessing import MinMaxScaler\n",
    "\n",
    "corr_df = sand[(sand.Y>400) & (sand.Y<600)][['X','Porosity', 'Perm']]\n",
    "corr_df = corr_df.groupby('X').mean().reset_index()\n",
    "\n",
    "corr_df = pd.DataFrame(MinMaxScaler().fit_transform(corr_df).T, corr_df.columns).T\n",
    "corr_df"
   ]
  },
  {
   "cell_type": "markdown",
   "id": "509b0274",
   "metadata": {},
   "source": [
    "### Let's plot the relationship between <code>Porosity</code> and <code>distance</code> on the X axis:"
   ]
  },
  {
   "cell_type": "code",
   "execution_count": null,
   "id": "80441a1b",
   "metadata": {},
   "outputs": [],
   "source": [
    "fig, ax = plt.subplots(1,1,figsize=(10,10))\n",
    "ool = np.linspace(0,1,10)\n",
    "ax.scatter(corr_df.X, corr_df.Porosity);ax.plot(ool,ool,c='red', linewidth=6.0, alpha=.3);\n",
    "ax.set_xlabel(\"Normalized Distance\", size=16);ax.set_ylabel(\"Normalized Porosity\", size=16);\n",
    "ax.set_xlim(0,1); ax.set_ylim(0,1);"
   ]
  },
  {
   "cell_type": "markdown",
   "id": "f7fe577f",
   "metadata": {},
   "source": [
    "❗ There is clearly a correlation between geographic position and values of porosity! This means that we have **spatial colinearity** (porosity is more closely related to points that are nearer to each other than far away)."
   ]
  },
  {
   "cell_type": "markdown",
   "id": "018a842d",
   "metadata": {},
   "source": [
    "## 💡 Reminder: basic assumption for train-test split\n",
    "\n",
    "* ✂️ We split the dataset to insure our trained machine learning model **extrapolates** well to unknown samples"
   ]
  },
  {
   "cell_type": "markdown",
   "id": "27c46e60",
   "metadata": {},
   "source": [
    "* 🎲 For data with spatial or temporal co-linearity, if we do a **random split** we will end up with data in our test set that is very similar (has strong colinearity) to data in our train set"
   ]
  },
  {
   "cell_type": "markdown",
   "id": "31be1d5e",
   "metadata": {},
   "source": [
    "* 👎 This breaks our assumption of independance of training and testing set: our assessment of the performance of our machine learning algorithm will be unrealistically high."
   ]
  },
  {
   "cell_type": "markdown",
   "id": "1ae5be18",
   "metadata": {},
   "source": [
    "# Modeling Spatial Data and Time Series with Machine Learning\n",
    "<br>\n",
    "\n",
    "<center><img src=\"figures/DALLE_watch.png\" style=\"width:900px;\">\n",
    " © Cédric John, 2022; Image generated with <a href=\"https://openai.com/blog/dall-e/\">DALL-E</a>\n",
    "<br>Prompt: <i>An oil painting of a pocket watch in dramatic green lighting, digital art</i>.</center>"
   ]
  },
  {
   "cell_type": "markdown",
   "id": "a6c600fe",
   "metadata": {},
   "source": [
    "## Geographic train-test split\n",
    "\n",
    "Often, for spatial data, the solution is to split the training and testing set based on location. This is also applicable to 1D (e.g. cores, logs) and 3D (e.g. seismic, atmospheric volume, oceans, ...) datasets. Hence, rather than take the approach shown on the left below we take the approach taken on the right:\n",
    "\n",
    "<img src=\"figures/train_test_split.png\" style=\"width:1500px\">\n",
    "<a href=\"https://en.wikipedia.org/wiki/Machine_learning_in_earth_sciences\">Wikipedia</a>"
   ]
  },
  {
   "cell_type": "markdown",
   "id": "60e36812",
   "metadata": {},
   "source": [
    "👆 This only works if the data distribution in the training set is similar to the data distribution in the test set. In other words, if the data is stationary (see below)."
   ]
  },
  {
   "cell_type": "markdown",
   "id": "91ef441b",
   "metadata": {},
   "source": [
    "## Train-test split for Time Series Forecasting\n",
    "\n",
    "For time series, we simply split along the time axis: we use the older part of the time series as the training set, and the newer part as the test set for our trained algorithm:\n",
    "\n",
    "<img src=\"figures/time_series_split.png\" style=\"width:1500\">\n",
    "<a href=\"https://machinelearningmastery.com/backtest-machine-learning-models-time-series-forecasting/\">Brownlee, 2016</a>"
   ]
  },
  {
   "cell_type": "markdown",
   "id": "925c373a",
   "metadata": {},
   "source": [
    "👆 Again, this assumes that the time series has no major trends. Let's talk about **stationarity**."
   ]
  },
  {
   "cell_type": "markdown",
   "id": "76ad1650",
   "metadata": {},
   "source": [
    "## Stationarity\n",
    "\n",
    "Stationarity is a key concept to model spatial data and to forecast time series:"
   ]
  },
  {
   "cell_type": "markdown",
   "id": "86d3800b",
   "metadata": {},
   "source": [
    "<img src=\"figures/stationarity.png\">\n",
    "<a href=\"https://towardsdatascience.com/stationarity-in-time-series-analysis-90c94f27322\">Palachy, 2019</a>"
   ]
  },
  {
   "cell_type": "markdown",
   "id": "35e8309d",
   "metadata": {},
   "source": [
    "👆 So, is out data **stationary**?"
   ]
  },
  {
   "cell_type": "code",
   "execution_count": null,
   "id": "cbcb8d1c",
   "metadata": {},
   "outputs": [],
   "source": [
    "fig, ax = plt.subplots(1,1,figsize=(20,6));ax.plot(corr_df.X, corr_df.Porosity);ax.set_xlim(0,1); ax.set_ylim(0,1);\n",
    "ax.set_xlabel(\"Normalized Distance\", size=16);ax.set_ylabel(\"Normalized Porosity\", size=16);"
   ]
  },
  {
   "cell_type": "markdown",
   "id": "f3045871",
   "metadata": {},
   "source": [
    "### Let's try to predict permeability from porosity\n",
    "\n",
    "And let's ignore stationarity for now (at our peril!). We will do a geographic train-test-split, keeping <span style=\"color:blue\">**30% of the data as a test set**</span>, and <span style=\"color:red\">**70% as our train set**</span>:"
   ]
  },
  {
   "cell_type": "code",
   "execution_count": null,
   "id": "d03fff62",
   "metadata": {},
   "outputs": [],
   "source": [
    "fig, ax = plt.subplots(1,1,figsize=(20,6));ax.plot(corr_df.X, corr_df.Porosity);ax.set_xlim(0,1); ax.set_ylim(0,1);\n",
    "ax.set_xlabel(\"Normalized Distance\", size=16);ax.set_ylabel(\"Normalized Porosity\", size=16);\n",
    "rect = patches.Rectangle((0, 0), .3, 1, linewidth=0, edgecolor='r', facecolor='blue', alpha=.2);ax.add_patch(rect);\n",
    "rect = patches.Rectangle((.3, 0), 1, 1, linewidth=0, edgecolor='r', facecolor='red', alpha=.2);ax.add_patch(rect);"
   ]
  },
  {
   "cell_type": "code",
   "execution_count": null,
   "id": "cbd55acc",
   "metadata": {},
   "outputs": [],
   "source": [
    "X_test = corr_df.loc[:4,'Porosity']; y_test = corr_df.loc[:4,'Perm'];\n",
    "X_train = corr_df.loc[5:,'Porosity']; y_train = corr_df.loc[5:,'Perm'];\n",
    "X_test\n"
   ]
  },
  {
   "cell_type": "markdown",
   "id": "ea966785",
   "metadata": {},
   "source": [
    "### Let's use a <code>RandomForestRegressor</code> for our prediction:"
   ]
  },
  {
   "cell_type": "code",
   "execution_count": null,
   "id": "018449b8",
   "metadata": {},
   "outputs": [],
   "source": [
    "from sklearn.ensemble import RandomForestRegressor\n",
    "from sklearn.metrics import mean_squared_error\n",
    "\n",
    "reg = RandomForestRegressor().fit(X_train.values.reshape(-1,1), y_train)"
   ]
  },
  {
   "cell_type": "markdown",
   "id": "88e4bc53",
   "metadata": {},
   "source": [
    "#### Now let's estimate the error on the test set:"
   ]
  },
  {
   "cell_type": "code",
   "execution_count": null,
   "id": "9929a6c0",
   "metadata": {},
   "outputs": [],
   "source": [
    "y_pred = reg.predict(X_test.values.reshape(-1,1))\n",
    "print(f'Relative error is {mean_squared_error(y_test,y_pred)*100:.0f}% !!!!')\n"
   ]
  },
  {
   "cell_type": "markdown",
   "id": "1fb9af81",
   "metadata": {},
   "source": [
    "### Let's plot our results to explore where the errors are"
   ]
  },
  {
   "cell_type": "code",
   "execution_count": null,
   "id": "fe260533",
   "metadata": {},
   "outputs": [],
   "source": [
    "fig, ax = plt.subplots(1,1,figsize=(20,6));ax.plot(corr_df.X, corr_df.Porosity);ax.set_xlim(0,1); ax.set_ylim(-0.2,1);\n",
    "ax.scatter(corr_df.loc[:4,'X'], y_pred, c='r', marker='s', s=120);\n",
    "ax.set_xlabel(\"Normalized Distance\", size=16);ax.set_ylabel(\"Normalized Porosity\", size=16);"
   ]
  },
  {
   "cell_type": "markdown",
   "id": "78db31b2",
   "metadata": {},
   "source": [
    "### Detrending data (introducing stationarity)\n",
    "\n",
    "We can first remove trends in the data, for instance, using a simple linear regression with distance for our variables:"
   ]
  },
  {
   "cell_type": "code",
   "execution_count": null,
   "id": "14eafb0a",
   "metadata": {},
   "outputs": [],
   "source": [
    "from sklearn.linear_model import LinearRegression\n",
    "\n",
    "trend_poro = LinearRegression().fit(corr_df[['X']],corr_df.Porosity)\n",
    "trend_perm = LinearRegression().fit(corr_df[['X']],corr_df.Perm)"
   ]
  },
  {
   "cell_type": "code",
   "execution_count": null,
   "id": "ee7d5d7b",
   "metadata": {},
   "outputs": [],
   "source": [
    "# Detrend:\n",
    "corr_df['Poro_det'] = corr_df.Porosity - trend_poro.predict(corr_df[['X']])\n",
    "corr_df['Perm_det'] = corr_df.Perm - trend_perm.predict(corr_df[['X']])"
   ]
  },
  {
   "cell_type": "markdown",
   "id": "1bc22469",
   "metadata": {},
   "source": [
    "#### Let's inspect the detrended porosity:"
   ]
  },
  {
   "cell_type": "code",
   "execution_count": null,
   "id": "aede8072",
   "metadata": {},
   "outputs": [],
   "source": [
    "fig, ax = plt.subplots(1,1,figsize=(20,6))\n",
    "ax.plot(corr_df.X, corr_df.Poro_det);ax.set_xlim(0,1); ax.set_ylim(-.5,.5);\n",
    "ax.set_xlabel(\"Normalized Distance\", size=16);ax.set_ylabel(\"Porosity Residuals\", size=16);"
   ]
  },
  {
   "cell_type": "markdown",
   "id": "17d4229b",
   "metadata": {},
   "source": [
    "👉 We can now model residuals without worrying about non-stationarity of the data"
   ]
  },
  {
   "cell_type": "markdown",
   "id": "98354ae4",
   "metadata": {},
   "source": [
    "### Modeling detrended data (residuals):"
   ]
  },
  {
   "cell_type": "code",
   "execution_count": null,
   "id": "e1c66268",
   "metadata": {},
   "outputs": [],
   "source": [
    "# Train-test split:\n",
    "X_test = corr_df.loc[:4,'Poro_det']; y_test = corr_df.loc[:4,'Perm_det'];\n",
    "X_train = corr_df.loc[4:,'Poro_det']; y_train = corr_df.loc[4:,'Perm_det'];\n",
    "\n",
    "# Model the residuals:\n",
    "reg = RandomForestRegressor().fit(X_train.values.reshape(-1,1), y_train)\n",
    "\n",
    "# Print prediction error:\n",
    "y_pred_det = reg.predict(X_test.values.reshape(-1,1))\n",
    "print(f'Relative error is {mean_squared_error(y_test,y_pred_det)*100:.0f}% !!!!')"
   ]
  },
  {
   "cell_type": "markdown",
   "id": "cb786d0b",
   "metadata": {},
   "source": [
    "##### We can add the trend to the residuals to obtain the true value:\n"
   ]
  },
  {
   "cell_type": "code",
   "execution_count": null,
   "id": "e3f31ba3",
   "metadata": {},
   "outputs": [],
   "source": [
    "trend_perm.coef_"
   ]
  },
  {
   "cell_type": "code",
   "execution_count": null,
   "id": "caa24dae",
   "metadata": {},
   "outputs": [],
   "source": [
    "y_pred_best = y_pred_det + trend_perm.coef_[0] * corr_df.loc[:4,'X']  "
   ]
  },
  {
   "cell_type": "code",
   "execution_count": null,
   "id": "668158dc",
   "metadata": {},
   "outputs": [],
   "source": [
    "fig, ax = plt.subplots(1,1,figsize=(20,6));ax.plot(corr_df.X, corr_df.Porosity);ax.set_xlim(0,1); ax.set_ylim(-.2,1);\n",
    "ax.scatter(corr_df.loc[:4,'X'], y_pred, c='r', marker='s', s=120);\n",
    "ax.scatter(corr_df.loc[:4,'X'], y_pred_best, c='purple', marker='o', s=160);\n",
    "ax.set_xlabel(\"Normalized Distance\", size=16);ax.set_ylabel(\"Normalized Porosity\", size=16);"
   ]
  },
  {
   "cell_type": "markdown",
   "id": "8c6287e6",
   "metadata": {},
   "source": [
    "## Modelling Time Series in Machine Learning\n",
    "\n",
    "<img src=\"figures/time_series_stationarity.png\" style=\"width:1500px\">\n",
    "<a href=\"https://towardsdatascience.com/achieving-stationarity-with-time-series-data-abd59fd8d5a0\">Mitrani, 2020</a>"
   ]
  },
  {
   "cell_type": "markdown",
   "id": "e742a747",
   "metadata": {},
   "source": [
    "👉 **Same principle** as for spatial data: stationarity is a prerequisit"
   ]
  },
  {
   "cell_type": "markdown",
   "id": "a8f74ac3",
   "metadata": {},
   "source": [
    "👉 Time Series need to be **detrended** (usually using a moving average)"
   ]
  },
  {
   "cell_type": "markdown",
   "id": "5999fda4",
   "metadata": {},
   "source": [
    "👉 **Seasonality** (Short-term trends) also need to be removed to **model residuals**! This can be done with Python packages such as <code>statsmodel</a>"
   ]
  },
  {
   "cell_type": "markdown",
   "id": "73bc3768",
   "metadata": {},
   "source": [
    "# Geostatistics\n",
    "<br>\n",
    "\n",
    "<center><img src=\"figures/DALLE_shrew.png\" style=\"width:900px;\">\n",
    " © Cédric John, 2022; Image generated with <a href=\"https://openai.com/blog/dall-e/\">DALL-E</a>\n",
    "<br>Prompt: <i>a 4k photo of a blue-gray shrew coming out of a ground hole holding a golden nugget in her hand and wearing a miners hat, digital art</i>.</center>"
   ]
  },
  {
   "cell_type": "markdown",
   "id": "b24ffca5",
   "metadata": {},
   "source": [
    "## Principle\n",
    "\n",
    "In the previous section we modelled one spatial variable (<code>permeability</code>) by using another one (<code>porosity</code>). With <code>geostatistics</code> we will see that we can infer the distribution of a variable through space **using a few key assumptions**."
   ]
  },
  {
   "cell_type": "markdown",
   "id": "370749f8",
   "metadata": {},
   "source": [
    "👆 First, let's review some key concepts"
   ]
  },
  {
   "cell_type": "markdown",
   "id": "ffb4df78",
   "metadata": {},
   "source": [
    "### Measuring distance\n",
    "\n",
    "We can imagine the theoretical distribution of a continuous variable as an unknown function $Z(s)$, where $s$ is the location of the point. Any given point can be separated by a distance $h$\n",
    "<img src=\"figures/grid_1.png\" style=\"width:900px\">\n",
    "<a href=\"https://aegis4048.github.io/spatial-simulation-1-basics-of-variograms\">Kim, 2019</a>"
   ]
  },
  {
   "cell_type": "markdown",
   "id": "3fbf334e",
   "metadata": {},
   "source": [
    "### Measuring distance\n",
    "\n",
    "This distance can be measured at any span (lag) and in any direction, not just diagonally.\n",
    "<img src=\"figures/grid_2.png\" style=\"width:900px\">\n",
    "<a href=\"https://aegis4048.github.io/spatial-simulation-1-basics-of-variograms\">Kim, 2019</a>"
   ]
  },
  {
   "cell_type": "markdown",
   "id": "51b257f2",
   "metadata": {},
   "source": [
    "### Semivariogram <span style=\"color:teal\">$\\gamma(h)$</span>  (and variogram <span style=\"color:teal\">$2\\gamma$</span> )"
   ]
  },
  {
   "cell_type": "markdown",
   "id": "ad3776c8",
   "metadata": {},
   "source": [
    "The semivariogram (<span style=\"color:teal\">$\\gamma(h)$</span>) is half the spatial variance between two data points separated by the lag distance h:\n",
    "\n",
    "$$\\gamma(h)=\\frac{1}{2n(h)}\\sum_{\\alpha=1}^{n(h)}(z(u\\alpha)−z(u\\alpha+h))^2$$"
   ]
  },
  {
   "cell_type": "markdown",
   "id": "73e5ba4e",
   "metadata": {},
   "source": [
    "<span style=\"color:red\">$n(h)$</span> = number of all data point pairs separated by the distance, h."
   ]
  },
  {
   "cell_type": "markdown",
   "id": "6f5c8694",
   "metadata": {},
   "source": [
    "<span style=\"color:blue\">$h$</span> = **lag distance**. Separation between two data points."
   ]
  },
  {
   "cell_type": "markdown",
   "id": "af664799",
   "metadata": {},
   "source": [
    "<span style=\"color:green\">$u\\alpha$</span> = data point on 2D or 3D space at the location, $\\alpha$."
   ]
  },
  {
   "cell_type": "markdown",
   "id": "3f189880",
   "metadata": {},
   "source": [
    "<span style=\"color:green\">$u\\alpha+$</span><span style=\"color:blue\">$h$</span> = data point separated from <span style=\"color:green\">$u\\alpha$</span> by the distance, <span style=\"color:blue\">$h$</span>."
   ]
  },
  {
   "cell_type": "markdown",
   "id": "879ec0b2",
   "metadata": {},
   "source": [
    "$z($<span style=\"color:green\">$u\\alpha$</span>) = numerical value of data point"
   ]
  },
  {
   "cell_type": "markdown",
   "id": "65ae0d78",
   "metadata": {},
   "source": [
    "$z($<span style=\"color:green\">$u\\alpha+$</span><span style=\"color:blue\">$h$</span>) = numerical value of data point"
   ]
  },
  {
   "cell_type": "markdown",
   "id": "9a3c6561",
   "metadata": {},
   "source": [
    "<img src=\"figures/basic_variogram.png\" style=\"width:1300px\">\n",
    "<a href=\"https://aegis4048.github.io/spatial-simulation-1-basics-of-variograms\">Kim, 2019</a>"
   ]
  },
  {
   "cell_type": "markdown",
   "id": "a006cbff",
   "metadata": {},
   "source": [
    "<span style=\"color:purple\">nugget</span>:  Variance at <span style=\"color:blue\">$h=0$</span>"
   ]
  },
  {
   "cell_type": "markdown",
   "id": "5ca6cfc6",
   "metadata": {},
   "source": [
    "<span style=\"color:green\">range (a)</span>: lag distance $a$ at which spatial data pairs lose correlation (i.e. reaches a the **sill**)."
   ]
  },
  {
   "cell_type": "markdown",
   "id": "c46c9c51",
   "metadata": {},
   "source": [
    "<span style=\"color:teal\">Sill ($\\sigma^2$)</span>: Value for the variance at the **range** distance"
   ]
  },
  {
   "cell_type": "markdown",
   "id": "183fec60",
   "metadata": {},
   "source": [
    "<span style=\"color:red\">Variogram Model</span>: The blue datapoints are fitted with a model (the red line) which is limited to a few defined functions."
   ]
  },
  {
   "cell_type": "markdown",
   "id": "5b2b773a",
   "metadata": {},
   "source": [
    "<img src=\"figures/basic_variogram.png\" style=\"width:1300px\">\n",
    "<a href=\"https://aegis4048.github.io/spatial-simulation-1-basics-of-variograms\">Kim, 2019</a>\n",
    "\n",
    "#### Nugget Effect (c0)\n",
    "\n",
    "Refers to the nonzero intercept of the variogram and is an overall estimate of error caused by measurement inaccuracy and environmental variability occurring at fine enough scales to be unresolved by the sampling interval."
   ]
  },
  {
   "cell_type": "markdown",
   "id": "afb6f84d",
   "metadata": {},
   "source": [
    "### Building the semivariogram\n",
    "<img src=\"figures/grid_3.png\" style=\"width:1500\">\n",
    "<a href=\"https://aegis4048.github.io/spatial-simulation-1-basics-of-variograms\">Kim, 2019</a>"
   ]
  },
  {
   "cell_type": "markdown",
   "id": "9350844b",
   "metadata": {},
   "source": [
    "### Building the semivariogram\n",
    "<img src=\"figures/grid_4.png\" style=\"width:1500\">\n",
    "<a href=\"https://aegis4048.github.io/spatial-simulation-1-basics-of-variograms\">Kim, 2019</a>"
   ]
  },
  {
   "cell_type": "markdown",
   "id": "317b2f75",
   "metadata": {},
   "source": [
    "### Building the semivariogram\n",
    "<img src=\"figures/grid_5.png\" style=\"width:1500\">\n",
    "<a href=\"https://aegis4048.github.io/spatial-simulation-1-basics-of-variograms\">Kim, 2019</a>"
   ]
  },
  {
   "cell_type": "markdown",
   "id": "e3b683cf",
   "metadata": {},
   "source": [
    "### The variogram model\n",
    "\n",
    "The choice of an appropriate <span style=\"color:red\">variogram model</span> is a crucial one. The most common functions are:"
   ]
  },
  {
   "cell_type": "markdown",
   "id": "e8bd269e",
   "metadata": {},
   "source": [
    "#### Gaussian function\n",
    "$\\gamma(h)=(s-n)\\left(1-\\exp\\left(-\\frac{h^2}{r^2a}\\right)\\right) + n1_{(0,\\infty)}(h)$"
   ]
  },
  {
   "cell_type": "markdown",
   "id": "4b4bd69f",
   "metadata": {},
   "source": [
    "#### Spherical function\n",
    "$\\gamma(h)=(s-n)((\\frac{3h}{2r}-\\frac{h^3}{2r^3})l_{[0,r)}(h)+l_{(0,\\inf)}(h))+nl_{(0,\\inf)}(h)$"
   ]
  },
  {
   "cell_type": "markdown",
   "id": "d7ea1968",
   "metadata": {},
   "source": [
    "#### Exponential function\n",
    "$\\gamma(h)=(s-n)(1-e^{(-h/(ra))})+nl_{(0,\\inf)}(h)$"
   ]
  },
  {
   "cell_type": "markdown",
   "id": "4aad90a3",
   "metadata": {},
   "source": [
    "**Other functions include** linear, power, and hole-effect (but are less commonly applied)\n"
   ]
  },
  {
   "cell_type": "markdown",
   "id": "85e7d54d",
   "metadata": {},
   "source": [
    "## Interpolating Spatial Data (Kriging)"
   ]
  },
  {
   "cell_type": "markdown",
   "id": "24632ddb",
   "metadata": {},
   "source": [
    "The idea is to be able to model (interpolate) spatial data with few observations (left below) to a continuous field (right below):\n",
    "<img src=\"figures/gold_transform.png\" style=\"width:1500\">"
   ]
  },
  {
   "cell_type": "markdown",
   "id": "2620b41f",
   "metadata": {},
   "source": [
    "### The <span style=\"color:teal\">Kriging Method</span> and the birth of <span style=\"color:blue\">Geostatistics</span>\n",
    "\n",
    "<img src=\"figures/DANIEG_KRIGE.jpg\" style=\"height:310px;padding:3px\" align=\"left\">\n",
    "<img src=\"figures/Georges_Matheron.jpg\" style=\"height:330px;padding:5px\" align=\"left\">\n",
    "\n",
    "\n",
    "This problem was solved first in 1951 by a South African mining Engineer (<span style=\"color:teal\">***Danige Kriege, left***</span>) working on gold mines. It was later perfect by a French statistician (<span style=\"color:blue\">***Georges Matheron, right***</span>) who gave birth to the field of <span style=\"color:blue\">**Geostatistics** </span>(this term refers specifically to this technique, and not to any statistics applied in geosciences). The <span style=\"color:teal\">**Kriging**</span> method proved so useful that  fields other than geosciences (e.g. ecology, meteorology, ...) adopted it over time."
   ]
  },
  {
   "cell_type": "markdown",
   "id": "26f44c38",
   "metadata": {},
   "source": [
    "## Simple Kriging\n",
    "This is the original method invited by Krige. It relies on the assumption of stationarity for the dataset."
   ]
  },
  {
   "cell_type": "markdown",
   "id": "bd6b6c91",
   "metadata": {},
   "source": [
    "$$E[Z(s)]=\\sum_{i=1}^n(s_i*p_i)=\\mu$$"
   ]
  },
  {
   "cell_type": "markdown",
   "id": "e6d78ce5",
   "metadata": {},
   "source": [
    "☝🏾 Assumes **stationarity** of $Z$"
   ]
  },
  {
   "cell_type": "markdown",
   "id": "ca7a127d",
   "metadata": {},
   "source": [
    "$$Var[Z(s)-Z(s+h)] = 2\\gamma(|h|)$$"
   ]
  },
  {
   "cell_type": "markdown",
   "id": "48f99818",
   "metadata": {},
   "source": [
    "Goal of Kriging is to predict the random field $Z(s_{0})$ at location $s_{0}$ from the observed data. To do this, Kriging consists of solving the following equation:"
   ]
  },
  {
   "cell_type": "markdown",
   "id": "8cab45cd",
   "metadata": {},
   "source": [
    "$$\\hat{Z}(s_{0})=\\sum_{i=1}^{n}\\beta_{i}Z(s_{i})$$"
   ]
  },
  {
   "cell_type": "markdown",
   "id": "62026a87",
   "metadata": {},
   "source": [
    "☝🏾 where the weights $\\beta_{i}$ are chosen to make the estimator unbiased and of minimal prediction error."
   ]
  },
  {
   "cell_type": "markdown",
   "id": "2b31c19e",
   "metadata": {},
   "source": [
    "Unbiasedness means that:\n",
    "$$E[\\hat{Z}(s_{0})]=E[\\sum_{i=1}^{n}\\beta_{i}Z(s_{i})]$$\n",
    "\n",
    "$$=\\sum_{i=1}^{n}\\beta_{i}E[Z(s_{i})]$$\n",
    "\n",
    "$$=\\sum_{i=1}^{n}\\beta_{i}\\mu$$"
   ]
  },
  {
   "cell_type": "markdown",
   "id": "06f02b48",
   "metadata": {},
   "source": [
    "Last equality derives from the stationarity of the mean. The estimator is unbiased, i.e.:\n",
    "\n",
    "$$E[\\hat{Z}(s_{0})] = E[Z(s_{0})]$$\n",
    "\n",
    "If the weights sum to parity:\n",
    "\n",
    "$$\\sum_{i=1}^{n}\\beta_i=1$$"
   ]
  },
  {
   "cell_type": "markdown",
   "id": "843627d5",
   "metadata": {},
   "source": [
    "#### Kriging Variance ($\\sigma^2_{s_0}$)"
   ]
  },
  {
   "cell_type": "markdown",
   "id": "d393a898",
   "metadata": {},
   "source": [
    "$$\\sigma_{s_0}\\equiv E[\\hat{Z}(s_0)-Z(s_0)]^2$$"
   ]
  },
  {
   "cell_type": "markdown",
   "id": "10586d53",
   "metadata": {},
   "source": [
    "$$=E[\\sum_{i=1}^n\\beta_i (Z(s_i)-Z(s_0))]^2$$"
   ]
  },
  {
   "cell_type": "markdown",
   "id": "0a82cb3e",
   "metadata": {},
   "source": [
    "Which can be expanded:\n",
    "$$=E[\\sum_{i=1}^n\\sum_{j=1}^n\\beta_i \\beta_j \\frac{(Z(s_i)-Z(s_j))^2}{2}-\\sum_{i=1}^n \\beta_i(Z(s_i)-Z(s_0))^2]$$"
   ]
  },
  {
   "cell_type": "markdown",
   "id": "f0f3ef1b",
   "metadata": {},
   "source": [
    "$$=\\sum_{i=1}^n\\sum_{j=1}^n\\beta_i \\beta_j \\frac{E[Z(s_i)-Z(s_j)]^2}{2}-\\sum_{i=1}^n \\beta_i E[Z(s_i)-Z(s_0)]^2$$"
   ]
  },
  {
   "cell_type": "markdown",
   "id": "15c0d2a6",
   "metadata": {},
   "source": [
    "$$=\\sum_{i=1}^n\\sum_{j=1}^n\\beta_i \\beta_j \\gamma(|h_{ij}|)-\\sum_{i=1}^n \\beta_i \\gamma(|h_{i0}|)2$$"
   ]
  },
  {
   "cell_type": "markdown",
   "id": "0ba4adf3",
   "metadata": {},
   "source": [
    "### Solving the Kriging Equation\n",
    "\n",
    "Solving the Kriging equation means finding the best weights $\\beta$ to minimize the Kriging Variance. Exactly ***how*** this is done is beyond the scope of this module (but those of you taking the ***optimization*** module might learn more about it).\n",
    "\n",
    "Just for completeness sake, know that the method used is the **Lagrange Multiplier Method** (a constrained optimization method)."
   ]
  },
  {
   "cell_type": "markdown",
   "id": "73fe3e1d",
   "metadata": {},
   "source": [
    "With that method, the optimal weights are found by setting to zero, the partial derivative, with respect to each $\\beta_i$ of the objective function defined as:\n",
    "\n",
    "$$f(\\beta_1,...,\\beta_n,\\lambda)={\\sigma_{s_0}}^2+2\\lambda(\\sum_{i=1}^n \\beta_i-1))$$\n",
    "\n",
    "Where $\\lambda$ is known as the ***Lagrange Multiplier***"
   ]
  },
  {
   "cell_type": "markdown",
   "id": "9c202034",
   "metadata": {},
   "source": [
    "The partial derivative $\\frac{\\partial f}{\\partial \\lambda}$ set to zero yields the unbiasedness condition, and a system of n+1 linear equations to be solved for the n optimal weights $\\beta_1, . . . , \\beta_n$. The set of these linear equations is called the **ordinary kriging system (Matheron 1971)**:"
   ]
  },
  {
   "cell_type": "markdown",
   "id": "fd5dc193",
   "metadata": {},
   "source": [
    "$$\\Bigg\\{^{\\sum_{j=1}^n \\beta_j\\gamma(|h_{ij}|) \\;\\;\\;\\;\\;\\; i=1,...,n}_{\\sum_{j=1}^n \\beta_j=1}$$"
   ]
  },
  {
   "cell_type": "markdown",
   "id": "5dedc383",
   "metadata": {},
   "source": [
    "# Simple Kriging in Practice\n",
    "\n",
    "Let's solve our spacial problem (distribution of porosity in the subsurface) using Ordinary Kriging. For this, we will use a simple library for Kriging in Python: <code>pykrige</code> (<a href=\"https://geostat-framework.readthedocs.io/projects/pykrige/en/stable/\">documentation</a>)."
   ]
  },
  {
   "cell_type": "code",
   "execution_count": null,
   "id": "6a923a22",
   "metadata": {},
   "outputs": [],
   "source": [
    "from pykrige.ok import OrdinaryKriging\n",
    "\n",
    "OK = OrdinaryKriging(\n",
    "    x, \n",
    "    y, \n",
    "    phi, \n",
    "    variogram_model='gaussian',\n",
    "    verbose=True,\n",
    "    enable_plotting=True,\n",
    "    nlags=30,\n",
    ")"
   ]
  },
  {
   "cell_type": "code",
   "execution_count": null,
   "id": "20e392cd",
   "metadata": {},
   "outputs": [],
   "source": [
    "OK.variogram_model_parameters"
   ]
  },
  {
   "cell_type": "code",
   "execution_count": null,
   "id": "42cfff48",
   "metadata": {},
   "outputs": [],
   "source": [
    "gridx = np.arange(0, 1000, 10, dtype='float64')\n",
    "gridy = np.arange(0, 1000, 10, dtype='float64')\n",
    "zstar, ss = OK.execute(\"grid\", gridx, gridy)"
   ]
  },
  {
   "cell_type": "code",
   "execution_count": null,
   "id": "0464429d",
   "metadata": {},
   "outputs": [],
   "source": [
    "print(zstar.shape)\n",
    "print(ss.shape)"
   ]
  },
  {
   "cell_type": "code",
   "execution_count": null,
   "id": "026120fe",
   "metadata": {},
   "outputs": [],
   "source": [
    "fig, ax_ok = plt.subplots(1,1, figsize=(15,13))\n",
    "cax = ax_ok.imshow(zstar, extent=(0, 1000, 0, 1000), origin='lower')\n",
    "ax_ok.scatter(x, y, c='k', marker='.'); cbar=plt.colorbar(cax)\n",
    "ax_ok.set_title('Spatial Prediction of Porosity', size=18); ax_ok.set_xlim(0,1000);"
   ]
  },
  {
   "cell_type": "markdown",
   "id": "3a561b04",
   "metadata": {},
   "source": [
    "## Kriging Variance"
   ]
  },
  {
   "cell_type": "code",
   "execution_count": null,
   "id": "b88631fb",
   "metadata": {},
   "outputs": [],
   "source": [
    "fig, ax_okv = plt.subplots(1,1, figsize=(15,13))\n",
    "cax = ax_okv.imshow(ss, extent=(0, 1000, 0, 1000), origin='lower')\n",
    "ax_okv.scatter(x, y, c='k', marker='.'); cbar=plt.colorbar(cax)\n",
    "ax_okv.set_title('Kriging Variance (estimated uncertainty) for Porosity', size=18); ax_okv.set_xlim(0,1000);"
   ]
  },
  {
   "cell_type": "markdown",
   "id": "6f2f6edb",
   "metadata": {},
   "source": [
    "# Universal Kriging\n",
    "\n",
    "The problem with **Ordinary Kriging** is that it assumes stationarity. Of course, most geospatial applications are **NOT** stationary. Universal Kriging is meant to solve this problem. The main difference is that it models the predictor variable ($Z(s)$) as a linear combination of a deterministic term ( the drift \"$\\mu(s)$\", non-stationary) and a probabilistic term (\"$Y(s)$\", stationary):"
   ]
  },
  {
   "cell_type": "markdown",
   "id": "57b870bb",
   "metadata": {},
   "source": [
    "$$Z(s)=\\mu(s)+Y(s)$$"
   ]
  },
  {
   "cell_type": "markdown",
   "id": "26dc4266",
   "metadata": {},
   "source": [
    "Suppose the drift μ(s) can be represented as a linear combination of known functions $\\{fl(s),\\;\\;\\;\\; l = 1, . . . , k\\}$, with unknown coefficients $\\{\\beta l\\}$,\n",
    "$$\\mu(s)=\\sum_{l=1}^k \\beta_l f_l(s)$$"
   ]
  },
  {
   "cell_type": "markdown",
   "id": "26ce6b98",
   "metadata": {},
   "source": [
    "This means that the mean and covariance can be expressed as:\n",
    "$$E[Z(s)]=\\sum_{l=1}^k \\beta_l f_l(s)$$"
   ]
  },
  {
   "cell_type": "markdown",
   "id": "34fcf7b7",
   "metadata": {},
   "source": [
    "$$E[(Z(s_1)-\\mu(s_1))(Z(s_2)-\\mu(s_2))]\\equiv E[Y(s_1)Y(s_2)]$$\n",
    "$$= Cov(s1-s2)$$"
   ]
  },
  {
   "cell_type": "markdown",
   "id": "579fcf1e",
   "metadata": {},
   "source": [
    "The Universal Kriging predictor has the same form as for Ordinary Kriging:\n",
    "$$\\hat{Z}(s_{0})=\\sum_{i=1}^{n}\\beta_{i}Z(s_{i})$$"
   ]
  },
  {
   "cell_type": "markdown",
   "id": "af9e5e72",
   "metadata": {},
   "source": [
    "But the unbiasedness condition becomes more complicated (Matheron, 1969):\n",
    "$$f_l(s_0)=\\sum_{i=1}^n \\beta_1 f_l(s_i) \\;\\;\\;\\;\\;\\; l=1,...,k$$"
   ]
  },
  {
   "cell_type": "markdown",
   "id": "c8767913",
   "metadata": {},
   "source": [
    "The Universal Kriging Variance becomes:\n",
    "$$=\\sum_{i=1}^n\\sum_{j=1}^n\\beta_i \\beta_j Cov(s_i-s_j)-2\\sum_{i=1}^n \\beta_i Cov(s_i-s_0) + var(Z(s_0))$$"
   ]
  },
  {
   "cell_type": "markdown",
   "id": "fd3599ca",
   "metadata": {},
   "source": [
    "The $n+k$ Universal Kriging linear equations are:\n",
    "$$\\Bigg\\{^{\\sum_{j=1}^n \\beta_j Cov(s_i-S_j)+\\lambda_l f_l(s_i) = Cov(s_i-s_0) \\;\\;\\;\\;\\;\\; i=1,...,n}_{\\sum_{j=1}^n \\beta_j f_l(s_j)=f_l(s_0)\\;\\;\\;\\;\\;\\; i=1,...,k}$$\n",
    "\n",
    "☝🏻 I skipped several mathematical steps here. If you are interested in the details, read <a href=\"https://link.springer.com/book/10.1007/0-387-35429-8\">Le and Zidek, 2006, Statistical Analysis of Environmental Space-Time Processes (Chapter 7)</a>"
   ]
  },
  {
   "cell_type": "code",
   "execution_count": null,
   "id": "a9f8d2bd",
   "metadata": {},
   "outputs": [],
   "source": [
    "from pykrige.uk import UniversalKriging\n",
    "\n",
    "UK = UniversalKriging(\n",
    "    x, \n",
    "    y, \n",
    "    phi, \n",
    "    variogram_model='gaussian',\n",
    "    verbose=True,\n",
    "    enable_plotting=True,\n",
    "    nlags=30,\n",
    ")"
   ]
  },
  {
   "cell_type": "code",
   "execution_count": null,
   "id": "9c799b6a",
   "metadata": {},
   "outputs": [],
   "source": [
    "gridx = np.arange(0, 1000, 10, dtype='float64')\n",
    "gridy = np.arange(0, 1000, 10, dtype='float64')\n",
    "zstar_uk, ss_uk = UK.execute(\"grid\", gridx, gridy)"
   ]
  },
  {
   "cell_type": "code",
   "execution_count": null,
   "id": "bafc7034",
   "metadata": {},
   "outputs": [],
   "source": [
    "fig, ax_uk = plt.subplots(1,1, figsize=(15,13))\n",
    "cax = ax_uk.imshow(zstar_uk, extent=(0, 1000, 0, 1000), origin='lower')\n",
    "ax_uk.scatter(x, y, c='k', marker='.'); cbar=plt.colorbar(cax)\n",
    "ax_uk.set_title('Universal Kriging Porosity estimate', size=18); ax_uk.set_xlim(0,1000);"
   ]
  },
  {
   "cell_type": "code",
   "execution_count": null,
   "id": "53b3fc1c",
   "metadata": {},
   "outputs": [],
   "source": [
    "fig, ax_ukv = plt.subplots(1,1, figsize=(15,13))\n",
    "cax = ax_ukv.imshow(ss_uk, extent=(0, 1000, 0, 1000), origin='lower')\n",
    "ax_ukv.scatter(x, y, c='k', marker='.'); cbar=plt.colorbar(cax)\n",
    "ax_ukv.set_title('Universal Kriging Variance for Porosity', size=18); ax_ukv.set_xlim(0,1000);"
   ]
  },
  {
   "cell_type": "markdown",
   "id": "43c28139",
   "metadata": {},
   "source": [
    "## Limitations of Kriging"
   ]
  },
  {
   "cell_type": "markdown",
   "id": "ddf557c6",
   "metadata": {},
   "source": [
    "🔺 **Weights of the kriging interpolator depend on the modeled variogram** <br>\n",
    "&nbsp;&nbsp;&nbsp;&nbsp;&nbsp;&nbsp;&nbsp;&nbsp;&nbsp;&nbsp;👉  kriging  quite sensitive to misspecification of the variogram model."
   ]
  },
  {
   "cell_type": "markdown",
   "id": "b89f0407",
   "metadata": {},
   "source": [
    "🔺 **Assumptions of the kriging model** (e.g. that of second-order stationarity) may be difficult to meet in the context of many environmental exposures<br>\n",
    "&nbsp;&nbsp;&nbsp;&nbsp;&nbsp;&nbsp;&nbsp;&nbsp;&nbsp;&nbsp;👉  some newer methods (e.g. Bayesian approaches) have  been developed to try and surmount these obstacles"
   ]
  },
  {
   "cell_type": "markdown",
   "id": "a5135c4b",
   "metadata": {},
   "source": [
    "🔺 **Accuracy of interpolation by kriging** will be limited if the number of sampled observations is small, the data is limited in spatial scope, or if the data are not sufficiently spatially correlated. "
   ]
  },
  {
   "cell_type": "markdown",
   "id": "180819ca",
   "metadata": {},
   "source": [
    "# Suggested Resources"
   ]
  },
  {
   "cell_type": "markdown",
   "id": "2d780817",
   "metadata": {},
   "source": [
    "## 📺 Videos \n",
    "* 📼 <a href=\"https://youtu.be/J-IB4_QL7Oc\">The Kriging Model : Data Science Concepts</a> by Ritvik Math, 2020\n",
    "* 📼 <a href=\"https://youtu.be/QGjdS1igq78\">Machine-learning based modelling of spatial and spatio-temporal data (introduction)</a>, Lecture by Hanna Meyer, Prague Summer School, 2018"
   ]
  },
  {
   "cell_type": "markdown",
   "id": "26788376",
   "metadata": {},
   "source": [
    "## 📚 Further Reading \n",
    "* 📖 <a href=\"https://gisgeography.com/kriging-interpolation-prediction/\">Kriging Interpolation – The Prediction Is Strong in this One</a> by GISGeography, 2022\n",
    "* 📖 <a href=\"https://kevinkotze.github.io/ts-6-unit-roots/\">Non-stationarity</a> by Kevin Kotzé (a bit in depth but a lot of good references\n",
    "* 📖 <a href=\"https://www.analyticsvidhya.com/blog/2021/03/introducing-machine-learning-for-spatial-data-analysis/#:~:text=Machine%20Learning%20for%20spatial%20data%20analysis%20builds%20a%20model%20to,the%20spatial%20attribute%20into%20account.\">Introducing Machine Learning for Spatial Data Analysis</a> by Rendik, 2021\n",
    "* 📖 <a href=\"https://link.springer.com/book/10.1007/0-387-35429-8\">Statistical Analysis of Environmental Space-Time Processes (Book)</a> by Le and Zidek, 2006\n"
   ]
  }
 ],
 "metadata": {},
 "nbformat": 4,
 "nbformat_minor": 5
}
