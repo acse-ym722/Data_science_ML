{
 "cells": [
  {
   "cell_type": "markdown",
   "id": "cf1c19e0",
   "metadata": {},
   "source": [
    "<center><h1 style=\"color:maroon\">Unsupervised Learning</h1>\n",
    "    <img src=\"figures/07-unsupervised-learning.jpeg\" style=\"width:1300px\">\n",
    "    <h3><span style=\"color: #045F5F\">Data Science & Machine Learning for Planet Earth Lecture Series</span></h3><h6><i> by Cédric M. John <span style=\"size:6pts\">(2022)</span></i></h6></center>"
   ]
  },
  {
   "cell_type": "markdown",
   "id": "861fe45a",
   "metadata": {},
   "source": [
    "## Plan for today's Lecture 🗓 "
   ]
  },
  {
   "cell_type": "markdown",
   "id": "ea5644aa",
   "metadata": {},
   "source": [
    "* Dimensionality reduction with matrix factorization (PCA)\n",
    "* Dimensionality reduction with graph algorithms (tSNE, UMAP)\n",
    "* Clustering algorithms (KMeans, DBSCAN, HDBSCAN)\n",
    "* Anomaly detection (IFOR, OCSVM)"
   ]
  },
  {
   "cell_type": "markdown",
   "id": "f16c9760",
   "metadata": {},
   "source": [
    "## Intended learning outcomes 👩‍🎓"
   ]
  },
  {
   "cell_type": "markdown",
   "id": "dfc8568e",
   "metadata": {},
   "source": [
    "* Build a feel for what unsupervised machine learning can do\n",
    "* Apply dimensionality reduction to data visualization\n",
    "* Explore dataset by clustering similar observations\n",
    "* Identify potential outliers"
   ]
  },
  {
   "cell_type": "markdown",
   "id": "9913cf57",
   "metadata": {},
   "source": [
    "# What is unsupervised learning?"
   ]
  },
  {
   "cell_type": "markdown",
   "id": "dd1280a3",
   "metadata": {},
   "source": [
    "\n",
    "<img src=\"figures/ml_map.png\" style=\"width:1500px\">\n"
   ]
  },
  {
   "cell_type": "markdown",
   "id": "995843ac",
   "metadata": {},
   "source": [
    "\n",
    "<p><strong>Unsupervised Algorithms</strong></p>\n",
    "<blockquote><p>find patterns in <span class=\"MathJax_Preview\" style=\"color: inherit;\"></span><span class=\"mjx-chtml MathJax_CHTML\" data-mathml='&lt;math xmlns=\"http://www.w3.org/1998/Math/MathML\"&gt;&lt;mi&gt;X&lt;/mi&gt;&lt;/math&gt;' id=\"MathJax-Element-9-Frame\" role=\"presentation\" style=\"font-size: 116%; position: relative;\" tabindex=\"0\"><span aria-hidden=\"true\" class=\"mjx-math\" id=\"MJXc-Node-40\"><span class=\"mjx-mrow\" id=\"MJXc-Node-41\"><span class=\"mjx-mi\" id=\"MJXc-Node-42\"><span class=\"mjx-char MJXc-TeX-math-I\" style=\"padding-top: 0.434em; padding-bottom: 0.249em; padding-right: 0.024em;\">X</span></span></span></span><span class=\"MJX_Assistive_MathML\" role=\"presentation\"><math xmlns=\"http://www.w3.org/1998/Math/MathML\"><mi>X</mi></math></span></span><script id=\"MathJax-Element-9\" type=\"math/tex\">X</script>, <strong>without supervision from a target  <span class=\"MathJax_Preview\" style=\"color: inherit;\"></span><span class=\"mjx-chtml MathJax_CHTML\" data-mathml='&lt;math xmlns=\"http://www.w3.org/1998/Math/MathML\"&gt;&lt;mi&gt;y&lt;/mi&gt;&lt;/math&gt;' id=\"MathJax-Element-10-Frame\" role=\"presentation\" style=\"font-size: 116%; position: relative;\" tabindex=\"0\"><span aria-hidden=\"true\" class=\"mjx-math\" id=\"MJXc-Node-43\"><span class=\"mjx-mrow\" id=\"MJXc-Node-44\"><span class=\"mjx-mi\" id=\"MJXc-Node-45\"><span class=\"mjx-char MJXc-TeX-math-I\" style=\"padding-top: 0.249em; padding-bottom: 0.496em; padding-right: 0.006em;\">y</span></span></span></span><span class=\"MJX_Assistive_MathML\" role=\"presentation\"><math xmlns=\"http://www.w3.org/1998/Math/MathML\"><mi>y</mi></math></span></span><script id=\"MathJax-Element-10\" type=\"math/tex\">y</script></strong></p>\n",
    "</blockquote>\n"
   ]
  },
  {
   "cell_type": "markdown",
   "id": "e7de1534",
   "metadata": {},
   "source": [
    "# Dimensionality Reduction\n",
    "\n",
    "\n",
    "<center><img src=\"figures/DALLE_eifel.png\" style=\"width:900px;\">\n",
    " © Cédric John, 2022; Image generated with <a href=\"https://openai.com/blog/dall-e/\">DALL-E</a>\n",
    "    <br>Prompt: <i>The Eifel Tower contained within a small glass bottle, 3D rendering</i>.</center>"
   ]
  },
  {
   "cell_type": "markdown",
   "id": "f6d08dad",
   "metadata": {},
   "source": [
    "### Dataset\n",
    "\n",
    "<img src=\"figures/palmer_logo.png\" style=\"width:500px\" align=\"left\"/>\n",
    "\n",
    "<span style=\"color:teal\">**Today we are using a convenient dataself for visualization:** </span><a href=\"https://github.com/allisonhorst/palmerpenguins/blob/main/README.md\"> the penguins dataset from Palmer Station, Antarctica LTER</a> published in <a href=\"doi:10.1371/journal.pone.0090081\"> Gorman et al, 2014.</a>\n"
   ]
  },
  {
   "cell_type": "code",
   "execution_count": null,
   "id": "289ccd01",
   "metadata": {},
   "outputs": [],
   "source": [
    "import numpy as np\n",
    "import pandas as pd\n",
    "import matplotlib.pyplot as plt\n",
    "import seaborn as sns\n",
    "\n",
    "data = pd.read_csv('data/penguins.csv')\n",
    "data"
   ]
  },
  {
   "cell_type": "code",
   "execution_count": null,
   "id": "a3327ba4",
   "metadata": {},
   "outputs": [],
   "source": [
    "from sklearn.model_selection import train_test_split\n",
    "from sklearn.preprocessing import LabelEncoder\n",
    "\n",
    "X = data.drop(columns=['species'])\n",
    "y = data.species\n",
    "                   \n",
    "X_train, X_test, y_train_raw, y_test_raw = train_test_split(X, y, train_size=0.8, random_state=12)\n",
    "\n",
    "label_encoder = LabelEncoder().fit(y_train_raw)\n",
    "\n",
    "y_train = pd.Series(data=label_encoder.transform(y_train_raw),name='species')\n",
    "y_test = pd.Series(data=label_encoder.transform(y_test_raw), name='species')"
   ]
  },
  {
   "cell_type": "markdown",
   "id": "e83f6456",
   "metadata": {},
   "source": [
    "#### Visualizing the relationship between features"
   ]
  },
  {
   "cell_type": "code",
   "execution_count": null,
   "id": "d2b49410",
   "metadata": {},
   "outputs": [],
   "source": [
    "plot_data = X_train.copy(); plot_data['species']=y_train_raw.values;\n",
    "sns.pairplot(data=plot_data, hue='species');"
   ]
  },
  {
   "cell_type": "markdown",
   "id": "0d3f2067",
   "metadata": {},
   "source": [
    "#### Colinearity"
   ]
  },
  {
   "cell_type": "code",
   "execution_count": null,
   "id": "00b6345f",
   "metadata": {},
   "outputs": [],
   "source": [
    "import matplotlib.pyplot as plt\n",
    "corr = X_train.corr()\n",
    "fig, ax = plt.subplots(1,1,figsize=(10, 8))\n",
    "sns.heatmap(corr, cmap='coolwarm',ax=ax, annot=corr);"
   ]
  },
  {
   "cell_type": "markdown",
   "id": "c01f457a",
   "metadata": {},
   "source": [
    "# Principal Component Analysis (PCA)\n",
    "(Dimensionality reduction through matrix factorization)"
   ]
  },
  {
   "cell_type": "markdown",
   "id": "405876a1",
   "metadata": {},
   "source": [
    "### Remember Linear Regression Variants<br>\n",
    "**Polynomial**<br>\n",
    "$\\hat{y} = \\beta_0 + \\beta_1 X_1 + \\beta_2 X_1^2$ <br>\n",
    "**Log transformation**<br>\n",
    "$\\hat{y} = \\beta_0 + \\beta_1 \\log(X_1)$ <br>"
   ]
  },
  {
   "cell_type": "markdown",
   "id": "aec19077",
   "metadata": {},
   "source": [
    "\n",
    "<p>👉 PCA = finding the <strong>best linear combination</strong> of features:</p>\n"
   ]
  },
  {
   "cell_type": "markdown",
   "id": "2f709d6c",
   "metadata": {},
   "source": [
    "$\\color{red}{Z_1} = a_{11} X_1 + a_{12} X_2 + a_{13} X_3$<br>\n",
    "$\\color{red}{Z_2} = a_{21} X_1 + a_{22} X_2 + a_{23} X_3$<br>\n",
    "$\\color{red}{Z_3} = a_{31} X_1 + a_{32} X_2 + a_{33} X_3$ "
   ]
  },
  {
   "cell_type": "markdown",
   "id": "48195a3b",
   "metadata": {},
   "source": [
    "\n",
    "<p>👉 <strong>PCA helps to reduce dimensions</strong></p>\n",
    "<p><img src=\"figures/lower_dimension_representation.png\" width=\"1200\"/></p>\n",
    "<p>📚 <a href=\"https://www.oreilly.com/library/view/hands-on-machine-learning/9781492032632/\">Géron, 2017</a></p>\n"
   ]
  },
  {
   "cell_type": "code",
   "execution_count": null,
   "id": "661f34eb",
   "metadata": {},
   "outputs": [],
   "source": [
    "from sklearn.decomposition import PCA\n",
    "\n",
    "pca = PCA(random_state=5)\n",
    "pca.fit(X_train)\n",
    "\n",
    "# Access our 11 PCs \n",
    "W = pca.components_\n",
    "features = X_train.columns\n",
    "# Print PCs as COLUMNS\n",
    "W = pd.DataFrame(W.T,\n",
    "                 index=features,\n",
    "                 columns=[f'PC{i}' for i in range(1, 5)])\n",
    "W"
   ]
  },
  {
   "cell_type": "markdown",
   "id": "e8fc6e05",
   "metadata": {},
   "source": [
    "\n",
    "<p> <br/>\n",
    "☝️ Each PC is a <strong>linear combination of the penguins features</strong></p>\n"
   ]
  },
  {
   "cell_type": "markdown",
   "id": "2d5945ca",
   "metadata": {},
   "source": [
    "#### Project our original data into the new PCA space"
   ]
  },
  {
   "cell_type": "code",
   "execution_count": null,
   "id": "1b5960e7",
   "metadata": {},
   "outputs": [],
   "source": [
    "X_proj_pca = pca.transform(X_train)\n",
    "X_proj_pca = pd.DataFrame(X_proj_pca, columns=[f'PC{i}' for i in range(1, 5)])\n",
    "X_proj_pca"
   ]
  },
  {
   "cell_type": "markdown",
   "id": "eea68454",
   "metadata": {},
   "source": [
    "### New colinearity:"
   ]
  },
  {
   "cell_type": "code",
   "execution_count": null,
   "id": "107a6587",
   "metadata": {},
   "outputs": [],
   "source": [
    "fig, ax = plt.subplots(1,1,figsize=(10, 8))\n",
    "sns.heatmap(X_proj_pca.corr(), cmap='coolwarm',ax=ax, annot=X_proj_pca.corr().astype(int));"
   ]
  },
  {
   "cell_type": "markdown",
   "id": "c5c17598",
   "metadata": {},
   "source": [
    "### Plotting the data in the PCA space\n"
   ]
  },
  {
   "cell_type": "code",
   "execution_count": null,
   "id": "02081a27",
   "metadata": {},
   "outputs": [],
   "source": [
    "import matplotlib.pyplot as plt\n",
    "\n",
    "# Nice color map:\n",
    "cm = plt.cm.get_cmap('viridis')\n",
    "\n",
    "# 2D-slice\n",
    "\n",
    "plt.figure(figsize=(13,5))\n",
    "plt.subplot(1,2,1)\n",
    "plt.title('Before PCA (initial space)'); plt.xlabel('flipper_length_mm'); plt.ylabel('body_mass_g')\n",
    "plt.scatter(X_train.iloc[:,2], X_train.iloc[:,3],c=y_train, cmap=cm)\n",
    "\n",
    "plt.subplot(1,2,2)\n",
    "plt.title('PC1 vs PC2 (new space)'); plt.xlabel('PC 1'); plt.ylabel('PC 2')\n",
    "plt.scatter(X_proj_pca.iloc[:,0], X_proj_pca.iloc[:,1],c=y_train, cmap=cm);"
   ]
  },
  {
   "cell_type": "markdown",
   "id": "43917445",
   "metadata": {},
   "source": [
    "### PC are ranked by order of importance\n"
   ]
  },
  {
   "cell_type": "code",
   "execution_count": null,
   "id": "a575ecc9",
   "metadata": {},
   "outputs": [],
   "source": [
    "# Let's compute it\n",
    "X_proj_pca.std()**2 / ((X_proj_pca.std()**2).sum())"
   ]
  },
  {
   "cell_type": "code",
   "execution_count": null,
   "id": "0b264d7d",
   "metadata": {},
   "outputs": [],
   "source": [
    "# Sklearn provides it automatically\n",
    "pca.explained_variance_ratio_"
   ]
  },
  {
   "cell_type": "markdown",
   "id": "31280958",
   "metadata": {},
   "source": [
    "\n",
    "<p>☝️ Automatically ranked by scikit-learn <code>PCA</code></p>\n"
   ]
  },
  {
   "cell_type": "markdown",
   "id": "695ffdd0",
   "metadata": {},
   "source": [
    "\n",
    "<blockquote><p>68% of the dataset’s variance lies along the first axis</p>\n",
    "</blockquote>\n"
   ]
  },
  {
   "cell_type": "markdown",
   "id": "bbda757f",
   "metadata": {},
   "source": [
    "### PCA for dimensionality reduction"
   ]
  },
  {
   "cell_type": "markdown",
   "id": "4de30e12",
   "metadata": {},
   "source": [
    "**Choosing 'k'**: <span style = \"color:teal\">***Trade-off***</span> between compression and performance"
   ]
  },
  {
   "cell_type": "markdown",
   "id": "73e2a7ea",
   "metadata": {},
   "source": [
    "**Elbow method**: Look for the <em>inflection point</em> in the explained variance chart. Here, <code>k=2</code> (> 85% of the variance explained) or <code>k=3</code>  (> 90% of the variance explained) are good potential candidates\n"
   ]
  },
  {
   "cell_type": "code",
   "execution_count": null,
   "id": "3f490f02",
   "metadata": {},
   "outputs": [],
   "source": [
    "fig, ax = plt.subplots(1,1,figsize=(8,6))\n",
    "plt.plot(range(1,5),np.cumsum(pca.explained_variance_ratio_))\n",
    "plt.ylim(ymin=0.65); plt.title('cumulated share of explained variance', size=16); plt.xlabel('# of principal component used', size=16);"
   ]
  },
  {
   "cell_type": "markdown",
   "id": "f8ad4219",
   "metadata": {},
   "source": [
    "\n",
    "<h4 id=\"✏️-Test-Model-Performance-(with-k=3-Dimensions)\">✏️ Test Model Performance (with <code>k=2</code> Dimensions)</h4>\n"
   ]
  },
  {
   "cell_type": "code",
   "execution_count": null,
   "id": "c3c46b5e",
   "metadata": {},
   "outputs": [],
   "source": [
    "from sklearn.linear_model import LogisticRegression\n",
    "from sklearn.neighbors import KNeighborsClassifier\n",
    "from sklearn.metrics import accuracy_score\n",
    "\n",
    "# PCA with only 2 components\n",
    "pca_compressed = PCA(n_components=2,random_state=5)\n",
    "\n",
    "# Project our data into 2 dimensions\n",
    "X_train_compressed = pca_compressed.fit_transform(X_train)\n",
    "X_test_compressed = pca_compressed.transform(X_test)\n",
    "\n",
    "full_model = KNeighborsClassifier(n_neighbors=8).fit(X_train, y_train)\n",
    "pca_model = KNeighborsClassifier(n_neighbors=8).fit(X_train_compressed, y_train)\n",
    "\n",
    "print(\"Accuracy with 2 PCs\")\n",
    "print(accuracy_score(y_test, pca_model.predict(X_test_compressed)))\n",
    "print(\"Accuracy all 4 initial features\")\n",
    "print(accuracy_score(y_test, full_model.predict(X_test)))"
   ]
  },
  {
   "cell_type": "markdown",
   "id": "8d5b4c3d",
   "metadata": {},
   "source": [
    "### Kernel PCA\n",
    "Captures non-linear patterns (similar principle to SVM kernels)"
   ]
  },
  {
   "cell_type": "code",
   "execution_count": null,
   "id": "fdb99432",
   "metadata": {},
   "outputs": [],
   "source": [
    "from sklearn.decomposition import KernelPCA\n",
    "\n",
    "# Fit a PCA with only 2 components\n",
    "kpca = KernelPCA(kernel='rbf',n_components=2,random_state=5)\n",
    "\n",
    "X_train_kpca = kpca.fit_transform(X_train)\n",
    "X_test_kpca = kpca.transform(X_test)\n",
    "\n",
    "kpca_model = KNeighborsClassifier(n_neighbors=8).fit(X_train_kpca, y_train)\n",
    "\n",
    "print(\"Accuracy with 2 PCs\")\n",
    "print(accuracy_score(y_test, kpca_model.predict(X_test_kpca)))\n",
    "\n",
    "print(\"\\nAccuracy all 4 initial features\")\n",
    "print(accuracy_score(y_test, full_model.predict(X_test)))"
   ]
  },
  {
   "cell_type": "markdown",
   "id": "338ceeb7",
   "metadata": {},
   "source": [
    "## Decompressing PCA\n",
    "* We can decompressed our compressed data back into 4 dimensions\n",
    "* Of course, some information will be lost"
   ]
  },
  {
   "cell_type": "code",
   "execution_count": null,
   "id": "8a8dabcc",
   "metadata": {},
   "outputs": [],
   "source": [
    "# Reconstructed PCA\n",
    "X_reconstructed = pca_compressed.inverse_transform(X_train_compressed)\n",
    "\n",
    "# Plotting it\n",
    "plt.figure(figsize=(15,4)); plt.subplot(1,2,1)\n",
    "sns.heatmap(X_train.iloc[0:30])\n",
    "plt.title(\"original data\"); plt.subplot(1,2,2); plt.title(\"reconstructed data\")\n",
    "sns.heatmap(X_reconstructed[0:30]);"
   ]
  },
  {
   "cell_type": "markdown",
   "id": "7c14f1c3",
   "metadata": {},
   "source": [
    "## Limitations of PCA\n",
    "**PCA cannot separate data on a manifold** (an N-dimensional shape) if they are bent and twisted into a higher dimensional shape: this is a limitation of the projection approach.\n",
    "\n",
    "\n",
    "<img src=\"figures/manifold.png\" style=\"width:1500px\"/>\n",
    "<a href=\"https://www.oreilly.com/library/view/hands-on-machine-learning/9781492032632/\">Hands-On Machine Learning</a>"
   ]
  },
  {
   "cell_type": "markdown",
   "id": "9d98da7a",
   "metadata": {},
   "source": [
    "# Dimensionality reduction and projection using graph algorithms (t-SNE and UMAP)\n",
    "\n",
    "* Manifold learning based on graph algorithms \n",
    "* very complex, general principles exlained only\n",
    "* More about graph algorithm during the Deep-Learning week"
   ]
  },
  {
   "cell_type": "markdown",
   "id": "4be72ed4",
   "metadata": {},
   "source": [
    "#### In a nutshell:"
   ]
  },
  {
   "cell_type": "markdown",
   "id": "89578862",
   "metadata": {},
   "source": [
    "<img src=\"figures/umap-only.png\" style=\"width:1000\">"
   ]
  },
  {
   "cell_type": "markdown",
   "id": "7372fc03",
   "metadata": {},
   "source": [
    "## Main Differences between t-SNE and UMAP"
   ]
  },
  {
   "cell_type": "markdown",
   "id": "e65086ab",
   "metadata": {},
   "source": [
    "#### t-SNE (T-distributed Stochastic Neighbor Embedding)\n",
    "* Older algorithm\n",
    "* Relatively simple mathematically: empirical approach\n",
    "* Based on Gaussian probability and student t-test distribution\n",
    "* Uses exclusively Euclidian distance between points\n",
    "* tSNE applies distance normalization"
   ]
  },
  {
   "cell_type": "markdown",
   "id": "c1df85e4",
   "metadata": {},
   "source": [
    "#### UMAP (Uniform Manifold Approximation & Projection)\n",
    "* More recent algorithm\n",
    "* Anchored in theoretical mathematical approach\n",
    "* In order to construct the initial high-dimensional graph, builds a \"fuzzy simplicial complex\"\n",
    "* UMAP is often better at preserving global structure in the final projection than T-SNE\n",
    "* **UMAP is orders of magnitude faster than T-SNE for complex datasets**\n",
    "\n",
    "**A good first read** if you want to understand the mathematical differences between these two algorithms is this blog by <a href=\"https://towardsdatascience.com/how-exactly-umap-works-13e3040e1668\">Olskolkov, 2019</a>"
   ]
  },
  {
   "cell_type": "markdown",
   "id": "6e5d95d9",
   "metadata": {},
   "source": [
    "## t-SNE (T-distributed Stochastic Neighbor Embedding)"
   ]
  },
  {
   "cell_type": "markdown",
   "id": "cff10f92",
   "metadata": {},
   "source": [
    "A great resource to read about <code>t-SNE</code> is the dedicated blog <a href=\"https://distill.pub/2016/misread-tsne/\">from GoogleBrain</a>. Most of these slides are inspired from it. "
   ]
  },
  {
   "cell_type": "markdown",
   "id": "6137f738",
   "metadata": {},
   "source": [
    "**Key hyperparameters:**\n",
    "* <code>Perplexity</code> (distance at which points are considered to be linked)"
   ]
  },
  {
   "cell_type": "markdown",
   "id": "f6f7cd71",
   "metadata": {},
   "source": [
    "* <code>Perplexity</code> needs to be between 5 and 50, and less than the number of datapoints"
   ]
  },
  {
   "cell_type": "markdown",
   "id": "ef931c21",
   "metadata": {},
   "source": [
    "<img src=\"figures/t-sne-hyperparameters.png\" style=\"width:1200\">"
   ]
  },
  {
   "cell_type": "markdown",
   "id": "08a44b57",
   "metadata": {},
   "source": [
    "**Key hyperparameters:**\n",
    "* <code>Step</code> (number of iterative computation steps)"
   ]
  },
  {
   "cell_type": "markdown",
   "id": "1bc9ce55",
   "metadata": {},
   "source": [
    "<img src=\"figures/t-sne-steps.png\" style=\"width:1200\">"
   ]
  },
  {
   "cell_type": "markdown",
   "id": "2cb807c8",
   "metadata": {},
   "source": [
    "* Need sufficient <code>Steps</code> for algorithm to converge!"
   ]
  },
  {
   "cell_type": "markdown",
   "id": "33f738cc",
   "metadata": {},
   "source": [
    "### What do cluster size and distance 'mean'?"
   ]
  },
  {
   "cell_type": "markdown",
   "id": "3d1eac03",
   "metadata": {},
   "source": [
    "<img src=\"figures/t-sne-distance.png\" style=\"width:1200\">"
   ]
  },
  {
   "cell_type": "markdown",
   "id": "44886320",
   "metadata": {},
   "source": [
    "* Cluster sizes in a t-SNE plot mean nothing (because t-SNE preserves local structure over global structure: large clusters of data tend to be expanded)\n",
    "* Distances between clusters might not mean anything\n",
    "* Random noise doesn’t always look random"
   ]
  },
  {
   "cell_type": "markdown",
   "id": "29db64d9",
   "metadata": {},
   "source": [
    "<img src=\"figures/t-sne-topology.png\" style=\"width:1200\">"
   ]
  },
  {
   "cell_type": "markdown",
   "id": "fbc6edd3",
   "metadata": {},
   "source": [
    "* For topology, you may need more than one plot"
   ]
  },
  {
   "cell_type": "code",
   "execution_count": null,
   "id": "40ec6ab4",
   "metadata": {},
   "outputs": [],
   "source": [
    "from sklearn.manifold import TSNE\n",
    "\n",
    "TSNE_embedded = TSNE(random_state=11).fit_transform(X_train)\n",
    "TSNE_embedded.shape\n"
   ]
  },
  {
   "cell_type": "code",
   "execution_count": null,
   "id": "fb110e24",
   "metadata": {},
   "outputs": [],
   "source": [
    "from utils import compare_embedding\n",
    "X_proj_PC = X_proj_pca.values\n",
    "compare_embedding({'Before PCA (initial space)':{'x':X_train.iloc[:,0], 'y':X_train.iloc[:,1],'xlabel':'Culmen Lenght (mm)', 'ylabel':'Culmen Depth (mm'},\n",
    " 'PCA Projection':{'x':X_proj_PC[:,0], 'y':X_proj_PC[:,1],'xlabel':'PC_1', 'ylabel':'PC_2'},\n",
    " 'T-SNE Projection':{'x':TSNE_embedded[:,0], 'y':TSNE_embedded[:,1],'xlabel':'TSNE_1', 'ylabel':'TSNE_2'}},labels_data=y_train_raw, marker_size=35)"
   ]
  },
  {
   "cell_type": "markdown",
   "id": "65e8650d",
   "metadata": {},
   "source": [
    "## UMAP: Uniform Manifold Approximation & Projection"
   ]
  },
  {
   "cell_type": "markdown",
   "id": "fb16d5c3",
   "metadata": {},
   "source": [
    "UMAP has some advantages over t-SNE, notably that it preserves the global geometry of the dataset better. However, like t-SNE, hyperparameters selection really matter (and not easy to choose), and the issues are the same as T-SNE (cluster size, distance, and random noise structure might not be meaningful, etc...)\n"
   ]
  },
  {
   "cell_type": "markdown",
   "id": "a0111834",
   "metadata": {},
   "source": [
    "**Key hyperparameters:**\n",
    "* <code>n_neighbors</code>: The size of local neighborhood (in terms of number of neighboring sample points) used for manifold approximation"
   ]
  },
  {
   "cell_type": "markdown",
   "id": "8a21d4a8",
   "metadata": {},
   "source": [
    "* <code>min_distance</code>: The effective minimum distance between embedded points. "
   ]
  },
  {
   "cell_type": "markdown",
   "id": "e0195b77",
   "metadata": {},
   "source": [
    "### Example of projection from 3D to 2D"
   ]
  },
  {
   "cell_type": "markdown",
   "id": "05c1e5b4",
   "metadata": {},
   "source": [
    "<img src=\"figures/UMAP-projection.png\" style=\"width:1000\">\n",
    "<a href=\"https://pair-code.github.io/understanding-umap/\">Google Brain</a>"
   ]
  },
  {
   "cell_type": "markdown",
   "id": "fdc6757b",
   "metadata": {},
   "source": [
    "### UMAP preserves global context better than t-SNE "
   ]
  },
  {
   "cell_type": "markdown",
   "id": "7f335d2c",
   "metadata": {},
   "source": [
    "<img src=\"figures/t-sne-vs-UMAP2.png\" style=\"width:1000\">\n",
    "<a href=\"https://pair-code.github.io/understanding-umap/\">Google Brain</a>"
   ]
  },
  {
   "cell_type": "markdown",
   "id": "75b589ee",
   "metadata": {},
   "source": [
    "### On some datasets t-SNE works better than UMAP!"
   ]
  },
  {
   "cell_type": "markdown",
   "id": "18e5702b",
   "metadata": {},
   "source": [
    "<img src=\"figures/UMAP-failings.png\" style=\"width:1000\">\n",
    "<a href=\"https://pair-code.github.io/understanding-umap/\">Google Brain</a>"
   ]
  },
  {
   "cell_type": "code",
   "execution_count": null,
   "id": "b27add99",
   "metadata": {},
   "outputs": [],
   "source": [
    "from umap import UMAP \n",
    "umap_trans = UMAP(random_state=11)\n",
    "X_umap = umap_trans.fit_transform(X_train)"
   ]
  },
  {
   "cell_type": "code",
   "execution_count": null,
   "id": "26c2be0d",
   "metadata": {},
   "outputs": [],
   "source": [
    "compare_embedding({'Before PCA (initial space)':{'x':X_train.iloc[:,0], 'y':X_train.iloc[:,1],'xlabel':'Culmen Lenght (mm)', 'ylabel':'Culmen Depth (mm'},\n",
    " 'PCA Projection':{'x':X_proj_PC[:,0], 'y':X_proj_PC[:,1],'xlabel':'PC_1', 'ylabel':'PC_2'},\n",
    " 'Unsupervised UMAP Projection':{'x':X_umap[:,0], 'y':X_umap[:,1],'xlabel':'UMAP_1', 'ylabel':'UMAP_2'}\n",
    "},labels_data=y_train_raw,loc=(-.15,.87),marker_size=35)"
   ]
  },
  {
   "cell_type": "markdown",
   "id": "1ab04398",
   "metadata": {},
   "source": [
    "# Clustering\n",
    "\n",
    "\n",
    "<center><img src=\"figures/DALLE_cows.png\" style=\"width:900px\">\n",
    " © Cédric John, 2022; Image generated with <a href=\"https://openai.com/blog/dall-e/\">DALL-E</a>\n",
    "    <br>Prompt: <i>a group of cows all clustered in the middle of a purple prairie, digital art</i>.</center>"
   ]
  },
  {
   "cell_type": "markdown",
   "id": "022ea272",
   "metadata": {},
   "source": [
    "### Many clustering algorithms\n",
    "<a href=\"https://scikit-learn.org/stable/modules/clustering.html\">https://scikit-learn.org/stable/modules/clustering.html</a></p>\n",
    "<p><img src=\"figures/sphx_glr_plot_cluster_comparison_001.png\" style=\"width:1200px\"/></p>\n"
   ]
  },
  {
   "cell_type": "markdown",
   "id": "9777701d",
   "metadata": {},
   "source": [
    "\n",
    "<p>Find <strong>categories</strong> (classes, segments) of <strong>unlabelled</strong> data rather than just trying to reduce dimensionality</p>\n",
    "<p>👉 Works better on data that is already clustered, geometrically speaking<br/>\n",
    "👉 Use PCA for dimensionality reduction beforehand: Euclidean distances work better in lower dimensions)!</p>\n"
   ]
  },
  {
   "cell_type": "markdown",
   "id": "422f9280",
   "metadata": {},
   "source": [
    "## K-Means Explained\n"
   ]
  },
  {
   "cell_type": "markdown",
   "id": "5a9ff902",
   "metadata": {},
   "source": [
    "\n",
    "<p><img src=\"figures/K-Means-Clustering-In-Machine-Learning_1.jpg\" width=\"1500px\"/></p>\n",
    "<a href=\"https://kindsonthegenius.com/blog/what-is-k-means-in-clustering-in-machine-learning/\">Kidson, 2017</a>\n"
   ]
  },
  {
   "cell_type": "markdown",
   "id": "09fd6815",
   "metadata": {},
   "source": [
    "\n",
    "<p><img src=\"figures/K-Means-Clustering-In-Machine-Learning_2.jpg\" width=\"1500px\"/></p>\n",
    "<a href=\"https://kindsonthegenius.com/blog/what-is-k-means-in-clustering-in-machine-learning/\">Kidson, 2017</a>\n"
   ]
  },
  {
   "cell_type": "markdown",
   "id": "314492ca",
   "metadata": {},
   "source": [
    "\n",
    "<p><img src=\"figures/K-Means-Clustering-In-Machine-Learning_3.jpg\" width=\"1500px\"/></p>\n",
    "<a href=\"https://kindsonthegenius.com/blog/what-is-k-means-in-clustering-in-machine-learning/\">Kidson, 2017</a>\n"
   ]
  },
  {
   "cell_type": "markdown",
   "id": "21c25a3d",
   "metadata": {},
   "source": [
    "### KMeans Loss Function (Inertia)\n"
   ]
  },
  {
   "cell_type": "markdown",
   "id": "b1eb11d0",
   "metadata": {},
   "source": [
    "\n",
    "<p><code>km.fit(X)</code> finds parameters <span class=\"MathJax_Preview\" style=\"color: inherit;\"></span><span class=\"mjx-chtml MathJax_CHTML\" data-mathml='&lt;math xmlns=\"http://www.w3.org/1998/Math/MathML\"&gt;&lt;mi&gt;&amp;#x03B2;&lt;/mi&gt;&lt;/math&gt;' id=\"MathJax-Element-22-Frame\" role=\"presentation\" style=\"font-size: 116%; position: relative;\" tabindex=\"0\"><span aria-hidden=\"true\" class=\"mjx-math\" id=\"MJXc-Node-296\"><span class=\"mjx-mrow\" id=\"MJXc-Node-297\"><span class=\"mjx-mi\" id=\"MJXc-Node-298\"><span class=\"mjx-char MJXc-TeX-math-I\" style=\"padding-top: 0.496em; padding-bottom: 0.496em; padding-right: 0.007em;\">β</span></span></span></span><span class=\"MJX_Assistive_MathML\" role=\"presentation\"><math xmlns=\"http://www.w3.org/1998/Math/MathML\"><mi>β</mi></math></span></span><script id=\"MathJax-Element-22\" type=\"math/tex\">\\beta</script> that minimize a loss</p>\n",
    "<ul>\n",
    "<li>Each <span class=\"MathJax_Preview\" style=\"color: inherit;\"></span><span class=\"mjx-chtml MathJax_CHTML\" data-mathml='&lt;math xmlns=\"http://www.w3.org/1998/Math/MathML\"&gt;&lt;msub&gt;&lt;mi&gt;&amp;#x03B2;&lt;/mi&gt;&lt;mi&gt;j&lt;/mi&gt;&lt;/msub&gt;&lt;/math&gt;' id=\"MathJax-Element-23-Frame\" role=\"presentation\" style=\"font-size: 116%; position: relative;\" tabindex=\"0\"><span aria-hidden=\"true\" class=\"mjx-math\" id=\"MJXc-Node-299\"><span class=\"mjx-mrow\" id=\"MJXc-Node-300\"><span class=\"mjx-msubsup\" id=\"MJXc-Node-301\"><span class=\"mjx-base\" style=\"margin-right: -0.007em;\"><span class=\"mjx-mi\" id=\"MJXc-Node-302\"><span class=\"mjx-char MJXc-TeX-math-I\" style=\"padding-top: 0.496em; padding-bottom: 0.496em; padding-right: 0.007em;\">β</span></span></span><span class=\"mjx-sub\" style=\"font-size: 70.7%; vertical-align: -0.212em; padding-right: 0.071em;\"><span class=\"mjx-mi\" id=\"MJXc-Node-303\" style=\"\"><span class=\"mjx-char MJXc-TeX-math-I\" style=\"padding-top: 0.434em; padding-bottom: 0.496em;\">j</span></span></span></span></span></span><span class=\"MJX_Assistive_MathML\" role=\"presentation\"><math xmlns=\"http://www.w3.org/1998/Math/MathML\"><msub><mi>β</mi><mi>j</mi></msub></math></span></span><script id=\"MathJax-Element-23\" type=\"math/tex\">\\beta_j</script> parameter is the <strong>centroid</strong> <span class=\"MathJax_Preview\" style=\"color: inherit;\"></span><span class=\"mjx-chtml MathJax_CHTML\" data-mathml='&lt;math xmlns=\"http://www.w3.org/1998/Math/MathML\"&gt;&lt;msub&gt;&lt;mi&gt;&amp;#x03BC;&lt;/mi&gt;&lt;mi&gt;j&lt;/mi&gt;&lt;/msub&gt;&lt;/math&gt;' id=\"MathJax-Element-24-Frame\" role=\"presentation\" style=\"font-size: 116%; position: relative;\" tabindex=\"0\"><span aria-hidden=\"true\" class=\"mjx-math\" id=\"MJXc-Node-304\"><span class=\"mjx-mrow\" id=\"MJXc-Node-305\"><span class=\"mjx-msubsup\" id=\"MJXc-Node-306\"><span class=\"mjx-base\"><span class=\"mjx-mi\" id=\"MJXc-Node-307\"><span class=\"mjx-char MJXc-TeX-math-I\" style=\"padding-top: 0.249em; padding-bottom: 0.496em;\">μ</span></span></span><span class=\"mjx-sub\" style=\"font-size: 70.7%; vertical-align: -0.212em; padding-right: 0.071em;\"><span class=\"mjx-mi\" id=\"MJXc-Node-308\" style=\"\"><span class=\"mjx-char MJXc-TeX-math-I\" style=\"padding-top: 0.434em; padding-bottom: 0.496em;\">j</span></span></span></span></span></span><span class=\"MJX_Assistive_MathML\" role=\"presentation\"><math xmlns=\"http://www.w3.org/1998/Math/MathML\"><msub><mi>μ</mi><mi>j</mi></msub></math></span></span><script id=\"MathJax-Element-24\" type=\"math/tex\">\\mu_j</script> of its respective cluster <span class=\"MathJax_Preview\" style=\"color: inherit;\"></span><span class=\"mjx-chtml MathJax_CHTML\" data-mathml='&lt;math xmlns=\"http://www.w3.org/1998/Math/MathML\"&gt;&lt;msub&gt;&lt;mi&gt;C&lt;/mi&gt;&lt;mi&gt;j&lt;/mi&gt;&lt;/msub&gt;&lt;/math&gt;' id=\"MathJax-Element-25-Frame\" role=\"presentation\" style=\"font-size: 116%; position: relative;\" tabindex=\"0\"><span aria-hidden=\"true\" class=\"mjx-math\" id=\"MJXc-Node-309\"><span class=\"mjx-mrow\" id=\"MJXc-Node-310\"><span class=\"mjx-msubsup\" id=\"MJXc-Node-311\"><span class=\"mjx-base\" style=\"margin-right: -0.045em;\"><span class=\"mjx-mi\" id=\"MJXc-Node-312\"><span class=\"mjx-char MJXc-TeX-math-I\" style=\"padding-top: 0.496em; padding-bottom: 0.311em; padding-right: 0.045em;\">C</span></span></span><span class=\"mjx-sub\" style=\"font-size: 70.7%; vertical-align: -0.212em; padding-right: 0.071em;\"><span class=\"mjx-mi\" id=\"MJXc-Node-313\" style=\"\"><span class=\"mjx-char MJXc-TeX-math-I\" style=\"padding-top: 0.434em; padding-bottom: 0.496em;\">j</span></span></span></span></span></span><span class=\"MJX_Assistive_MathML\" role=\"presentation\"><math xmlns=\"http://www.w3.org/1998/Math/MathML\"><msub><mi>C</mi><mi>j</mi></msub></math></span></span><script id=\"MathJax-Element-25\" type=\"math/tex\">C_j</script></li>\n",
    "</ul>\n"
   ]
  },
  {
   "cell_type": "markdown",
   "id": "0a68c36a",
   "metadata": {},
   "source": [
    "\n",
    "<ul>\n",
    "<li>The loss function is called <strong>inertia</strong> <span class=\"MathJax_Preview\" style=\"color: inherit;\"></span><span class=\"mjx-chtml MathJax_CHTML\" data-mathml='&lt;math xmlns=\"http://www.w3.org/1998/Math/MathML\"&gt;&lt;mi&gt;L&lt;/mi&gt;&lt;mo stretchy=\"false\"&gt;(&lt;/mo&gt;&lt;mi&gt;&amp;#x03BC;&lt;/mi&gt;&lt;mo stretchy=\"false\"&gt;)&lt;/mo&gt;&lt;/math&gt;' id=\"MathJax-Element-26-Frame\" role=\"presentation\" style=\"font-size: 116%; position: relative;\" tabindex=\"0\"><span aria-hidden=\"true\" class=\"mjx-math\" id=\"MJXc-Node-314\"><span class=\"mjx-mrow\" id=\"MJXc-Node-315\"><span class=\"mjx-mi\" id=\"MJXc-Node-316\"><span class=\"mjx-char MJXc-TeX-math-I\" style=\"padding-top: 0.434em; padding-bottom: 0.249em;\">L</span></span><span class=\"mjx-mo\" id=\"MJXc-Node-317\"><span class=\"mjx-char MJXc-TeX-main-R\" style=\"padding-top: 0.434em; padding-bottom: 0.619em;\">(</span></span><span class=\"mjx-mi\" id=\"MJXc-Node-318\"><span class=\"mjx-char MJXc-TeX-math-I\" style=\"padding-top: 0.249em; padding-bottom: 0.496em;\">μ</span></span><span class=\"mjx-mo\" id=\"MJXc-Node-319\"><span class=\"mjx-char MJXc-TeX-main-R\" style=\"padding-top: 0.434em; padding-bottom: 0.619em;\">)</span></span></span></span><span class=\"MJX_Assistive_MathML\" role=\"presentation\"><math xmlns=\"http://www.w3.org/1998/Math/MathML\"><mi>L</mi><mo stretchy=\"false\">(</mo><mi>μ</mi><mo stretchy=\"false\">)</mo></math></span></span><script id=\"MathJax-Element-26\" type=\"math/tex\">L(\\mu)</script> </li>\n",
    "</ul>\n"
   ]
  },
  {
   "cell_type": "markdown",
   "id": "c8e43403",
   "metadata": {},
   "source": [
    "<ul>\n",
    "<li>=>  <strong>sum</strong> of <strong>squared distance</strong> between each observation and their <strong>closest centroid:</li> \n",
    "<li>$L(\\mu) = \\sum_{j=1}^{K}\\sum_{x_i \\in C_j}(||x_i - \\mu_j||^2)$</li>\n",
    "</ul>\n"
   ]
  },
  {
   "cell_type": "markdown",
   "id": "21dc3460",
   "metadata": {},
   "source": [
    "## Kmeans in Practice\n",
    "\n",
    "Algorithm usually run a few times as results depends on initial random seed."
   ]
  },
  {
   "cell_type": "markdown",
   "id": "a1726919",
   "metadata": {},
   "source": [
    "Two <code>sklearn</code> classes:\n",
    "<ul>\n",
    "<li><code>scikit.clustering.KMeans</code> </li>\n",
    "<li><code>scikit.clustering.MiniBatchKMeans</code> — same but uses batch samples instead of the whole dataset, in order to go faster</li>\n",
    "</ul>\n"
   ]
  },
  {
   "cell_type": "markdown",
   "id": "fc34a5e1",
   "metadata": {},
   "source": [
    "<p>💡Although not mandatory, applying PCA first helps to separate data more easily!</p>"
   ]
  },
  {
   "cell_type": "markdown",
   "id": "129b3f38",
   "metadata": {},
   "source": [
    "\n",
    "<h3 id=\"Choosing-Hyperparameter-K\">Choosing Hyperparameter K</h3><ul>\n",
    "<li>Choose <code>K</code> such that the inertia (<code>Kmeans().inertia_</code>) is minimized</li>\n",
    "<li>We can use the <strong>elbow method</strong> here as well</li>\n",
    "</ul>\n"
   ]
  },
  {
   "cell_type": "code",
   "execution_count": null,
   "id": "c6e2a1ad",
   "metadata": {},
   "outputs": [],
   "source": [
    "from sklearn.cluster import KMeans\n",
    "\n",
    "inertias = []\n",
    "ks = range(1,10)\n",
    "\n",
    "for k in ks:\n",
    "    km_test = KMeans(n_clusters=k).fit(X_proj_pca)\n",
    "    inertias.append(km_test.inertia_)\n",
    "\n",
    "plt.plot(ks, inertias)\n",
    "plt.xlabel('k cluster number');\n",
    "\n"
   ]
  },
  {
   "cell_type": "markdown",
   "id": "72cfb780",
   "metadata": {},
   "source": [
    "We can choose either <code>k=2</code> or <code>k=3</code> given the elbow: but <code>k=3</code> seems more reasonable as it gives us a low inertia (plus in our case we do know we have 3 classes so we can cheat!)\n"
   ]
  },
  {
   "cell_type": "markdown",
   "id": "36ad0ffd",
   "metadata": {},
   "source": [
    "## Application of KMeans"
   ]
  },
  {
   "cell_type": "code",
   "execution_count": null,
   "id": "5601b984",
   "metadata": {},
   "outputs": [],
   "source": [
    "\n",
    "km_pen_pca = KMeans(n_clusters=3, random_state=5)\n",
    "km_pen_TSNE = KMeans(n_clusters=3, random_state=5)\n",
    "km_pen_UMAP = KMeans(n_clusters=3, random_state=5)\n",
    "\n",
    "X_km_pen_pca = km_pen_pca.fit_transform(X_proj_pca)\n",
    "X_km_pen_TSNE = km_pen_TSNE.fit_transform(TSNE_embedded)\n",
    "X_km_pen_UMAP = km_pen_UMAP.fit_transform(X_umap)"
   ]
  },
  {
   "cell_type": "markdown",
   "id": "cb4524fe",
   "metadata": {},
   "source": [
    "### KMeans projected in PCA and UMAP Space"
   ]
  },
  {
   "cell_type": "code",
   "execution_count": null,
   "id": "4fb2ce63",
   "metadata": {},
   "outputs": [],
   "source": [
    "from utils import multi_plot\n",
    "multi_plot({'K-Means trained on PCA Projection':km_pen_pca.labels_,\n",
    "             'K-Means trained on UMAP Embedding':km_pen_UMAP.labels_ ,\n",
    "             'Actual Labels':y_train},encoder=label_encoder, X=pd.DataFrame(X_proj_PC, columns=features), fig_title='PCA Space', marker_size=35);\n",
    "multi_plot({'K-Means trained on PCA Projection':km_pen_pca.labels_,\n",
    "             'K-Means trained on UMAP Embedding':km_pen_UMAP.labels_ ,\n",
    "             'Actual Labels':y_train},encoder=label_encoder, X=pd.DataFrame(X_umap, columns=['UMAP_1','UMAP_2']), fig_title = 'UMAP Space', marker_size=35, X_y_label=('UMAP_1','UMAP_2'));"
   ]
  },
  {
   "cell_type": "markdown",
   "id": "e9e78c39",
   "metadata": {},
   "source": [
    "## DBSCAN (Density-based spatial clustering of applications with noise)"
   ]
  },
  {
   "cell_type": "markdown",
   "id": "f91ec617",
   "metadata": {},
   "source": [
    "* based on the idea that a cluster in data space is a contiguous region of high point density, separated from other such clusters by contiguous regions of low point density.\n",
    "* Also uses a distance-based approach to clustering, i.e.  distance to the $k^{th}$ nearest neighbor: <code>k</code> is determined automatically\n",
    "* find the islands of higher density <code>data</code> amid a sea of sparser <code>noise</code>\n",
    "\n",
    "<img src=\"figures/kmeans_vs_dbscan.png\" style=\"width:1000\">\n",
    "<a href=\"https://github.com/NSHipster/DBSCAN\">Matt@GitHub</a>"
   ]
  },
  {
   "cell_type": "markdown",
   "id": "ff4b11fa",
   "metadata": {},
   "source": [
    "### Different types of points:\n",
    "* <code>Core</code> — This is a point that has at least m points within distance n from itself.\n",
    "* <code>Border</code> — This is a point that has at least one Core point at a distance n.\n",
    "* <code>Noise</code> — This is a point that is neither a Core nor a Border. And it has less than m points within distance n from itself.\n",
    "\n",
    "<img src=\"figures/dbscan_core.png\" style=\"width:800\">\n",
    "<a href=\"https://www.kdnuggets.com/2020/04/dbscan-clustering-algorithm-machine-learning.html\">Chauhan, 2022<a>"
   ]
  },
  {
   "cell_type": "markdown",
   "id": "be294973",
   "metadata": {},
   "source": [
    "### Algorithmic steps for DBSCAN clustering\n",
    "\n",
    "1. The algorithm proceeds by arbitrarily picking up a point in the dataset (until all points have been visited).\n",
    "2. If there are at least <code>min_samples</code> points within a radius of ‘ε’ to the point then we consider all these points to be part of the same cluster.\n",
    "3. The clusters are then expanded by recursively repeating the neighborhood calculation for each neighboring point\n",
    "\n",
    "<img src=\"figures/dbscan_in_action.gif\" style=\"width:1000px\">\n",
    "<a href=\"https://www.kdnuggets.com/2020/04/dbscan-clustering-algorithm-machine-learning.html\">Chauhan, 2022<a>"
   ]
  },
  {
   "cell_type": "markdown",
   "id": "9874c6db",
   "metadata": {},
   "source": [
    "### Key Hyperparameters:"
   ]
  },
  {
   "cell_type": "markdown",
   "id": "1e1acbf7",
   "metadata": {},
   "source": [
    "* <code>min_samples</code>: The minimum numper of samples for a cluster to be considered as such. Rule of thumb -> minimum <code>min_samples ≥ D + 1</code>, where <code>D</code> is the dimensions of the dataset. Larger values (<code>min_samples = 2*D)</code> are usually better for data sets with noise and will yield more significant clusters."
   ]
  },
  {
   "cell_type": "markdown",
   "id": "e13a6d97",
   "metadata": {},
   "source": [
    "* <code>eps</code>: ε (<code>eps</code>) is the maximum distance between two samples for one to be considered as in the neighborhood of the other. In general, small values of ε are preferable, and as a rule of thumb, only a small fraction of points should be within this distance of each other."
   ]
  },
  {
   "cell_type": "markdown",
   "id": "d2a45000",
   "metadata": {},
   "source": [
    "* <code>metric</code>: The choice of distance function (<code>metric</code>) is tightly linked to the choice of ε, and has a major impact on the outcomes. There is no estimation for this parameter, but the distance functions need to be chosen appropriately for the data set."
   ]
  },
  {
   "cell_type": "code",
   "execution_count": null,
   "id": "ce0eaba1",
   "metadata": {},
   "outputs": [],
   "source": [
    "from sklearn.cluster import DBSCAN"
   ]
  },
  {
   "cell_type": "code",
   "execution_count": null,
   "id": "082eff1e",
   "metadata": {},
   "outputs": [],
   "source": [
    "# Fit DBSCAN\n",
    "db_pca = DBSCAN(eps=0.6)\n",
    "db_pca.fit(X_proj_pca)\n",
    "db_umap = DBSCAN(eps=0.61)\n",
    "db_umap.fit(X_umap)"
   ]
  },
  {
   "cell_type": "markdown",
   "id": "ec48a4e4",
   "metadata": {},
   "source": [
    "### DBSCAN projected in PCA and UMAP Space"
   ]
  },
  {
   "cell_type": "code",
   "execution_count": null,
   "id": "bcc8e8f5",
   "metadata": {},
   "outputs": [],
   "source": [
    "multi_plot({'DBSCAN trained on PCA Embedding':db_pca.labels_,'DBSCAN trained on Unsupervised UMAP Embedding':db_umap.labels_,'Actual Labels':y_train.values},fig_title='PCA space',encoder = label_encoder, marker_size=35, \n",
    "           X=pd.DataFrame(X_proj_PC, columns=features),loc=(.8,-.25));\n",
    "multi_plot({'DBSCAN trained on PCA Embedding':db_pca.labels_,'DBSCAN trained on Unsupervised UMAP Embedding':db_umap.labels_,'Actual Labels':y_train.values},fig_title = 'UMAP space', encoder = label_encoder, marker_size=35, \n",
    "           X=pd.DataFrame(X_umap, columns=['UMAP_1','UMAP_2']), loc=(.7,-.25));"
   ]
  },
  {
   "cell_type": "markdown",
   "id": "d5b069e8",
   "metadata": {},
   "source": [
    "### HDBSCAN (Hierarchical DBSCAN)"
   ]
  },
  {
   "cell_type": "markdown",
   "id": "f82e0f65",
   "metadata": {},
   "source": [
    "* More modern varian of <code>DBSCAN</code> \n",
    "* Incorporate some ideas from the algorithm <code>OPTICS</code>\n",
    "* Uses hierarchical clusters, unlike DBSCAN\n",
    "* While DBSCAN needs a minimum cluster size and a distance threshold epsilon as user-defined input parameters, HDBSCAN* is basically a DBSCAN implementation for varying epsilon values and therefore only needs the minimum cluster size as single input parameter.\n",
    "\n",
    "<img src=\"figures/hdbscan.png\" style=\"width:1000\">\n",
    "Read the paper for more details:<a href=\"https://link.springer.com/chapter/10.1007/978-3-642-37456-2_14\">Campelo et al, 2013</a>"
   ]
  },
  {
   "cell_type": "code",
   "execution_count": null,
   "id": "04caa3ec",
   "metadata": {},
   "outputs": [],
   "source": [
    "# Fit HDBSCAN\n",
    "from hdbscan import HDBSCAN\n",
    "hdb_pca = HDBSCAN(cluster_selection_method='leaf',cluster_selection_epsilon=0.625)\n",
    "hdb_pca.fit(X_proj_pca)"
   ]
  },
  {
   "cell_type": "markdown",
   "id": "63a8d5c6",
   "metadata": {},
   "source": [
    "### HDBSCAN projected in PCA Space"
   ]
  },
  {
   "cell_type": "code",
   "execution_count": null,
   "id": "e4fb9912",
   "metadata": {},
   "outputs": [],
   "source": [
    "multi_plot({'DBSCAN trained on PCA Embedding':db_pca.labels_,'HDBSCAN trained on PCA Embedding':hdb_pca.labels_,'Actual Labels':y_train.values},fig_title = 'PCA space', encoder = label_encoder, marker_size=35, \n",
    "           X=pd.DataFrame(X_proj_PC, columns=features),loc=(.8,-.25));"
   ]
  },
  {
   "cell_type": "markdown",
   "id": "18c5a2a3",
   "metadata": {},
   "source": [
    "# Outlier (Anomaly) Detection\n",
    "\n",
    "\n",
    "<center><img src=\"figures/DALLE_fish.png\" style=\"width:900px;\">\n",
    " © Cédric John, 2022; Image generated with <a href=\"https://openai.com/blog/dall-e/\">DALL-E</a>\n",
    "    <br>Prompt: <i>a single red fish isolated from a larger school of fish, digital art</i>.</center>"
   ]
  },
  {
   "cell_type": "code",
   "execution_count": null,
   "id": "89e586fa",
   "metadata": {},
   "outputs": [],
   "source": [
    "X_train_outliers = X_train.copy()\n",
    "\n",
    "neg_out = X_train_outliers.min()*2\n",
    "pos_out = X_train_outliers.max()*2\n",
    "\n",
    "X_train_outliers = X_train_outliers.append([neg_out, pos_out], ignore_index=True)\n",
    "\n",
    "X_train_outliers"
   ]
  },
  {
   "cell_type": "markdown",
   "id": "a2649db0",
   "metadata": {},
   "source": [
    "## Once-Class SVM (OCSVM)"
   ]
  },
  {
   "cell_type": "markdown",
   "id": "3e8e019d",
   "metadata": {},
   "source": [
    "One-class SVM is a variation of the SVM that can be used in an unsupervised setting for anomaly detection. There are multiple implementations of this approach (see for instance <a href=\"https://proceedings.neurips.cc/paper/1999/hash/8725fb777f25776ffa9076e44fcfd776-Abstract.html\"> Schölkopt et al, 1999</a>).\n",
    "\n",
    "<img src=\"figures/sphx_glr_plot_oneclass_001.png\" style=\"width:1000\">\n",
    "<a href=\"https://scikit-learn.org/stable/auto_examples/svm/plot_oneclass.html#sphx-glr-auto-examples-svm-plot-oneclass-py\">From Scikit-Learn Documentation</a>"
   ]
  },
  {
   "cell_type": "markdown",
   "id": "131788da",
   "metadata": {},
   "source": [
    "* A regular SVM for classification finds a max-margin hyperplane that seperates the positive examples from the negative ones. "
   ]
  },
  {
   "cell_type": "markdown",
   "id": "0cb265f6",
   "metadata": {},
   "source": [
    "* The one-class SVM simply finds the hyperplane at the center of mass of the dataset: if the data is standardized (zero mean and unit variance) this hyperplane will go through the origin."
   ]
  },
  {
   "cell_type": "markdown",
   "id": "8c7e53ff",
   "metadata": {},
   "source": [
    "* A new hyperparameter, <code>nu</code>, determines the fraction of samples furthest away from the boundary that should be considered as outliers"
   ]
  },
  {
   "cell_type": "markdown",
   "id": "a8c5d808",
   "metadata": {},
   "source": [
    "#### Some of Important Parameters:\n",
    "* <code>kernel</code>: as with SVM (linear, rbf, etc..)\n",
    "* <code>nu</code>: Controls the fraction of sample considered as outliers (distance from the margin)"
   ]
  },
  {
   "cell_type": "code",
   "execution_count": null,
   "id": "a74c3445",
   "metadata": {},
   "outputs": [],
   "source": [
    "from sklearn.svm import OneClassSVM\n",
    "\n",
    "ocsvm = OneClassSVM().fit_predict(X_train_outliers)"
   ]
  },
  {
   "cell_type": "code",
   "execution_count": null,
   "id": "2ea5b5bb",
   "metadata": {},
   "outputs": [],
   "source": [
    "fig, ax = plt.subplots(1,1,figsize=(12, 8))\n",
    "ax.scatter(X_train_outliers.culmen_depth_mm, X_train_outliers.flipper_length_mm, c=ocsvm, cmap=cm); \n",
    "ax.set_xlabel('culmen_depth_mm', size=16);ax.set_ylabel('flipper_length_mm', size=16);"
   ]
  },
  {
   "cell_type": "markdown",
   "id": "00ac3fbb",
   "metadata": {},
   "source": [
    "### Adjusted <code>nu</code> for 5% outliers"
   ]
  },
  {
   "cell_type": "code",
   "execution_count": null,
   "id": "77e2e27c",
   "metadata": {},
   "outputs": [],
   "source": [
    "ocsvm = OneClassSVM(nu=0.95 * 0.01 +0.05).fit_predict(X_train_outliers)\n",
    "fig, ax = plt.subplots(1,1,figsize=(12, 8))\n",
    "ax.scatter(X_train_outliers.culmen_depth_mm, X_train_outliers.flipper_length_mm, c=ocsvm, cmap=cm); \n",
    "ax.set_xlabel('culmen_depth_mm', size=16);ax.set_ylabel('flipper_length_mm', size=16);"
   ]
  },
  {
   "cell_type": "markdown",
   "id": "36190280",
   "metadata": {},
   "source": [
    "## Isolation Forest (IFOR)\n",
    "\n",
    "Adaptation of the <code>RandomForest</code> classifier.\n",
    "<img src=\"figures/ifor1.png\" style=\"width:1200px\">\n",
    "<a href=\"https://machinelearninggeek.com/outlier-detection-using-isolation-forests/\">Pandley, 2020</a>"
   ]
  },
  {
   "cell_type": "markdown",
   "id": "a32b4907",
   "metadata": {},
   "source": [
    "**Principle:** If data points end up in their own groups closer to the root of the tree, they are more different than the rest of the data: potential outlier."
   ]
  },
  {
   "cell_type": "markdown",
   "id": "f49526d2",
   "metadata": {},
   "source": [
    "#### Anomaly Score:\n",
    "<img src=\"figures/ifor_score.png\">\n",
    "From <a href=\"https://engineering.teknasyon.com/what-are-isolation-forests-151d8e98ef5f\">Kin, 2022</a>\n",
    "\n",
    "* h(x): path length of observation x\n",
    "* c(n): average path length of failed search of binary search tree and number of external nodes "
   ]
  },
  {
   "cell_type": "markdown",
   "id": "0884446a",
   "metadata": {},
   "source": [
    "#### Some of Important Parameters:\n",
    "* <code>Contamination</code>: It’s the most important parameter of IFOR. The amount of contamination of the data set, i.e. the proportion of outliers in the data set. It defines the threshold on the scores of the samples.\n",
    "* <code>n_estimators</code>: The number of base estimators in ensemble. Default value is 100."
   ]
  },
  {
   "cell_type": "code",
   "execution_count": null,
   "id": "97738cb4",
   "metadata": {},
   "outputs": [],
   "source": [
    "from sklearn.ensemble import IsolationForest\n",
    "\n",
    "ifor = IsolationForest()"
   ]
  },
  {
   "cell_type": "code",
   "execution_count": null,
   "id": "7281bbc6",
   "metadata": {},
   "outputs": [],
   "source": [
    "outlier_prediction = ifor.fit_predict(X_train_outliers)"
   ]
  },
  {
   "cell_type": "code",
   "execution_count": null,
   "id": "95179107",
   "metadata": {},
   "outputs": [],
   "source": [
    "fig, ax = plt.subplots(1,1,figsize=(12, 8))\n",
    "ax.scatter(X_train_outliers.culmen_depth_mm, X_train_outliers.flipper_length_mm, c=outlier_prediction, cmap=cm); \n",
    "ax.set_xlabel('culmen_depth_mm', size=16);ax.set_ylabel('flipper_length_mm', size=16);"
   ]
  },
  {
   "cell_type": "markdown",
   "id": "b59efc11",
   "metadata": {},
   "source": [
    "### Adjusting <code>contamination</code> to reflect 1% of the samples"
   ]
  },
  {
   "cell_type": "code",
   "execution_count": null,
   "id": "509e76a0",
   "metadata": {},
   "outputs": [],
   "source": [
    "ifor_tuned = IsolationForest(random_state=5, contamination=.01)\n",
    "outlier_prediction2 = ifor_tuned.fit_predict(X_train_outliers)\n",
    "fig, ax = plt.subplots(1,1,figsize=(12, 8))\n",
    "ax.scatter(X_train_outliers.culmen_depth_mm, X_train_outliers.flipper_length_mm, c=outlier_prediction2, cmap=cm); \n",
    "ax.set_xlabel('culmen_depth_mm', size=16);ax.set_ylabel('flipper_length_mm', size=16);"
   ]
  },
  {
   "cell_type": "markdown",
   "id": "2875bfb3",
   "metadata": {},
   "source": [
    "## Using HDBSCAN <code>outlier_scores_</code>"
   ]
  },
  {
   "cell_type": "markdown",
   "id": "c2ca9359",
   "metadata": {},
   "source": [
    "<code>HDBSCAN</code> is based on the ***density*** of the datapoints in a hypervolume. The distance of each datapoint from a data high-density region can be turned into an <code>outlier score</code>."
   ]
  },
  {
   "cell_type": "code",
   "execution_count": null,
   "id": "2d4a3a73",
   "metadata": {},
   "outputs": [],
   "source": [
    "hdbscan_od = HDBSCAN().fit(X_train_outliers)\n",
    "\n",
    "fig, ax = plt.subplots(1,1,figsize=(12, 8))\n",
    "cm = plt.cm.get_cmap('RdYlBu')\n",
    "im = ax.scatter(X_train_outliers.culmen_depth_mm, X_train_outliers.flipper_length_mm,c=hdbscan_od.outlier_scores_, cmap=cm); \n",
    "ax.set_xlabel('culmen_depth_mm', size=16);ax.set_ylabel('flipper_length_mm', size=16);\n",
    "plt.colorbar(im, label='Outlier Score');"
   ]
  },
  {
   "cell_type": "markdown",
   "id": "0e26f3f3",
   "metadata": {},
   "source": [
    "## Conclusions on anomaly detection:"
   ]
  },
  {
   "cell_type": "markdown",
   "id": "ff8452de",
   "metadata": {},
   "source": [
    "*  🧿 Anomaly is a judgement call: an outlier can still be a valid point"
   ]
  },
  {
   "cell_type": "markdown",
   "id": "540a6d46",
   "metadata": {},
   "source": [
    "*  💣 Whether a point is considered an outlier or not is highly dependent on the model selected and the choice of hyperparameter (**no silver bullet!**)"
   ]
  },
  {
   "cell_type": "markdown",
   "id": "cb5c90ab",
   "metadata": {},
   "source": [
    "*  🔮 Always a good idea to combine several methods (**Ensemble**) to determine whether or not the datapoint is truly an outlier."
   ]
  },
  {
   "cell_type": "markdown",
   "id": "fcadc274",
   "metadata": {},
   "source": [
    "# Suggested Resources"
   ]
  },
  {
   "cell_type": "markdown",
   "id": "2c4fb571",
   "metadata": {},
   "source": [
    "## 📺 Videos \n",
    "* 📼 <a href=\"https://youtu.be/12Xq9OLdQwQ\">Anomaly Detection: Algorithms, Explanations, Applications</a>, long lecture (> 1 hour) by Tom Dietterich, 2018"
   ]
  },
  {
   "cell_type": "markdown",
   "id": "eca233d8",
   "metadata": {},
   "source": [
    "## 📚 Further Reading \n",
    "* 📖 <a href=\"https://serokell.io/blog/anomaly-detection-in-machine-learning\">What Is Anomaly Detection in Machine Learning?</a> by Yulia Gavrilova, 2021\n",
    "* 📖 <a href=\"https://pair-code.github.io/understanding-umap/\">Understanding UMAP</a> by Andy Coenen and Adam Pearce, Google PAIR\n",
    "* 📖 <a href=\"https://towardsdatascience.com/t-sne-clearly-explained-d84c537f53a\">t-SNE clearly explained</a> by Kemal Erdem, 2020\n"
   ]
  }
 ],
 "metadata": {},
 "nbformat": 4,
 "nbformat_minor": 5
}
