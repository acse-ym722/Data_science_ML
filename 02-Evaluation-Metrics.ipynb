{
 "cells": [
  {
   "cell_type": "markdown",
   "id": "a94c4aef",
   "metadata": {},
   "source": [
    "<center><h1 style=\"color:maroon\">Performance Metrics</h1>\n",
    "<img src=\"figures/02_performance_metric.jpeg\" style=\"width:1300px;\">\n",
    "    <h3><span style=\"color: #045F5F\">Data Science & Machine Learning for Planet Earth Lecture Series</span></h3><h6><i> by Cédric M. John <span style=\"size:6pts\">(2022)</span></i></h6></center>"
   ]
  },
  {
   "cell_type": "markdown",
   "id": "e380aa7c",
   "metadata": {},
   "source": [
    "## Plan for today's Lecture 🗓\n",
    "* Baseline score\n",
    "* Regression Metrics\n",
    "* Classification Metrics\n",
    "* ROC-AUC"
   ]
  },
  {
   "cell_type": "markdown",
   "id": "91157fa3",
   "metadata": {},
   "source": [
    "## Intended learning outcomes 👩‍🎓\n",
    "* Confidently choose the right evaluation metric\n",
    "* Compare different model performance\n",
    "* Use different metrics in CrossValidation\n",
    "* Use of KNN for classification and regression"
   ]
  },
  {
   "cell_type": "markdown",
   "id": "d3e070a9",
   "metadata": {},
   "source": [
    "# Baseline Score\n"
   ]
  },
  {
   "cell_type": "markdown",
   "id": "3caa90c0",
   "metadata": {},
   "source": [
    "Evaluation metrics are used to compare different iteration of a model, or different models against another.<br>"
   ]
  },
  {
   "cell_type": "markdown",
   "id": "3be1066c",
   "metadata": {},
   "source": [
    "We start with a baseline score for the initial model utilizing very simple strategies for prediction:\n",
    "* **Classification**: Predicts a random (balanced) or most frequent (imbalanced) class\n",
    "* **Regression**: Predicts a central tendency measure e.g. mean, median or mode"
   ]
  },
  {
   "cell_type": "markdown",
   "id": "d7b50838",
   "metadata": {},
   "source": [
    "Today's dataset for regression: <a href=\"https://www.kaggle.com/aungpyaeap/fish-market\">Kaggle fish market dataset</a>.\n",
    "<img src=\"figures/fish_dataset.png\" style=\"width:1300px;\">"
   ]
  },
  {
   "cell_type": "code",
   "execution_count": null,
   "id": "9c0b4287",
   "metadata": {},
   "outputs": [],
   "source": [
    "%reload_ext autoreload\n",
    "%autoreload 2"
   ]
  },
  {
   "cell_type": "code",
   "execution_count": null,
   "id": "c6b127a6",
   "metadata": {},
   "outputs": [],
   "source": [
    "%matplotlib notebook\n",
    "from ipywidgets import interact, IntSlider, FloatSlider\n",
    "import numpy as np\n",
    "import matplotlib as mpl\n",
    "\n",
    "import matplotlib.pyplot as plt\n",
    "from matplotlib.patches import Polygon\n",
    "import seaborn as sns\n",
    "import pandas as pd\n",
    "\n",
    "data = pd.read_csv('data/fish.csv')\n",
    "data.head()"
   ]
  },
  {
   "cell_type": "code",
   "execution_count": null,
   "id": "db3994e8",
   "metadata": {},
   "outputs": [],
   "source": [
    "from sklearn.model_selection import train_test_split\n",
    "\n",
    "# Prepare X and y\n",
    "X = data[['Length1', 'Length2', 'Length3', 'Height', 'Width']]\n",
    "y = data['Weight']\n",
    "\n",
    "\n",
    "X_train, X_test, y_train, y_test = train_test_split(X, y,\n",
    "                                                    test_size = 0.3, \n",
    "                                                    random_state = 6) # Holdout"
   ]
  },
  {
   "cell_type": "markdown",
   "id": "0a44d127",
   "metadata": {},
   "source": [
    "## 💻 Regression baseline"
   ]
  },
  {
   "cell_type": "code",
   "execution_count": null,
   "id": "b5e942fe",
   "metadata": {},
   "outputs": [],
   "source": [
    "from sklearn.model_selection import train_test_split\n",
    "\n",
    "# Prepare X and y\n",
    "X = data[['Length1', 'Length2', 'Length3', 'Height', 'Width']]\n",
    "y = data['Weight']\n",
    "\n",
    "\n",
    "X_train, X_test, y_train, y_test = train_test_split(X, y,\n",
    "                                                    test_size = 0.3, \n",
    "                                                    random_state = 6) # Holdout"
   ]
  },
  {
   "cell_type": "code",
   "execution_count": null,
   "id": "225436bb",
   "metadata": {},
   "outputs": [],
   "source": [
    "from sklearn.dummy import DummyRegressor\n",
    "\n",
    "dummy_model = DummyRegressor(strategy=\"mean\") # Baseline\n",
    "\n",
    "dummy_model.fit(X_train, y_train) # Calculate value for strategy\n",
    "dummy_model.score(X_test, y_test) # Score model based on consistently predicting the strategy"
   ]
  },
  {
   "cell_type": "code",
   "execution_count": null,
   "id": "ebcb1840",
   "metadata": {},
   "outputs": [],
   "source": [
    "from sklearn.linear_model import LinearRegression\n",
    "\n",
    "baseline_model = LinearRegression().fit(X_train, y_train) # instantiate and fit model \n",
    "\n",
    "baseline_model.score(X_test, y_test) # Score model"
   ]
  },
  {
   "cell_type": "markdown",
   "id": "7a8b53cc",
   "metadata": {},
   "source": [
    "### Why use a dummy model?\n",
    "* Scikit-learn objects can be chained within data pipelines\n",
    "* Move rapidly through each step of pipeline construction\n",
    "* Obstacles can be identifed downstream more quickly\n",
    "* Actual model can be substituted later in the pipeline\n"
   ]
  },
  {
   "cell_type": "markdown",
   "id": "4d20abff",
   "metadata": {},
   "source": [
    "# Regression Metrics\n",
    "<br>\n",
    "\n",
    "<center><img src=\"figures/DALLE_regression.png\" style=\"width:900px;\">\n",
    " © Cédric John, 2022; Image generated with <a href=\"https://openai.com/blog/dall-e/\">DALL-E</a>\n",
    "<br>Prompt: <i>four cute little bears standing in a row and sorted from left to right from tallest to shortest, digital art</i>.</center>"
   ]
  },
  {
   "cell_type": "markdown",
   "id": "d6b70155",
   "metadata": {},
   "source": [
    "### Measuring a *distance* between y and $\\hat{y}$"
   ]
  },
  {
   "cell_type": "markdown",
   "id": "0ac65c92",
   "metadata": {},
   "source": [
    "\n",
    " <img src=\"figures/distance_metrics.png\" style=\"width:800px;\">\n",
    "<a href=https://towardsdatascience.com/9-distance-measures-in-data-science-918109d069fa>Grootendorf, 2021</a>\n"
   ]
  },
  {
   "cell_type": "markdown",
   "id": "898f5d82",
   "metadata": {},
   "source": [
    "### Mean Squared Error (MSE)\n",
    "$$\\text{MSE} = {\\frac{1}{n} \\sum_{i = 1}^{n} (y_i - \\hat y_i)^2}$$"
   ]
  },
  {
   "cell_type": "markdown",
   "id": "86242f89",
   "metadata": {},
   "source": [
    "### Root Mean squared error (RMSE)\n",
    "$$\\text{RMSE} = \\sqrt{ \\frac{1}{n} \\sum_{i = 1}^{n} (y_i - \\hat y_i)^2 }$$\n"
   ]
  },
  {
   "cell_type": "markdown",
   "id": "92b0deba",
   "metadata": {},
   "source": [
    "### Mean absolute error\n",
    "* Less sensitive to outliers\n",
    "$$\\text{MAE} = \\frac{1}{n} \\sum_{i=1}^{n} |y_i - \\hat{y_i}|$$\n"
   ]
  },
  {
   "cell_type": "markdown",
   "id": "1340af9d",
   "metadata": {},
   "source": [
    "### Max Error\n",
    "$$ ME = \\max_{i=1}^{n} |y_i - \\hat{y_i}|$$\n"
   ]
  },
  {
   "cell_type": "markdown",
   "id": "e2e9f13f",
   "metadata": {},
   "source": [
    "### Coefficient of determination $R^2$\n",
    "$$ R^2 = 1 - \\frac{\\sum_{i=1}^{n}(y_i - \\hat{y_i})^2}{\\sum_{i=1}^{n}(y_i - \\overline{y})^2}$$"
   ]
  },
  {
   "cell_type": "markdown",
   "id": "8ed861ce",
   "metadata": {},
   "source": [
    "## Choosing the right regression metric"
   ]
  },
  {
   "cell_type": "markdown",
   "id": "ed3e99e2",
   "metadata": {},
   "source": [
    "* 👉 Use MSE when you need to penalize large errors / sign of error not important"
   ]
  },
  {
   "cell_type": "markdown",
   "id": "a695e532",
   "metadata": {},
   "source": [
    "* 👉 Use RMSE when you want to penalize large errors, but see it in the unit of the target."
   ]
  },
  {
   "cell_type": "markdown",
   "id": "b1194fdb",
   "metadata": {},
   "source": [
    "* 👉 Use MAE when all errors, large or small, have equal importance."
   ]
  },
  {
   "cell_type": "markdown",
   "id": "38a1dcdc",
   "metadata": {},
   "source": [
    "* 👉 Use Max Error when you want to limit the magnitude of the errors."
   ]
  },
  {
   "cell_type": "markdown",
   "id": "c8c388cd",
   "metadata": {},
   "source": [
    "* 👉 Use $R^{2}$ when you want a general/comparable performance metric / units not required."
   ]
  },
  {
   "cell_type": "markdown",
   "id": "449aab2a",
   "metadata": {},
   "source": [
    "## 💻 Metrics in Sklearn"
   ]
  },
  {
   "cell_type": "code",
   "execution_count": null,
   "id": "84495ae8",
   "metadata": {},
   "outputs": [],
   "source": [
    "from sklearn.metrics import mean_squared_error, mean_absolute_error, r2_score, max_error\n",
    "import math\n",
    "\n",
    "y_pred = baseline_model.predict(X_test)\n",
    "\n",
    "mse = mean_squared_error(y_test, y_pred)\n",
    "\n",
    "rmse = math.sqrt(mse)\n",
    "\n",
    "mae = mean_absolute_error(y_test, y_pred)\n",
    "\n",
    "rsquared = r2_score(y_test, y_pred)\n",
    "\n",
    "max_error = max_error(y_test, y_pred)\n",
    "\n",
    "print('MSE =', round(mse, 2))\n",
    "print('RMSE =', round(rmse, 2))\n",
    "print('MAE =', round(mae, 2))\n",
    "print('R2 =', round(rsquared, 2))\n",
    "print('Max Error =', round(max_error, 2))"
   ]
  },
  {
   "cell_type": "markdown",
   "id": "ae94d379",
   "metadata": {},
   "source": [
    "🚨There is no standardized value for Mean Square Error, Root Mean Square Error and Mean Abosulte Error. Scores will be relative to the magnitude of the units within the dataset\n"
   ]
  },
  {
   "cell_type": "markdown",
   "id": "8b77a1cd",
   "metadata": {},
   "source": [
    "### 💻 Metrics during Cross-validation\n",
    "* A metric of choice can be specified directly with algorithms.\n",
    "* If <code>scoring</code> is not set, the model's default scoring metric is used."
   ]
  },
  {
   "cell_type": "code",
   "execution_count": null,
   "id": "3c3be855",
   "metadata": {},
   "outputs": [],
   "source": [
    "from sklearn.model_selection import cross_validate\n",
    "# 5-Fold Cross validate model\n",
    "model = LinearRegression()\n",
    "cv_results = cross_validate(model, X_train, y_train, cv=5, \n",
    "                            scoring=['max_error',\n",
    "                                     'r2', \n",
    "                                     'neg_mean_absolute_error',\n",
    "                                     'neg_mean_squared_error']\n",
    "                           )\n",
    "pd.DataFrame(cv_results) # Cross validation output\n",
    "\n"
   ]
  },
  {
   "cell_type": "code",
   "execution_count": null,
   "id": "fc797e59",
   "metadata": {},
   "outputs": [],
   "source": [
    "\n",
    "cv_results['test_r2'].mean()# Cross validation results\n",
    "\n"
   ]
  },
  {
   "cell_type": "markdown",
   "id": "878c6166",
   "metadata": {},
   "source": [
    "# Classification Metrics\n",
    "<br>\n",
    "\n",
    "<center><img src=\"figures/DALLE_classification.png\" style=\"width:900px;\">\n",
    " © Cédric John, 2022; Image generated with <a href=\"https://openai.com/blog/dall-e/\">DALL-E</a>\n",
    "<br>Prompt: <i>\"four different species of colorful flowers sorted by color\" by Paul Kleh</i>.</center>"
   ]
  },
  {
   "cell_type": "markdown",
   "id": "23472b79",
   "metadata": {},
   "source": [
    "**<span style=\"color:teal\">Dataset for regression today:</span>** <a href=\"https://archive.ics.uci.edu/ml/datasets/wine\">UCI Wine Dataset</a>\n",
    "<img src=\"figures/wines.png\" width=\"800\"/>"
   ]
  },
  {
   "cell_type": "code",
   "execution_count": null,
   "id": "00c3476a",
   "metadata": {},
   "outputs": [],
   "source": [
    "import pandas as pd\n",
    "\n",
    "data = pd.read_csv('data/wines_binary.csv')\n",
    "\n",
    "data"
   ]
  },
  {
   "cell_type": "code",
   "execution_count": null,
   "id": "ba39076d",
   "metadata": {},
   "outputs": [],
   "source": [
    "y = data['is_good_quality']\n",
    "X = data.drop(columns=['is_good_quality'])\n",
    "\n",
    "X_train, X_test, y_train, y_test = train_test_split(X,y, train_size=0.9)"
   ]
  },
  {
   "cell_type": "code",
   "execution_count": null,
   "id": "a520d5b5",
   "metadata": {},
   "outputs": [],
   "source": [
    "from sklearn.preprocessing import MinMaxScaler\n",
    "\n",
    "scaler = MinMaxScaler().fit(X_train)\n",
    "\n",
    "X_train = scaler.transform(X_train)\n",
    "X_test = scaler.transform(X_test)"
   ]
  },
  {
   "cell_type": "code",
   "execution_count": null,
   "id": "3c4cb91f",
   "metadata": {},
   "outputs": [],
   "source": [
    "from sklearn.linear_model import LogisticRegression\n",
    "\n",
    "model = LogisticRegression(max_iter=1000).fit(X_train, y_train)"
   ]
  },
  {
   "cell_type": "code",
   "execution_count": null,
   "id": "a732715a",
   "metadata": {},
   "outputs": [],
   "source": [
    "y_pred = model.predict(X_test)\n",
    "y_prob = model.predict_proba(X_test) \n",
    "y_prob"
   ]
  },
  {
   "cell_type": "markdown",
   "id": "b815ba10",
   "metadata": {},
   "source": [
    "## Two possible correct outcomes for binary classification\n",
    " <img src=\"figures/matrix_TP_TN.png\" style=\"width:720px\">"
   ]
  },
  {
   "cell_type": "markdown",
   "id": "7e15fd8e",
   "metadata": {},
   "source": [
    "* **True Negative (TN):** A member of the negative (<span style=\"color:red\">0</span>) class correctly identified"
   ]
  },
  {
   "cell_type": "markdown",
   "id": "1ff77d67",
   "metadata": {},
   "source": [
    "* **True Positive (TP):** A member of the positive (<span style=\"color:blue\">1</span>) class correctly identified"
   ]
  },
  {
   "cell_type": "markdown",
   "id": "1086f7b4",
   "metadata": {},
   "source": [
    "## Two possible Errors\n",
    " <img src=\"figures/matrix_FP_FN.png\" style=\"width:720px\">"
   ]
  },
  {
   "cell_type": "markdown",
   "id": "5f4e47ae",
   "metadata": {},
   "source": [
    "* **False Negative (FN):** A member of the positive (<span style=\"color:blue\">1</span>) class identified as negative (<span style=\"color:red\">0</span>) (aka ***Type I Error***)"
   ]
  },
  {
   "cell_type": "markdown",
   "id": "41069b66",
   "metadata": {},
   "source": [
    "* **False Positive (FP):** A member of the negative (<span style=\"color:red\">0</span>) class identified as positive (<span style=\"color:blue\">1</span>) (aka ***Type II Error***)"
   ]
  },
  {
   "cell_type": "markdown",
   "id": "df37c613",
   "metadata": {},
   "source": [
    "### Confusion Matrix\n",
    "<img src=\"figures/confusion_matrix.png\" style=\"width:720px\">"
   ]
  },
  {
   "cell_type": "markdown",
   "id": "f67ad0bf",
   "metadata": {},
   "source": [
    "* **Correct Values** on one of the two diagonals, matrix can be larger for multiclass classifications"
   ]
  },
  {
   "cell_type": "markdown",
   "id": "b68e3a0b",
   "metadata": {},
   "source": [
    "* **Often plotted with number of samples** or precentage of sample in each quadrant"
   ]
  },
  {
   "cell_type": "markdown",
   "id": "66a81cc3",
   "metadata": {},
   "source": [
    "* **Generally plotted as a heatmap** where the color represents the abundance in each quandrant (not here)"
   ]
  },
  {
   "cell_type": "markdown",
   "id": "771eb041",
   "metadata": {},
   "source": [
    "## Accuracy\n",
    "Sum of the correct predictions divided by the sum of the overall number of predictions\n",
    "$$\\text{accuracy} = \\frac{TP + TN}{TP + TN + FP + FN}$$\n"
   ]
  },
  {
   "cell_type": "markdown",
   "id": "ffadd764",
   "metadata": {},
   "source": [
    "![cm](figures/cm_accuracy_1.png)\n",
    "$\\text{accuracy} = \\frac{4 + 3}{4 + 3 + 2 + 1} = 0.7$\n"
   ]
  },
  {
   "cell_type": "markdown",
   "id": "4c51b953",
   "metadata": {},
   "source": [
    "### Limitations of accuracy\n",
    "![cm](figures/cm_accuracy_2.png)\n"
   ]
  },
  {
   "cell_type": "markdown",
   "id": "e8e4a0bd",
   "metadata": {},
   "source": [
    "$accuracy = \\frac{TP + TN}{TP + TN + FP + FN} = \\frac{0 + 99}{0 + 99 + 1 + 0} = 0.99$"
   ]
  },
  {
   "cell_type": "markdown",
   "id": "ad101693",
   "metadata": {},
   "source": [
    "🚨Using accuracy alone can give overly confident scores, especially when dealing with imbalanced datasets🚨"
   ]
  },
  {
   "cell_type": "markdown",
   "id": "0d2d9856",
   "metadata": {},
   "source": [
    "## Balancing datasets\n",
    "<img src=\"figures/data_preprocessing.png\" width=\"1500\"/>"
   ]
  },
  {
   "cell_type": "markdown",
   "id": "cb4db029",
   "metadata": {},
   "source": [
    "### Why balancing?\n",
    "* ML algorithms learn by example \n",
    "* Will tend to predict under represented class poorly \n",
    "* ~30:70 split for binary classification would be considered imbalanced \n"
   ]
  },
  {
   "cell_type": "markdown",
   "id": "e62d20e1",
   "metadata": {},
   "source": [
    "### Oversampling or Undersampling \n",
    "Duplicating instances of the minority class or sampling down the majority class.\n",
    "![balancing](figures/balancing.png)\n",
    "<a href=\"https://www.kaggle.com/rafjaa/resampling-strategies-for-imbalanced-datasets#t1\">Alencar, 2017</a>\n"
   ]
  },
  {
   "cell_type": "markdown",
   "id": "e7eb73c0",
   "metadata": {},
   "source": [
    "* 🚨 Oversampling can cause data leakage between training and testing."
   ]
  },
  {
   "cell_type": "markdown",
   "id": "99354f06",
   "metadata": {},
   "source": [
    " \n",
    "* Only use balancing techniques on the training set."
   ]
  },
  {
   "cell_type": "markdown",
   "id": "efd91cff",
   "metadata": {},
   "source": [
    "* We want to keep our test set as representative of real life as possible."
   ]
  },
  {
   "cell_type": "markdown",
   "id": "7fac25dc",
   "metadata": {},
   "source": [
    "## Synthetic Minority Over-sampling TEchnique - SMOTE \n",
    "SMOTE is an oversampling algorithm that generates new minority instances from existing minority instances based on linear combinations of existing points.\n",
    "<img src=\"figures/SMOTE.png\" style=\"width=1200px\">\n",
    "<a href=\"https://iq.opengenus.org/smote-for-imbalanced-dataset/\">Source: Maheshwari / OpenGenus</a>\n"
   ]
  },
  {
   "cell_type": "markdown",
   "id": "7265c0d2",
   "metadata": {},
   "source": [
    "### 👷 How SMOTE works:\n",
    "**1.** Using KNN find <span style=\"color:teal\">***k-nearest neighbors***</span> of minority sample"
   ]
  },
  {
   "cell_type": "markdown",
   "id": "d2622946",
   "metadata": {},
   "source": [
    "**2.** Generate **<span style=\"color:teal\">*m* synthetic samples</span>** at random on the hyperplane defined by the *k-neighbors*"
   ]
  },
  {
   "cell_type": "markdown",
   "id": "05e2f417",
   "metadata": {},
   "source": [
    "## Recall\n",
    "Measures the ability of the model to detect occurrences of a class.\n",
    "$$recall = \\frac{TP}{TP + FN}$$\n"
   ]
  },
  {
   "cell_type": "markdown",
   "id": "4fbf2433",
   "metadata": {},
   "source": [
    "![cm](figures/cm_accuracy_1.png)\n",
    "$\\text{recall=}\\frac{4}{4 + 1}=0.8$<br>"
   ]
  },
  {
   "cell_type": "markdown",
   "id": "1c283bad",
   "metadata": {},
   "source": [
    "### Limitations of recall"
   ]
  },
  {
   "cell_type": "markdown",
   "id": "c1ddb1bd",
   "metadata": {},
   "source": [
    "![cm](figures/cm_recall_2.png)"
   ]
  },
  {
   "cell_type": "markdown",
   "id": "ba397783",
   "metadata": {},
   "source": [
    "$recall = \\frac{TP}{TP + FN} = \\frac{27}{27 + 3} = 0.89$"
   ]
  },
  {
   "cell_type": "markdown",
   "id": "dad3ea6d",
   "metadata": {},
   "source": [
    "* A lot of false positive acceptable for task such as cancer identification\n",
    "* But could also be terrible for a smoke alarm\n"
   ]
  },
  {
   "cell_type": "markdown",
   "id": "f1708278",
   "metadata": {},
   "source": [
    "## Precision\n",
    "Measures the ability of a model to correctly identify TPs.\n",
    "$$precision = \\frac{TP}{TP + FP}$$"
   ]
  },
  {
   "cell_type": "markdown",
   "id": "bf6873c3",
   "metadata": {},
   "source": [
    "![cm](figures/cm_accuracy_1.png)\n",
    "$\\text{precision}=\\frac{4}{4 + 2} = 0.67$<br>"
   ]
  },
  {
   "cell_type": "markdown",
   "id": "9e728957",
   "metadata": {},
   "source": [
    "### Limitations of precision"
   ]
  },
  {
   "cell_type": "markdown",
   "id": "76fe57f5",
   "metadata": {},
   "source": [
    "![cm](figures/cm_precision_1.png)\n"
   ]
  },
  {
   "cell_type": "markdown",
   "id": "ac71aa48",
   "metadata": {},
   "source": [
    "$\\text{precision} = \\frac{TP}{TP + FP} = \\frac{356}{356 + 44} = 0.89$"
   ]
  },
  {
   "cell_type": "markdown",
   "id": "cb2fb509",
   "metadata": {},
   "source": [
    "$\\text{recall} = \\frac{TP}{TP + FN} = \\frac{356}{356 + 900} = 0.28$"
   ]
  },
  {
   "cell_type": "markdown",
   "id": "9c1ced03",
   "metadata": {},
   "source": [
    "### Other metrics similar to precision and recall:\n",
    "\n",
    "* Recall = <span style=\"color:blue\">True positive rate</span> = sensitivity = $\\frac{TP}{TP + FN}$\n",
    "* Specificity = $\\frac{TN}{FP + TN}$<br>\n",
    "* <span style=\"color:red\">False positive rate</span> = (1-specificity) = $\\frac{FP}{FP + TN}$<br>"
   ]
  },
  {
   "cell_type": "markdown",
   "id": "e4de9c92",
   "metadata": {},
   "source": [
    "## $F_1-score$\n",
    "A combination of precision and recall into a single metric.\n",
    "$$F_1=2x\\frac{precision \\times recall}{precision + recall}$$"
   ]
  },
  {
   "cell_type": "markdown",
   "id": "6edf11c2",
   "metadata": {},
   "source": [
    "* Also known as the harmonic mean of precision and recall\n",
    "* It will be influenced more by the lower of the two values"
   ]
  },
  {
   "cell_type": "markdown",
   "id": "45721a27",
   "metadata": {},
   "source": [
    "![cm](figures/cm_accuracy_1.png)\n",
    "$\\text{F}_1\\text{ score}=2 ·\\frac{0.67 \\times 0.8}{0.67 + 0.8} = 0.73$<br>\n"
   ]
  },
  {
   "cell_type": "markdown",
   "id": "514a690a",
   "metadata": {},
   "source": [
    "## What each metric gives you"
   ]
  },
  {
   "cell_type": "markdown",
   "id": "daee54e7",
   "metadata": {},
   "source": [
    "* 👉 Use **Accuracy** when you have balanced classes and predicting each class is important"
   ]
  },
  {
   "cell_type": "markdown",
   "id": "80913260",
   "metadata": {},
   "source": [
    "* 👉 Use **Recall** when it is important to identify as many occurences of a class as possible."
   ]
  },
  {
   "cell_type": "markdown",
   "id": "1c503bbc",
   "metadata": {},
   "source": [
    "* 👉 Use **Precision** when it is important to correctly identify the positive class."
   ]
  },
  {
   "cell_type": "markdown",
   "id": "096c311b",
   "metadata": {},
   "source": [
    "* 👉 Use **$F_{1}$** when you want a generic metric to compare across models and dataset"
   ]
  },
  {
   "cell_type": "markdown",
   "id": "64cb9d95",
   "metadata": {},
   "source": [
    "## 💻 Classification metrics in Sklearn"
   ]
  },
  {
   "cell_type": "code",
   "execution_count": null,
   "id": "57f77074",
   "metadata": {},
   "outputs": [],
   "source": [
    "from sklearn.metrics import accuracy_score, precision_score, recall_score, f1_score\n",
    "\n",
    "print('Accuracy =', round(accuracy_score(y_test, y_pred), 2)) # Accuracy\n",
    "\n",
    "print('Precision =', round(precision_score(y_test, y_pred), 2)) # Precision\n",
    "\n",
    "print('Recall =', round(recall_score(y_test, y_pred), 2)) # Recall\n",
    "\n",
    "print('F1 score =', round(f1_score(y_test, y_pred), 2)) # F1 score\n",
    "\n"
   ]
  },
  {
   "cell_type": "markdown",
   "id": "855209ab",
   "metadata": {},
   "source": [
    "# Decision Threshold\n",
    "<br>\n",
    "\n",
    "<center><img src=\"figures/DALLE_threshold.png\" style=\"width:900px;\">\n",
    " © Cédric John, 2022; Image generated with <a href=\"https://openai.com/blog/dall-e/\">DALL-E</a>\n",
    "<br>Prompt: <i>A 35 mm photo of a Greek door step painted in vivid blue opening up in a white wall and showing the sea on the horizon</i>.</center>"
   ]
  },
  {
   "cell_type": "markdown",
   "id": "b54aee45",
   "metadata": {},
   "source": [
    "## 🖥 <code>precision_recall_curve</code>\n",
    "The <code>precision_recall_curve</code> let us compare precision and recall for **binary classifiers** across a variety of thresholds.<br>\n",
    "We can use this to find a threshold that guarantees a score for one metric whilst maintaining a minimum score for the other.\n"
   ]
  },
  {
   "cell_type": "markdown",
   "id": "17a471d6",
   "metadata": {},
   "source": [
    "## The Precision-Recall Tradeoff\n",
    "* In **binary classification**: inverse relationship between precision and recall\n",
    "* Typically, we will trade one off against the other"
   ]
  },
  {
   "cell_type": "code",
   "execution_count": null,
   "id": "877e21cd",
   "metadata": {},
   "outputs": [],
   "source": [
    "fig, axes = create_plot();\n",
    "interact(update_plot, threshold=FloatSlider(min=0.01,max=0.99,step=.01,value=.5));"
   ]
  },
  {
   "cell_type": "code",
   "execution_count": null,
   "id": "c01571e4",
   "metadata": {},
   "outputs": [],
   "source": [
    "from sklearn.metrics import PrecisionRecallDisplay, precision_recall_curve\n",
    "\n",
    "fig, ax = plt.subplots(1,1, figsize=(10,7))\n",
    "\n",
    "PrecisionRecallDisplay.from_estimator(model, X_train, y_train, ax=ax);\n",
    "ax.set_ylim(0.5, 1.01)\n",
    "ax.set_xlim(0, 1.01)\n",
    "ax.plot(np.ones(2)*0.8445266468790148,np.linspace(0.5,1.1,2), color='purple', linestyle='--')\n",
    "ax.plot(np.ones(2)*0.8445266468790148,np.linspace(0.5,0.8741316459178761,2), color='grey', linestyle='--')\n",
    "ax.plot(np.linspace(0,0.8445266468790148,2),np.ones(2)*0.8741316459178761, color='grey', linestyle='--');\n",
    "ax.annotate(  f'Threshold = 0.50', (.43,.82), size=12, weight='bold', color='grey')\n",
    "ax.annotate(  f'Precision: 0.84', (.01,.89), size=12, weight='bold', color='blue')\n",
    "ax.annotate(  f'Recall: 0.87', (.65,.52), size=12, weight='bold', color='red');"
   ]
  },
  {
   "cell_type": "markdown",
   "id": "99697870",
   "metadata": {},
   "source": [
    "## 🍷 Adjusting the Threshold\n",
    "What if I have specific requirements for my wine quality? For instance, let's say that I need a classifier that can give me at least a 90% precision on the win quality, with the maximum recall possible."
   ]
  },
  {
   "cell_type": "markdown",
   "id": "78597aa4",
   "metadata": {},
   "source": [
    "We can use the <code>precision_recall_curve</code> tool to identify the best threshold for our requirements."
   ]
  },
  {
   "cell_type": "code",
   "execution_count": null,
   "id": "ba3692be",
   "metadata": {},
   "outputs": [],
   "source": [
    "precision, recall, threshold = precision_recall_curve(y_test, y_prob[:,1])"
   ]
  },
  {
   "cell_type": "code",
   "execution_count": null,
   "id": "bbb0b02f",
   "metadata": {},
   "outputs": [],
   "source": [
    "prc_df = pd.DataFrame(precision,columns=['Precision'])\n",
    "prc_df['Recall'] = recall\n",
    "prc_df"
   ]
  },
  {
   "cell_type": "code",
   "execution_count": null,
   "id": "de2d9ff3",
   "metadata": {},
   "outputs": [],
   "source": [
    "prc_df[prc_df['Precision']>=.9].sort_values('Recall',ascending=False)"
   ]
  },
  {
   "cell_type": "code",
   "execution_count": null,
   "id": "7d158e5e",
   "metadata": {},
   "outputs": [],
   "source": [
    "th_index = prc_df[prc_df['Precision']>=.9].sort_values('Recall',ascending=False).index[0]\n",
    "th_index"
   ]
  },
  {
   "cell_type": "code",
   "execution_count": null,
   "id": "b69e7305",
   "metadata": {},
   "outputs": [],
   "source": [
    " threshold[th_index]"
   ]
  },
  {
   "cell_type": "code",
   "execution_count": null,
   "id": "2e077021",
   "metadata": {},
   "outputs": [],
   "source": [
    "from sklearn.metrics import PrecisionRecallDisplay, precision_recall_curve\n",
    "\n",
    "fig, ax = plt.subplots(1,1, figsize=(10,7))\n",
    "\n",
    "PrecisionRecallDisplay.from_estimator(model, X_train, y_train, ax=ax);\n",
    "ax.plot(np.ones(2)*recall[th_index],np.linspace(0.5,1.1,2), color='purple', linestyle='--')\n",
    "ax.plot(np.ones(2)*recall[th_index],np.linspace(0.5,precision[th_index],2), color='orange', linestyle='--')\n",
    "ax.plot(np.linspace(0,recall[th_index],2),np.ones(2)*precision[th_index], color='orange', linestyle='--');\n",
    "ax.annotate(  f'Adjusted threshold = {threshold[th_index]:.02}', (.35,.85), size=12, weight='bold', color='orange')\n",
    "ax.annotate(  f'Precision: 0.9', (.01,.91), size=12, weight='bold', color='blue')\n",
    "ax.annotate(  f'Recall: 0.81', (.6,.52), size=12, weight='bold', color='red')\n",
    "ax.set_ylim(0.5, 1.01)\n",
    "ax.set_xlim(0, 1.01);"
   ]
  },
  {
   "cell_type": "markdown",
   "id": "234fa835",
   "metadata": {},
   "source": [
    "## Receiver-Operator Curve Area Under the Curve (ROC-AUC)"
   ]
  },
  {
   "cell_type": "code",
   "execution_count": null,
   "id": "74ebe70b",
   "metadata": {},
   "outputs": [],
   "source": [
    "x = interact(draw_roc_plot, select=IntSlider(min=1,max=7,step=1,value=1));"
   ]
  },
  {
   "cell_type": "markdown",
   "id": "0f8242dc",
   "metadata": {},
   "source": [
    "## 🍷  ROC-AUC for our wine classifier"
   ]
  },
  {
   "cell_type": "markdown",
   "id": "60a40392",
   "metadata": {},
   "source": [
    "* Unlike F1, recall, precision and accuracy- AUC is not dependent on a threshold chosen\n",
    "* This makes it a great metric for measuring a models general performance 💪"
   ]
  },
  {
   "cell_type": "code",
   "execution_count": null,
   "id": "153b7a83",
   "metadata": {},
   "outputs": [],
   "source": [
    "from sklearn.metrics import roc_curve\n",
    "from sklearn.metrics import roc_auc_score\n",
    "\n",
    "# Compute AUC score\n",
    "auc_score = roc_auc_score(y_test, y_pred)\n",
    "auc_score"
   ]
  },
  {
   "cell_type": "code",
   "execution_count": null,
   "id": "15146d27",
   "metadata": {},
   "outputs": [],
   "source": [
    "from sklearn.neighbors import KNeighborsClassifier\n",
    "\n",
    "knn = KNeighborsClassifier().fit(X_train, y_train)\n",
    "\n",
    "y_pred_knn = knn.predict(X_test)\n",
    "y_prob_knn = knn.predict_proba(X_test)"
   ]
  },
  {
   "cell_type": "code",
   "execution_count": null,
   "id": "edb27740",
   "metadata": {},
   "outputs": [],
   "source": [
    "auc_score_knn = roc_auc_score(y_test, y_pred_knn)\n",
    "auc_score_knn"
   ]
  },
  {
   "cell_type": "code",
   "execution_count": null,
   "id": "a362e7ad",
   "metadata": {},
   "outputs": [],
   "source": [
    "# Compute AUC score\n",
    "fpr_lr, tpr_lr, thresholds_lr = roc_curve(y_test, y_prob[:,1], drop_intermediate=False)\n",
    "fpr_knn, tpr_knn, thresholds_knn = roc_curve(y_test, y_prob_knn[:,1], drop_intermediate=False)"
   ]
  },
  {
   "cell_type": "code",
   "execution_count": null,
   "id": "a0e9d985",
   "metadata": {},
   "outputs": [],
   "source": [
    "fig, ax = plt.subplots(1,1,figsize=(8,8))\n",
    "\n",
    "ax.plot(fpr_lr, tpr_lr, label='Logistic Regression', linewidth=2)\n",
    "ax.plot(fpr_knn, tpr_knn, label='KNN classifier', linewidth=2)\n",
    "ax.plot(np.linspace(0,1,5), np.linspace(0,1,5), color='k',linestyle='--')\n",
    "ax.set_xlabel('FPR')\n",
    "ax.set_ylabel('TPR')\n",
    "ax.legend();"
   ]
  },
  {
   "cell_type": "markdown",
   "id": "c25039a8",
   "metadata": {},
   "source": [
    "## K-Nearest Neighbors (KNN)\n",
    "K-Nearest Neighbors (KNN) is a non-linear, distance based model capable of solving both Regression and Classification tasks.<br><br>"
   ]
  },
  {
   "cell_type": "markdown",
   "id": "70dd7398",
   "metadata": {},
   "source": [
    "* Looks at <code>K</code> closest samples to make a prediction"
   ]
  },
  {
   "cell_type": "markdown",
   "id": "b0f50a60",
   "metadata": {},
   "source": [
    "* Up to us to determine <code>K</code> (hyperparameter)"
   ]
  },
  {
   "cell_type": "markdown",
   "id": "ad7636cd",
   "metadata": {},
   "source": [
    "* No hyperparameters are trained: instead, the **entire training dataset** is kept in memory and compared to for each prediction"
   ]
  },
  {
   "cell_type": "markdown",
   "id": "dd8012c4",
   "metadata": {},
   "source": [
    "### Calculate distance from sample\n",
    "<img align=\"center\" src=\"./figures/knn.png\" width=\"1200\"/>\n",
    "<a href=https://link.springer.com/chapter/10.1007/978-981-16-3342-3_10>Suddarao et al (2022)</a>\n"
   ]
  },
  {
   "cell_type": "markdown",
   "id": "5d0d6e91",
   "metadata": {},
   "source": [
    "## KNN decisions\n",
    "**Majority vote for classification:**\n",
    "* For <code>k=6</code> Class A (4 vs 1)\n",
    "* For <code>k=3</code> Class B (1 vs 2)\n",
    "<img align=\"center\" src=\"./figures/knn.png\" width=\"800\"/>\n",
    "<a href=https://link.springer.com/chapter/10.1007/978-981-16-3342-3_10>Suddarao et al (2022)</a>\n"
   ]
  },
  {
   "cell_type": "markdown",
   "id": "3b5d6f5a",
   "metadata": {},
   "source": [
    "**Average value for regression:**\n",
    "* For <code>k=6</code> average 6 values\n",
    "* For <code>k=3</code> average 3 values\n",
    "\n",
    "<img align=\"center\" src=\"./figures/knn.png\" width=\"800\"/>\n",
    "<a href=https://link.springer.com/chapter/10.1007/978-981-16-3342-3_10>Suddarao et al (2022)</a>"
   ]
  },
  {
   "cell_type": "markdown",
   "id": "e4a5ff1a",
   "metadata": {},
   "source": [
    "## Let's try it!"
   ]
  },
  {
   "cell_type": "code",
   "execution_count": null,
   "id": "c9f9b5d8",
   "metadata": {},
   "outputs": [],
   "source": [
    "from sklearn.neighbors import KNeighborsClassifier\n",
    "\n",
    "knn_model = KNeighborsClassifier()\n",
    "\n",
    "knn_model.fit(X_train, y_train_cat)"
   ]
  },
  {
   "cell_type": "code",
   "execution_count": null,
   "id": "7deb73e4",
   "metadata": {},
   "outputs": [],
   "source": [
    "scores = cross_val_score(knn_model, X_train, y_train_cat, cv=10)\n",
    "\n",
    "scores.mean()\n"
   ]
  },
  {
   "cell_type": "markdown",
   "id": "8c53a753",
   "metadata": {},
   "source": [
    "## Choosing k\n",
    "The optimal 𝑘 will vary from dataset to dataset.\n",
    "* Lower k values, less observations to use to make a prediction, prone to overfitting\n",
    "* Higher k values, signal can be diluted, prone to underfitting\n",
    "* <code>sklearn</code> default is 5"
   ]
  },
  {
   "cell_type": "markdown",
   "id": "d0621427",
   "metadata": {},
   "source": [
    "# Suggested Resources"
   ]
  },
  {
   "cell_type": "markdown",
   "id": "c98618e9",
   "metadata": {},
   "source": [
    "## 📺 Videos \n",
    "#### Short videos from my Undegraduate Machine Learning Classes:\n",
    "\n",
    "* 📼 <a href=\"https://youtu.be/wZc0N3TOX_Y?list=PLZzjCZ3QdgQCcRIwQdd-_cJNAUgiEBB_n\">Types of Machine Learning</a>\n",
    "* 📼 <a href=\"https://youtu.be/Ij9s_eSC5C4?list=PLZzjCZ3QdgQCcRIwQdd-_cJNAUgiEBB_n\">Performance Metrics in Classification</a>"
   ]
  },
  {
   "cell_type": "markdown",
   "id": "5f26789f",
   "metadata": {},
   "source": [
    "## 📚 Further Reading \n",
    "* 📖 <a href=\"https://pubs.acs.org/doi/10.1021/acs.jcim.1c00160#\">GHOST: Adjusting the Decision Threshold to Handle Imbalanced Data in Machine Learning</a> by Esposito et al., 2021\n",
    "* 📖 <a href=\"https://towardsdatascience.com/how-to-add-decision-threshold-tuning-to-your-end-to-end-ml-pipelines-7077b82b71a\">How to add Decision Threshold tuning to your end to end ML pipelines</a> by Jerome Kafrouni, 2021\n",
    "* 📖 <a  href=\"https://developers.google.com/machine-learning/crash-course/classification/roc-and-auc\">The ROC Curve</a> by Google Developers"
   ]
  },
  {
   "cell_type": "code",
   "execution_count": null,
   "id": "a5cd1eea",
   "metadata": {},
   "outputs": [],
   "source": [
    "# RUN THIS CELL TO LOAD GRAPHIC GENERATING FUNCTION\n",
    "\n",
    "\n",
    "%matplotlib notebook\n",
    "from ipywidgets import interact, IntSlider, FloatSlider\n",
    "import numpy as np\n",
    "import matplotlib as mpl\n",
    "\n",
    "import matplotlib.pyplot as plt\n",
    "from matplotlib.patches import Polygon\n",
    "import seaborn as sns\n",
    "\n",
    "import pandas as pd\n",
    "from sklearn.metrics import precision_score, accuracy_score, recall_score, f1_score\n",
    "\n",
    "\n",
    "\n",
    "\n",
    "def sigmoid(x):\n",
    "    return 1/(1+np.exp(-x))\n",
    "\n",
    "def calculate_proba(x, threshold):\n",
    "    data = np.linspace(-5, 5, num=11)\n",
    "    true_class = [0,0,1, 0, 0, 1, 0, 1, 0, 1, 1]\n",
    "    proba = sigmoid(data)\n",
    "    predictions = [1 if p  >= threshold else 0 for p in proba]\n",
    "    \n",
    "    return (data, true_class, proba, predictions)\n",
    "    \n",
    "\n",
    "def calculate_matrix(predictions, true_class):\n",
    "    cf_data = list(zip(predictions, true_class))\n",
    "    tp = sum([1 if d==(1, 1) else 0 for d in cf_data])\n",
    "    tn = sum([1 if d==(0, 0) else 0 for d in cf_data])\n",
    "    fp = sum([1 if d==(1, 0) else 0 for d in cf_data])\n",
    "    fn = sum([1 if d==(0, 1) else 0 for d in cf_data])\n",
    "    \n",
    "    #array = [[tp,fp],[tn,fn]]\n",
    "    array = [[1,2],[3,4]]\n",
    "    \n",
    "    df_cm = pd.DataFrame(array, index = ['Negative', 'Positive'],\n",
    "                  columns = ['Negative', 'Positive'])\n",
    "    \n",
    "    annotations = pd.DataFrame([[f'TN\\n{tn}',f'FP\\n{fp}'],[f'FN\\n{fn}',f'TP\\n{tp}' ]])\n",
    "    return df_cm, annotations\n",
    "\n",
    "def calculate_metrics(predictions, true_class):\n",
    "    precision = precision_score(true_class, predictions,zero_division=0)\n",
    "    recall = recall_score(true_class, predictions)\n",
    "    f1 = f1_score(true_class, predictions)\n",
    "    accuracy = accuracy_score(true_class, predictions)\n",
    "    return  precision, recall, accuracy, f1\n",
    "\n",
    "def update_original(threshold = 0.5):\n",
    "    data, true_class, proba, predictions = calculate_proba(x, threshold)\n",
    "    df_cm = calculate_matrix(predictions, true_class)\n",
    "    \n",
    "    axes[0][1].clear()\n",
    "    axes[1][0].clear()\n",
    "    sn.heatmap(df_cm, annot=True, ax=axes[0][1],cbar=False, cmap='Purples')\n",
    "    threshold_line.set_ydata()\n",
    "    metrics = calculate_metrics(predictions, true_class)\n",
    "    \n",
    "    axes[1][0].barh(['Precision','Recall'],metrics)\n",
    "    \n",
    "    fig.canvas.draw_idle()\n",
    "  \n",
    "def create_plot(threshold = 0.5):\n",
    "    \n",
    "    fig, axes = plt.subplots(2,2, figsize=(10, 10))\n",
    "    draw_plot(axes, threshold)\n",
    "    \n",
    "    return fig, axes\n",
    "\n",
    "def separate_classes(data, true_class, predictions, proba):\n",
    "    all_data = zip(data, true_class, predictions, proba)\n",
    "    \n",
    "    tp = []\n",
    "    tn = []\n",
    "    fp = []\n",
    "    fn = []\n",
    "    \n",
    "    for d in all_data:\n",
    "        if d[1] == d[2] and d[1] == 0:\n",
    "            tn.append(d) \n",
    "        if d[1] == d[2] and d[1] == 1:\n",
    "            tp.append(d) \n",
    "        if d[1] != d[2] and d[1] == 1:\n",
    "            fn.append(d) \n",
    "        if d[1] != d[2] and d[1] == 0:\n",
    "            fp.append(d) \n",
    "    \n",
    "    return {'tp':tp, 'tn':tn, 'fp':fp, 'fn':fn}\n",
    "        \n",
    "\n",
    "def draw_plot(axes, threshold):\n",
    "    x = np.linspace(-6, 6)\n",
    "    data, true_class, proba, predictions = calculate_proba(x, threshold)\n",
    "    label_font = {'size':'12', 'weight':'bold'}\n",
    "    \n",
    "    classes = separate_classes(data, true_class, predictions, proba)\n",
    "    \n",
    "    axes[0][0].axhspan(-.18, threshold, facecolor='dimgrey', alpha=0.2)\n",
    "    axes[0][0].axhspan(threshold, 1.18, facecolor='powderblue', alpha=0.2)\n",
    "    \n",
    "    sigmoid_curve, = axes[0][0].plot(x, sigmoid(x))\n",
    "    threshold_line, = axes[0][0].plot(x, np.ones(len(x))*threshold, c='r', linestyle='--')\n",
    "    axes[0][0].set_xlim(-6,6)\n",
    "    axes[0][0].set_ylim(-.18,1.18)\n",
    "    axes[0][0].set_xlabel(\"Feature Space\", fontdict=label_font)\n",
    "    axes[0][0].set_ylabel(\"Probability\", fontdict=label_font)\n",
    "    \n",
    "\n",
    "    \n",
    "    \n",
    "    axes[0][0].tick_params(\n",
    "        axis='x',          # changes apply to the x-axis\n",
    "        which='both',      # both major and minor ticks are affected\n",
    "        bottom=False,      # ticks along the bottom edge are off\n",
    "        top=False,         # ticks along the top edge are off\n",
    "        labelbottom=False)\n",
    "    \n",
    "    #axes[0][0] = axes[0][0].scatter(data, sigmoid(data), marker = symbols, s=400, c=true_class)\n",
    "    \n",
    "    colors = {'tp':'darkorchid', 'tn':'mediumpurple', 'fp':'lightcoral', 'fn':'lightsalmon'}\n",
    "    \n",
    "    for k, v in classes.items():\n",
    "        if k == 'tp' or k == 'fn':\n",
    "            m = 's'\n",
    "            s = 300\n",
    "        else:\n",
    "            m = 'o'\n",
    "            s = 400\n",
    "        c = colors.get(k)\n",
    "        \n",
    "        values = np.array([d[0] for d in v])\n",
    "        \n",
    "        axes[0][0].scatter(values,sigmoid(values), marker=m,s=s, color=c)\n",
    "    \n",
    "    precision, recall, accuracy, f1 = calculate_metrics(predictions, true_class)\n",
    "        \n",
    "    axes[1][0].barh(['Precision','Recall'],[precision, recall], color=['darkgreen','coral'])\n",
    "    axes[1][1].barh(['Accuracy','F1-Score'],[accuracy, f1], color=['mediumturquoise','plum'])\n",
    "    axes[1][1].yaxis.set_label_position(\"right\")\n",
    "    axes[1][1].yaxis.tick_right()\n",
    "    \n",
    "    axes[1][1].annotate(  f'{f1:.02}', (f1/2, 1), size=12, weight='bold', color='white')\n",
    "    axes[1][1].annotate(f'{accuracy:.01%}', (accuracy/2, 0),size=12, weight='bold', color='white')\n",
    "    axes[1][0].annotate(  f'{precision:.01%}', (precision/2, 0), size=12, weight='bold', color='white')\n",
    "    axes[1][0].annotate(f'{recall:.01%}', (recall/2, 1),size=12, weight='bold', color='white')\n",
    "    \n",
    "    axes[1][0].set_xlim(0,1)\n",
    "    axes[1][1].set_xlim(0,1)\n",
    "    df_cm, annotations = calculate_matrix(predictions, true_class)\n",
    "    \n",
    "    #create a discrete color mapping\n",
    "    colors = ['darkorchid', 'lightcoral','lightsalmon','mediumpurple']\n",
    "    levels = [0,1,2,3,4]\n",
    "    cmap, norm = mpl.colors.from_levels_and_colors(levels=levels, colors=colors)\n",
    "\n",
    "    cfm = sns.heatmap(df_cm,square=True, annot=annotations,fmt='', \n",
    "                      ax=axes[0][1],cbar=False, linewidth=.5, linecolor='k',\n",
    "                      annot_kws={\"size\": 14,'weight':'bold'}, cmap=cmap)\n",
    "    \n",
    "    axes[0][1].set_xlabel('Predicted labels', fontdict=label_font);\n",
    "    axes[0][1].set_ylabel('Actual labels', fontdict=label_font);\n",
    "    \n",
    "    \n",
    "    \n",
    "    \n",
    "    \n",
    "    return None\n",
    "\n",
    "def update_plot(threshold = 0.5):\n",
    "    \n",
    "    for ax in axes.flatten():\n",
    "        ax.clear()\n",
    "    \n",
    "    draw_plot(axes, threshold)\n",
    "    \n",
    "    fig.canvas.draw_idle()\n",
    "    \n",
    "\n",
    "\n",
    "def draw_roc_plot(select=5, auc=False, compare=False):\n",
    "    \n",
    "    fpr= np.array([0,.03,.06,.11,.2,.3,.5,1])\n",
    "    tpr =np.array([0,.3,.55,.8,.9,.95,.98,1])\n",
    "    ratio = tpr[1:]/fpr[1:]\n",
    "    text_y_pos = [0,0.01,.2, .35, .4, .45, .6, .5]\n",
    "    \n",
    "    fig, ax = plt.subplots(1,1,figsize=(8,8))\n",
    "    \n",
    "    if auc or compare:\n",
    "        pts = np.array(list(zip(fpr,tpr))+[[1,0]])\n",
    "        p = Polygon(pts, closed=False, color='gold', alpha=.2)\n",
    "        ax.add_patch(p)\n",
    "        ax.annotate(  f'AUC = 0.79', (.4, 0.93), size=20, weight='bold', color='maroon');\n",
    "    else:\n",
    "        ax.plot(np.ones(5)*fpr[select], np.linspace(0,tpr[select],5), color='gold',alpha=.2, linestyle='-', linewidth=40);\n",
    "        ax.annotate(  f'TPR/FPR: {ratio[select-1]:.01f}', (fpr[select]-.01,text_y_pos[select]), size=16,rotation=90, weight='bold', color='maroon');\n",
    "    \n",
    "    if compare:\n",
    "        fpr_b= np.array([0,.031,.09,.15,.23,.4,.6,1])\n",
    "        tpr_b =np.array([0,.2,.5,.6,.71,.85,.91,1])\n",
    "        pts = np.array(list(zip(fpr_b,tpr_b))+[[1,0]])\n",
    "        p = Polygon(pts, closed=False, color='darkgreen', alpha=.5)\n",
    "        ax.add_patch(p)\n",
    "        ax.annotate(  f'AUC = 0.68', (.4, 0.75), size=20, weight='bold', color='white');\n",
    "        ax.plot(fpr_b, tpr_b, color='b');\n",
    "        ax.scatter(fpr_b, tpr_b, color='b', s=180);\n",
    "        \n",
    "        \n",
    "        \n",
    "    ax.plot(fpr, tpr, color='k');\n",
    "    ax.scatter(fpr, tpr, color='k', s=180);\n",
    "    ax.plot(np.linspace(0,1,5), np.linspace(0,1,5), color='r', linestyle='--');\n",
    "    label_font = {'size':'12', 'weight':'bold'}\n",
    "    ax.set_xlabel('False Positive Rate\\n(1-Specificity)',fontdict=label_font);\n",
    "    ax.set_ylabel('True Positive Rate\\n(Sensitivity/Recall)',fontdict=label_font);\n",
    "    ax.set_xlim(0, 1.02);\n",
    "    ax.set_ylim(0, 1.02);\n",
    "    return None  "
   ]
  }
 ],
 "metadata": {},
 "nbformat": 4,
 "nbformat_minor": 5
}
